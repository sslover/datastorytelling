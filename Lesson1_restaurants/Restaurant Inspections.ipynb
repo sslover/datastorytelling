{
 "metadata": {
  "name": ""
 },
 "nbformat": 3,
 "nbformat_minor": 0,
 "worksheets": [
  {
   "cells": [
    {
     "cell_type": "heading",
     "level": 2,
     "metadata": {},
     "source": [
      "Restaurant Inspection Analysis"
     ]
    },
    {
     "cell_type": "markdown",
     "metadata": {},
     "source": [
      "For today's project, we'll be using public restaurant inspection data from New York City. Specifically, we'll be looking at all inspection scores for _hamburger_ restaurants (yes, this is a category of restaurants).\n",
      "\n",
      "First, let's load the data."
     ]
    },
    {
     "cell_type": "code",
     "collapsed": false,
     "input": [
      "restaurant_data = mlab.csv2rec(\"data/hamburgers.txt\")"
     ],
     "language": "python",
     "metadata": {},
     "outputs": [],
     "prompt_number": 86
    },
    {
     "cell_type": "markdown",
     "metadata": {},
     "source": [
      "...and let's take a look at the first row.\n",
      "\n",
      "If we look at the raw data file, the headers are:"
     ]
    },
    {
     "cell_type": "raw",
     "metadata": {},
     "source": [
      "\"CAMIS\",\"DBA\",\"BORO\",\"BUILDING\",\"STREET\",\"ZIPCODE\",\"PHONE\",\"CUISINECODE\",\"INSPDATE\",\"ACTION\",\"VIOLCODE\",\"SCORE\",\"CURRENTGRADE\",\"GRADEDATE\",\"RECORDDATE\""
     ]
    },
    {
     "cell_type": "code",
     "collapsed": false,
     "input": [
      "restaurant_data[0]"
     ],
     "language": "python",
     "metadata": {},
     "outputs": [
      {
       "metadata": {},
       "output_type": "pyout",
       "prompt_number": 87,
       "text": [
        "(30112340, \"WENDY'S\", 3, '469', 'FLATBUSH AVENUE', 11225, 7182875005, 39, datetime.datetime(2013, 4, 30, 0, 0), 'D', '10F', 12, 'A', datetime.date(2013, 4, 30), datetime.datetime(2013, 8, 30, 1, 1, 8, 80000))"
       ]
      }
     ],
     "prompt_number": 87
    },
    {
     "cell_type": "code",
     "collapsed": false,
     "input": [
      "scores = []\n",
      "for restaurant in restaurant_data:\n",
      "    scores.append(restaurant[11])\n",
      "#     print restaurant[1]\n",
      "#     print restaurant[11]\n",
      "#     print restaurant[12]\n"
     ],
     "language": "python",
     "metadata": {},
     "outputs": [],
     "prompt_number": 88
    },
    {
     "cell_type": "markdown",
     "metadata": {},
     "source": [
      "Now, let's get a sense of the data."
     ]
    },
    {
     "cell_type": "code",
     "collapsed": false,
     "input": [
      "# give me scores from 0 to 10\n",
      "scores[0:10]"
     ],
     "language": "python",
     "metadata": {},
     "outputs": [
      {
       "metadata": {},
       "output_type": "pyout",
       "prompt_number": 89,
       "text": [
        "[12, 8, 2, 13, 13, 7, 13, 13, 13, 13]"
       ]
      }
     ],
     "prompt_number": 89
    },
    {
     "cell_type": "code",
     "collapsed": false,
     "input": [
      "min(scores)"
     ],
     "language": "python",
     "metadata": {},
     "outputs": [
      {
       "metadata": {},
       "output_type": "pyout",
       "prompt_number": 90,
       "text": [
        "-1"
       ]
      }
     ],
     "prompt_number": 90
    },
    {
     "cell_type": "code",
     "collapsed": false,
     "input": [
      "max(scores)"
     ],
     "language": "python",
     "metadata": {},
     "outputs": [
      {
       "metadata": {},
       "output_type": "pyout",
       "prompt_number": 91,
       "text": [
        "98"
       ]
      }
     ],
     "prompt_number": 91
    },
    {
     "cell_type": "code",
     "collapsed": false,
     "input": [
      "plt.plot(scores)"
     ],
     "language": "python",
     "metadata": {},
     "outputs": [
      {
       "metadata": {},
       "output_type": "pyout",
       "prompt_number": 92,
       "text": [
        "[<matplotlib.lines.Line2D at 0x107d87bd0>]"
       ]
      },
      {
       "metadata": {},
       "output_type": "display_data",
       "png": "[encoded data removed]",
       "text": [
        "<matplotlib.figure.Figure at 0x107d7dc90>"
       ]
      }
     ],
     "prompt_number": 92
    },
    {
     "cell_type": "markdown",
     "metadata": {},
     "source": [
      "Well, that's not useful!"
     ]
    },
    {
     "cell_type": "code",
     "collapsed": false,
     "input": [
      "n, bins, patches = pyplot.hist(scores)"
     ],
     "language": "python",
     "metadata": {},
     "outputs": [
      {
       "metadata": {},
       "output_type": "display_data",
       "png": "[encoded data removed]",
       "text": [
        "<matplotlib.figure.Figure at 0x107d93150>"
       ]
      }
     ],
     "prompt_number": 93
    },
    {
     "cell_type": "code",
     "collapsed": false,
     "input": [
      "bins"
     ],
     "language": "python",
     "metadata": {},
     "outputs": [
      {
       "metadata": {},
       "output_type": "pyout",
       "prompt_number": 94,
       "text": [
        "array([ -1. ,   8.9,  18.8,  28.7,  38.6,  48.5,  58.4,  68.3,  78.2,\n",
        "        88.1,  98. ])"
       ]
      }
     ],
     "prompt_number": 94
    },
    {
     "cell_type": "markdown",
     "metadata": {},
     "source": [
      "That's much more interesting.\n",
      "\n",
      "If you look at the restaurant evaluation documentation, you'll find this:\n",
      "\n",
      "\"Restaurants with a score between 0 and 13 points earn an A, those with 14 to 27 points receive a B and those with 28\n",
      "or more a C. Inspection results are posted on the Health Department\u2019s website.\""
     ]
    },
    {
     "cell_type": "code",
     "collapsed": false,
     "input": [
      "n"
     ],
     "language": "python",
     "metadata": {},
     "outputs": [
      {
       "metadata": {},
       "output_type": "pyout",
       "prompt_number": 95,
       "text": [
        "array([ 1517.,  3556.,  1946.,   783.,   359.,   128.,    62.,    27.,\n",
        "          23.,    13.])"
       ]
      }
     ],
     "prompt_number": 95
    },
    {
     "cell_type": "code",
     "collapsed": false,
     "input": [
      "patches"
     ],
     "language": "python",
     "metadata": {},
     "outputs": [
      {
       "metadata": {},
       "output_type": "pyout",
       "prompt_number": 96,
       "text": [
        "<a list of 10 Patch objects>"
       ]
      }
     ],
     "prompt_number": 96
    },
    {
     "cell_type": "code",
     "collapsed": false,
     "input": [
      "for record in restaurant_data:\n",
      "    if record[11] == 98:\n",
      "        print record\n",
      "        break"
     ],
     "language": "python",
     "metadata": {},
     "outputs": [
      {
       "output_type": "stream",
       "stream": "stdout",
       "text": [
        "(41094277, \"JIMBO'S HAMBURGER PLACE\", 2, '690', 'MELROSE AVENUE', 10455, 7182928032, 39, datetime.datetime(2010, 9, 17, 0, 0), 'F', '04L', 98, '', datetime.date(1, 1, 1), datetime.datetime(2013, 8, 30, 1, 1, 8, 80000))\n"
       ]
      }
     ],
     "prompt_number": 97
    },
    {
     "cell_type": "markdown",
     "metadata": {},
     "source": [
      "<img src=\"https://lh4.googleusercontent.com/-kI9HkFrcgAA/UbiCiXsCoCI/AAAAAAAACSg/HxKeqEb9W0g/s512/2013-06-12\" style=\"float:right;margin:10px;\" />\n",
      "\n",
      "We've found the worst (for some value of \"worst\") burger joint in Manhattan."
     ]
    },
    {
     "cell_type": "code",
     "collapsed": false,
     "input": [
      "numpy.median(scores)"
     ],
     "language": "python",
     "metadata": {},
     "outputs": [
      {
       "metadata": {},
       "output_type": "pyout",
       "prompt_number": 98,
       "text": [
        "15.0"
       ]
      }
     ],
     "prompt_number": 98
    },
    {
     "cell_type": "code",
     "collapsed": false,
     "input": [
      "# numpy.mean(scores) # we have two options for calculating the mean. since our data is a list, we can use the mean function...\n",
      "\n",
      "scores = numpy.asarray(scores) # ...or we can convert the data to a numpy array\n",
      "scores.mean() #... which comes with some special powers"
     ],
     "language": "python",
     "metadata": {},
     "outputs": [
      {
       "metadata": {},
       "output_type": "pyout",
       "prompt_number": 99,
       "text": [
        "18.208462086997862"
       ]
      }
     ],
     "prompt_number": 99
    },
    {
     "cell_type": "markdown",
     "metadata": {},
     "source": [
      "What does this mean and median tell us?\n",
      "\n",
      "[this is the part where I rant, in class, about averages.]"
     ]
    },
    {
     "cell_type": "code",
     "collapsed": false,
     "input": [
      "scores.var()"
     ],
     "language": "python",
     "metadata": {},
     "outputs": [
      {
       "metadata": {},
       "output_type": "pyout",
       "prompt_number": 100,
       "text": [
        "173.0772946873557"
       ]
      }
     ],
     "prompt_number": 100
    },
    {
     "cell_type": "code",
     "collapsed": false,
     "input": [
      "numpy.std(scores)"
     ],
     "language": "python",
     "metadata": {},
     "outputs": [
      {
       "metadata": {},
       "output_type": "pyout",
       "prompt_number": 101,
       "text": [
        "13.155884412967291"
       ]
      }
     ],
     "prompt_number": 101
    },
    {
     "cell_type": "markdown",
     "metadata": {},
     "source": [
      "Let's talk about variance and [standard deviation](http://en.wikipedia.org/wiki/Standard_deviation)!\n",
      "\n",
      "Now, for comparison, let's play with some random data."
     ]
    },
    {
     "cell_type": "code",
     "collapsed": false,
     "input": [
      "import scipy\n",
      "\n",
      "random_data = scipy.randn(1000)"
     ],
     "language": "python",
     "metadata": {},
     "outputs": [],
     "prompt_number": 102
    },
    {
     "cell_type": "code",
     "collapsed": false,
     "input": [
      "plt.plot(random_data)"
     ],
     "language": "python",
     "metadata": {},
     "outputs": [
      {
       "metadata": {},
       "output_type": "pyout",
       "prompt_number": 103,
       "text": [
        "[<matplotlib.lines.Line2D at 0x107531f10>]"
       ]
      },
      {
       "metadata": {},
       "output_type": "display_data",
       "png": "[encoded data removed]",
       "text": [
        "<matplotlib.figure.Figure at 0x1072957d0>"
       ]
      }
     ],
     "prompt_number": 103
    },
    {
     "cell_type": "code",
     "collapsed": false,
     "input": [
      "random_data.mean()"
     ],
     "language": "python",
     "metadata": {},
     "outputs": [
      {
       "metadata": {},
       "output_type": "pyout",
       "prompt_number": 104,
       "text": [
        "0.016636360508309619"
       ]
      }
     ],
     "prompt_number": 104
    },
    {
     "cell_type": "code",
     "collapsed": false,
     "input": [
      "random_data.var()"
     ],
     "language": "python",
     "metadata": {},
     "outputs": [
      {
       "metadata": {},
       "output_type": "pyout",
       "prompt_number": 105,
       "text": [
        "0.98129976334996005"
       ]
      }
     ],
     "prompt_number": 105
    },
    {
     "cell_type": "code",
     "collapsed": false,
     "input": [
      "random_data.std()"
     ],
     "language": "python",
     "metadata": {},
     "outputs": [
      {
       "metadata": {},
       "output_type": "pyout",
       "prompt_number": 106,
       "text": [
        "0.99060575576258392"
       ]
      }
     ],
     "prompt_number": 106
    },
    {
     "cell_type": "code",
     "collapsed": false,
     "input": [
      "plt.hist(random_data)"
     ],
     "language": "python",
     "metadata": {},
     "outputs": [
      {
       "metadata": {},
       "output_type": "pyout",
       "prompt_number": 107,
       "text": [
        "(array([   6.,   16.,   75.,  169.,  253.,  210.,  159.,   80.,   25.,    7.]),\n",
        " array([-3.14594845, -2.51422304, -1.88249763, -1.25077221, -0.6190468 ,\n",
        "        0.01267861,  0.64440402,  1.27612943,  1.90785485,  2.53958026,\n",
        "        3.17130567]),\n",
        " <a list of 10 Patch objects>)"
       ]
      },
      {
       "metadata": {},
       "output_type": "display_data",
       "png": "[encoded data removed]",
       "text": [
        "<matplotlib.figure.Figure at 0x10753c390>"
       ]
      }
     ],
     "prompt_number": 107
    },
    {
     "cell_type": "code",
     "collapsed": false,
     "input": [
      "from scipy import stats\n",
      "\n",
      "n, min_max, mean, var, skew, kurt = stats.describe(random_data)\n",
      "print n # num of items in database\n",
      "print min_max # min and max values\n",
      "print mean # average\n",
      "print var #variance\n",
      "print skew # biased to one side or another\n",
      "print kurt"
     ],
     "language": "python",
     "metadata": {},
     "outputs": [
      {
       "output_type": "stream",
       "stream": "stdout",
       "text": [
        "1000\n",
        "(-3.145948450388321, 3.1713056695387492)\n",
        "0.0166363605083\n",
        "0.982282045395\n",
        "0.0834672184373\n",
        "-0.0624209215661\n"
       ]
      }
     ],
     "prompt_number": 108
    },
    {
     "cell_type": "markdown",
     "metadata": {},
     "source": [
      "There are so many questions to ask!\n",
      "\n",
      " * Where should I go to get burgers near NYU?\n",
      " * How do burger restaurant scores compare, overall, to Japanese restaurants? Why might this be?\n",
      " * Are there any cuisines for which the variance of scores is very high? Why do you think that might be the case?\n",
      " * Most hygenic food? borough? \n",
      " * Least hygenic food? borough? What to avoid?\n",
      " * Most common violation?\n",
      " * Most common violation present in the worst culprits? Most common violation in the best performing?\n",
      " * Do vegan restaurants perform better?"
     ]
    },
    {
     "cell_type": "markdown",
     "metadata": {},
     "source": [
      "Where should I go to get burgers near NYU?"
     ]
    },
    {
     "cell_type": "code",
     "collapsed": false,
     "input": [
      "# create a new array of all the restaurants just near NYU. i.e. zip codes 10002, 10003, 10009, 10011, 10012, 10010\n",
      "nyu_restaurants = []\n",
      "for restaurant in restaurant_data:    \n",
      "    if restaurant[5] == 10002 or restaurant[5] == 10003 or restaurant[5] == 10009 or restaurant[5] == 10011 or restaurant[5] == 10012 or restaurant[5] == 10010:\n",
      "        nyu_restaurants.append(restaurant)\n",
      "print nyu_restaurants #let's see the array we created"
     ],
     "language": "python",
     "metadata": {},
     "outputs": [
      {
       "output_type": "stream",
       "stream": "stdout",
       "text": [
        "[(40545109, \"WENDY'S\", 1, '650', 'BROADWAY', 10012, 2126745404, 39, datetime.datetime(2013, 4, 26, 0, 0), 'U', '04N', 12, 'A', datetime.date(2013, 4, 26), datetime.datetime(2013, 8, 30, 1, 1, 8, 80000)), (40545109, \"WENDY'S\", 1, '650', 'BROADWAY', 10012, 2126745404, 39, datetime.datetime(2013, 4, 26, 0, 0), 'U', '02G', 12, 'A', datetime.date(2013, 4, 26), datetime.datetime(2013, 8, 30, 1, 1, 8, 80000)), (40603925, \"MCDONALD'S\", 1, '27', '3 AVENUE', 10003, 2125336693, 39, datetime.datetime(2013, 6, 3, 0, 0), 'D', '10F', 3, 'A', datetime.date(2013, 6, 3), datetime.datetime(2013, 8, 30, 1, 1, 8, 80000)), (40733411, \"MCDONALD'S\", 1, '102', '1 AVENUE', 10009, 2124779171, 39, datetime.datetime(2013, 6, 14, 0, 0), 'F', '06C', 32, 'Z', datetime.date(2013, 6, 14), datetime.datetime(2013, 8, 30, 1, 1, 8, 80000)), (40733412, \"MCDONALD'S\", 1, '724', 'BROADWAY', 10003, 2125299660, 39, datetime.datetime(2013, 7, 29, 0, 0), 'U', '10E', 23, 'Z', datetime.date(2013, 7, 29), datetime.datetime(2013, 8, 30, 1, 1, 8, 80000)), (40724008, \"WENDY'S\", 1, '20', 'EAST   14 STREET', 10003, 2122430438, 39, datetime.datetime(2012, 10, 17, 0, 0), 'D', '02G', 10, 'A', datetime.date(2012, 10, 17), datetime.datetime(2013, 8, 30, 1, 1, 8, 80000)), (40724008, \"WENDY'S\", 1, '20', 'EAST   14 STREET', 10003, 2122430438, 39, datetime.datetime(2012, 10, 17, 0, 0), 'D', '10A', 10, 'A', datetime.date(2012, 10, 17), datetime.datetime(2013, 8, 30, 1, 1, 8, 80000)), (40733411, \"MCDONALD'S\", 1, '102', '1 AVENUE', 10009, 2124779171, 39, datetime.datetime(2013, 6, 14, 0, 0), 'F', '04N', 32, 'Z', datetime.date(2013, 6, 14), datetime.datetime(2013, 8, 30, 1, 1, 8, 80000)), (40733412, \"MCDONALD'S\", 1, '724', 'BROADWAY', 10003, 2125299660, 39, datetime.datetime(2013, 7, 29, 0, 0), 'U', '04N', 23, 'Z', datetime.date(2013, 7, 29), datetime.datetime(2013, 8, 30, 1, 1, 8, 80000)), (40733411, \"MCDONALD'S\", 1, '102', '1 AVENUE', 10009, 2124779171, 39, datetime.datetime(2013, 6, 14, 0, 0), 'F', '06D', 32, 'Z', datetime.date(2013, 6, 14), datetime.datetime(2013, 8, 30, 1, 1, 8, 80000)), (40733412, \"MCDONALD'S\", 1, '724', 'BROADWAY', 10003, 2125299660, 39, datetime.datetime(2013, 7, 29, 0, 0), 'U', '08A', 23, 'Z', datetime.date(2013, 7, 29), datetime.datetime(2013, 8, 30, 1, 1, 8, 80000)), (40733411, \"MCDONALD'S\", 1, '102', '1 AVENUE', 10009, 2124779171, 39, datetime.datetime(2013, 6, 14, 0, 0), 'F', '04H', 32, 'Z', datetime.date(2013, 6, 14), datetime.datetime(2013, 8, 30, 1, 1, 8, 80000)), (40733411, \"MCDONALD'S\", 1, '102', '1 AVENUE', 10009, 2124779171, 39, datetime.datetime(2013, 6, 14, 0, 0), 'F', '08A', 32, 'Z', datetime.date(2013, 6, 14), datetime.datetime(2013, 8, 30, 1, 1, 8, 80000)), (40997397, 'POP BURGER', 1, '58-60', '9 AVENUE', 10011, 2124148686, 39, datetime.datetime(2013, 4, 2, 0, 0), 'D', '04N', 13, 'A', datetime.date(2013, 4, 2), datetime.datetime(2013, 8, 30, 1, 1, 8, 80000)), (40997397, 'POP BURGER', 1, '58-60', '9 AVENUE', 10011, 2124148686, 39, datetime.datetime(2013, 4, 2, 0, 0), 'D', '08A', 13, 'A', datetime.date(2013, 4, 2), datetime.datetime(2013, 8, 30, 1, 1, 8, 80000)), (40997397, 'POP BURGER', 1, '58-60', '9 AVENUE', 10011, 2124148686, 39, datetime.datetime(2013, 4, 2, 0, 0), 'D', '10F', 13, 'A', datetime.date(2013, 4, 2), datetime.datetime(2013, 8, 30, 1, 1, 8, 80000)), (41068780, 'BURGER KING', 1, '146', 'DELANCEY STREET', 10002, 2127779522, 39, datetime.datetime(2013, 3, 18, 0, 0), 'D', '02B', 13, 'A', datetime.date(2013, 3, 18), datetime.datetime(2013, 8, 30, 1, 1, 8, 80000)), (41038085, 'SHAKE SHACK', 1, '00', 'MADISON SQUARE PARK', 10010, 2128893109, 39, datetime.datetime(2013, 6, 3, 0, 0), 'D', '10F', 3, 'A', datetime.date(2013, 6, 3), datetime.datetime(2013, 8, 30, 1, 1, 8, 80000)), (41068780, 'BURGER KING', 1, '146', 'DELANCEY STREET', 10002, 2127779522, 39, datetime.datetime(2013, 3, 18, 0, 0), 'D', '10F', 13, 'A', datetime.date(2013, 3, 18), datetime.datetime(2013, 8, 30, 1, 1, 8, 80000)), (41138498, 'NEW YORK BURGER CO', 1, '678', '6 AVENUE', 10010, 2122291404, 39, datetime.datetime(2013, 1, 17, 0, 0), 'D', '04L', 11, 'A', datetime.date(2013, 1, 17), datetime.datetime(2013, 8, 30, 1, 1, 8, 80000)), (41138498, 'NEW YORK BURGER CO', 1, '678', '6 AVENUE', 10010, 2122291404, 39, datetime.datetime(2013, 1, 17, 0, 0), 'D', '04N', 11, 'A', datetime.date(2013, 1, 17), datetime.datetime(2013, 8, 30, 1, 1, 8, 80000)), (41191377, \"MCDONALD'S\", 1, '136', 'WEST    3 STREET', 10012, 2126742566, 39, datetime.datetime(2013, 7, 8, 0, 0), 'F', '04N', 33, 'Z', datetime.date(2013, 7, 8), datetime.datetime(2013, 8, 30, 1, 1, 8, 80000)), (41138498, 'NEW YORK BURGER CO', 1, '678', '6 AVENUE', 10010, 2122291404, 39, datetime.datetime(2013, 1, 17, 0, 0), 'D', '08A', 11, 'A', datetime.date(2013, 1, 17), datetime.datetime(2013, 8, 30, 1, 1, 8, 80000)), (41262328, \"MCDONALD'S\", 1, '39', 'UNION SQUARE WEST', 10003, 2126459079, 39, datetime.datetime(2013, 7, 29, 0, 0), 'D', '10F', 2, 'A', datetime.date(2013, 7, 29), datetime.datetime(2013, 8, 30, 1, 1, 8, 80000)), (41191377, \"MCDONALD'S\", 1, '136', 'WEST    3 STREET', 10012, 2126742566, 39, datetime.datetime(2013, 7, 8, 0, 0), 'F', '02G', 33, 'Z', datetime.date(2013, 7, 8), datetime.datetime(2013, 8, 30, 1, 1, 8, 80000)), (41191377, \"MCDONALD'S\", 1, '136', 'WEST    3 STREET', 10012, 2126742566, 39, datetime.datetime(2013, 7, 8, 0, 0), 'F', '06D', 33, 'Z', datetime.date(2013, 7, 8), datetime.datetime(2013, 8, 30, 1, 1, 8, 80000)), (41191377, \"MCDONALD'S\", 1, '136', 'WEST    3 STREET', 10012, 2126742566, 39, datetime.datetime(2013, 7, 8, 0, 0), 'F', '06E', 33, 'Z', datetime.date(2013, 7, 8), datetime.datetime(2013, 8, 30, 1, 1, 8, 80000)), (41248825, 'BLUE 9 BURGER', 1, '92', '3 AVENUE', 10003, 2129790053, 39, datetime.datetime(2013, 6, 17, 0, 0), 'U', '04L', 5, 'A', datetime.date(2013, 6, 17), datetime.datetime(2013, 8, 30, 1, 1, 8, 80000)), (41305427, \"MCDONALD'S\", 1, '154', 'WEST   14 STREET', 10011, 2126913720, 39, datetime.datetime(2012, 11, 23, 0, 0), 'D', '08A', 12, 'A', datetime.date(2012, 11, 23), datetime.datetime(2013, 8, 30, 1, 1, 8, 80000)), (41300864, 'PAULS DA BURGER JOINT', 1, '131', '2 AVENUE', 10003, 2125293033, 39, datetime.datetime(2013, 5, 6, 0, 0), 'U', '04L', 9, 'A', datetime.date(2013, 5, 6), datetime.datetime(2013, 8, 30, 1, 1, 8, 80000)), (41305427, \"MCDONALD'S\", 1, '154', 'WEST   14 STREET', 10011, 2126913720, 39, datetime.datetime(2012, 11, 23, 0, 0), 'D', '04N', 12, 'A', datetime.date(2012, 11, 23), datetime.datetime(2013, 8, 30, 1, 1, 8, 80000)), (41305427, \"MCDONALD'S\", 1, '154', 'WEST   14 STREET', 10011, 2126913720, 39, datetime.datetime(2012, 11, 23, 0, 0), 'D', '10F', 12, 'A', datetime.date(2012, 11, 23), datetime.datetime(2013, 8, 30, 1, 1, 8, 80000)), (41305431, \"MCDONALD'S\", 1, '541', '6 AVENUE', 10011, 2124638860, 39, datetime.datetime(2013, 7, 31, 0, 0), 'D', '06E', 7, 'A', datetime.date(2013, 7, 31), datetime.datetime(2013, 8, 30, 1, 1, 8, 80000)), (41305431, \"MCDONALD'S\", 1, '541', '6 AVENUE', 10011, 2124638860, 39, datetime.datetime(2013, 7, 31, 0, 0), 'D', '10F', 7, 'A', datetime.date(2013, 7, 31), datetime.datetime(2013, 8, 30, 1, 1, 8, 80000)), (41248825, 'BLUE 9 BURGER', 1, '92', '3 AVENUE', 10003, 2129790053, 39, datetime.datetime(2013, 6, 17, 0, 0), 'U', '04M', 5, 'A', datetime.date(2013, 6, 17), datetime.datetime(2013, 8, 30, 1, 1, 8, 80000)), (41321176, 'FIVE GUYS BURGERS AND FRIES', 1, '496       ', 'LAGUARDIA PLACE                                   ', 10012, 2122286008, 39, datetime.datetime(2013, 4, 26, 0, 0), 'D', '10F', 4, 'A', datetime.date(2013, 4, 26), datetime.datetime(2013, 8, 30, 1, 1, 8, 80000)), (41303762, 'BLT BURGER', 1, '470', 'AVENUE OF THE AMERICAS', 10011, 2122438226, 39, datetime.datetime(2013, 5, 1, 0, 0), 'D', '10B', 3, 'A', datetime.date(2013, 5, 1), datetime.datetime(2013, 8, 30, 1, 1, 8, 80000)), (41361978, 'BLACK IRON BURGER', 1, '540', 'EAST    5 STREET', 10009, 2126776067, 39, datetime.datetime(2012, 8, 31, 0, 0), 'D', '05D', 10, 'A', datetime.date(2012, 8, 31), datetime.datetime(2013, 8, 30, 1, 1, 8, 80000)), (41300864, 'PAULS DA BURGER JOINT', 1, '131', '2 AVENUE', 10003, 2125293033, 39, datetime.datetime(2013, 5, 6, 0, 0), 'U', '10F', 9, 'A', datetime.date(2013, 5, 6), datetime.datetime(2013, 8, 30, 1, 1, 8, 80000)), (41366683, 'BURGER CREATIONS', 1, '52', 'EAST 8 STREET', 10003, 2125391909, 39, datetime.datetime(2013, 4, 3, 0, 0), 'U', '02G', 15, 'B', datetime.date(2013, 4, 3), datetime.datetime(2013, 8, 30, 1, 1, 8, 80000)), (41366683, 'BURGER CREATIONS', 1, '52', 'EAST 8 STREET', 10003, 2125391909, 39, datetime.datetime(2013, 4, 3, 0, 0), 'U', '04L', 15, 'B', datetime.date(2013, 4, 3), datetime.datetime(2013, 8, 30, 1, 1, 8, 80000)), (41452207, 'MARK', 1, '33', 'ST MARKS PLACE', 10003, 2126773132, 39, datetime.datetime(2013, 5, 9, 0, 0), 'D', '08A', 11, 'A', datetime.date(2013, 5, 9), datetime.datetime(2013, 8, 30, 1, 1, 8, 80000)), (41443633, 'LUCKYS FAMOUS BURGERS', 1, '264', 'WEST   23 STREET', 10011, 2122424900, 39, datetime.datetime(2013, 8, 19, 0, 0), 'U', '08A', 17, 'Z', datetime.date(2013, 8, 19), datetime.datetime(2013, 8, 30, 1, 1, 8, 80000)), (41452207, 'MARK', 1, '33', 'ST MARKS PLACE', 10003, 2126773132, 39, datetime.datetime(2013, 5, 9, 0, 0), 'D', '04L', 11, 'A', datetime.date(2013, 5, 9), datetime.datetime(2013, 8, 30, 1, 1, 8, 80000)), (41443633, 'LUCKYS FAMOUS BURGERS', 1, '264', 'WEST   23 STREET', 10011, 2122424900, 39, datetime.datetime(2013, 8, 19, 0, 0), 'U', '04L', 17, 'Z', datetime.date(2013, 8, 19), datetime.datetime(2013, 8, 30, 1, 1, 8, 80000)), (41471148, 'TALLGRASS BURGER', 1, '214B', '1 AVENUE', 10009, 2122532990, 39, datetime.datetime(2013, 1, 28, 0, 0), 'D', '09B', 12, 'A', datetime.date(2013, 1, 28), datetime.datetime(2013, 8, 30, 1, 1, 8, 80000)), (41471148, 'TALLGRASS BURGER', 1, '214B', '1 AVENUE', 10009, 2122532990, 39, datetime.datetime(2013, 1, 28, 0, 0), 'D', '06C', 12, 'A', datetime.date(2013, 1, 28), datetime.datetime(2013, 8, 30, 1, 1, 8, 80000)), (41463516, \"MCDONALD'S\", 1, '404', 'EAST 14 STREET', 10009, 2125980045, 39, datetime.datetime(2012, 11, 26, 0, 0), 'D', '02G', 10, 'A', datetime.date(2012, 11, 26), datetime.datetime(2013, 8, 30, 1, 1, 8, 80000)), (41471148, 'TALLGRASS BURGER', 1, '214B', '1 AVENUE', 10009, 2122532990, 39, datetime.datetime(2013, 1, 28, 0, 0), 'D', '09A', 12, 'A', datetime.date(2013, 1, 28), datetime.datetime(2013, 8, 30, 1, 1, 8, 80000)), (41480258, 'NEW YORK BURGER CO', 1, '470', 'WEST 23 STREET', 10011, 2122550400, 39, datetime.datetime(2012, 12, 12, 0, 0), 'D', '10F', 13, 'A', datetime.date(2012, 12, 12), datetime.datetime(2013, 8, 30, 1, 1, 8, 80000)), (41504363, 'KORZO HAUS', 1, '178', 'EAST 7 STREET', 10009, 2127800181, 39, datetime.datetime(2013, 2, 12, 0, 0), 'U', '10H', 7, 'A', datetime.date(2013, 2, 12), datetime.datetime(2013, 8, 30, 1, 1, 8, 80000)), (41452207, 'MARK', 1, '33', 'ST MARKS PLACE', 10003, 2126773132, 39, datetime.datetime(2013, 5, 9, 0, 0), 'D', '10F', 11, 'A', datetime.date(2013, 5, 9), datetime.datetime(2013, 8, 30, 1, 1, 8, 80000)), (41504363, 'KORZO HAUS', 1, '178', 'EAST 7 STREET', 10009, 2127800181, 39, datetime.datetime(2013, 2, 12, 0, 0), 'U', '04L', 7, 'A', datetime.date(2013, 2, 12), datetime.datetime(2013, 8, 30, 1, 1, 8, 80000)), (41471148, 'TALLGRASS BURGER', 1, '214B', '1 AVENUE', 10009, 2122532990, 39, datetime.datetime(2013, 1, 28, 0, 0), 'D', '10F', 12, 'A', datetime.date(2013, 1, 28), datetime.datetime(2013, 8, 30, 1, 1, 8, 80000)), (41480258, 'NEW YORK BURGER CO', 1, '470', 'WEST 23 STREET', 10011, 2122550400, 39, datetime.datetime(2012, 12, 12, 0, 0), 'D', '10B', 13, 'A', datetime.date(2012, 12, 12), datetime.datetime(2013, 8, 30, 1, 1, 8, 80000)), (41576915, \"LUCKY'S FAMOUS BURGERS\", 1, '147', 'EAST HOUSTON STREET', 10002, 2122544900, 39, datetime.datetime(2013, 4, 2, 0, 0), 'U', '04D', 12, 'A', datetime.date(2013, 4, 2), datetime.datetime(2013, 8, 30, 1, 1, 8, 80000)), (41576915, \"LUCKY'S FAMOUS BURGERS\", 1, '147', 'EAST HOUSTON STREET', 10002, 2122544900, 39, datetime.datetime(2013, 4, 2, 0, 0), 'U', '10F', 12, 'A', datetime.date(2013, 4, 2), datetime.datetime(2013, 8, 30, 1, 1, 8, 80000)), (41606211, 'POPS', 1, '42', 'EAST    8 STREET', 10003, 2124663650, 39, datetime.datetime(2013, 6, 3, 0, 0), 'D', '02G', 12, 'A', datetime.date(2013, 6, 3), datetime.datetime(2013, 8, 30, 1, 1, 8, 80000)), (41606211, 'POPS', 1, '42', 'EAST    8 STREET', 10003, 2124663650, 39, datetime.datetime(2013, 6, 3, 0, 0), 'D', '09A', 12, 'A', datetime.date(2013, 6, 3), datetime.datetime(2013, 8, 30, 1, 1, 8, 80000)), (41636189, 'BAREBURGER', 1, '85', '2 AVENUE', 10003, 2125108610, 39, datetime.datetime(2013, 4, 25, 0, 0), 'D', '10H', 11, 'A', datetime.date(2013, 4, 25), datetime.datetime(2013, 8, 30, 1, 1, 8, 80000)), (41681181, \"CLARKE'S STANDARD\", 1, '870', 'BROADWAY', 10003, 2125299100, 39, datetime.datetime(2013, 3, 4, 0, 0), 'D', '06E', 7, 'A', datetime.date(2013, 3, 4), datetime.datetime(2013, 8, 30, 1, 1, 8, 80000)), (41681181, \"CLARKE'S STANDARD\", 1, '870', 'BROADWAY', 10003, 2125299100, 39, datetime.datetime(2013, 3, 4, 0, 0), 'D', '10F', 7, 'A', datetime.date(2013, 3, 4), datetime.datetime(2013, 8, 30, 1, 1, 8, 80000)), (41606211, 'POPS', 1, '42', 'EAST    8 STREET', 10003, 2124663650, 39, datetime.datetime(2013, 6, 3, 0, 0), 'D', '10F', 12, 'A', datetime.date(2013, 6, 3), datetime.datetime(2013, 8, 30, 1, 1, 8, 80000)), (41609204, 'THE BOWERY DINER', 1, '241', 'BOWERY', 10002, 2123880052, 39, datetime.datetime(2013, 8, 5, 0, 0), 'U', '04N', 8, 'A', datetime.date(2013, 8, 5), datetime.datetime(2013, 8, 30, 1, 1, 8, 80000)), (41609204, 'THE BOWERY DINER', 1, '241', 'BOWERY', 10002, 2123880052, 39, datetime.datetime(2013, 8, 5, 0, 0), 'U', '04M', 8, 'A', datetime.date(2013, 8, 5), datetime.datetime(2013, 8, 30, 1, 1, 8, 80000)), (50000045, 'BURGER JOINT', 1, '33', 'WEST    8 STREET', 10011, 2124321400, 39, datetime.datetime(2013, 6, 14, 0, 0), 'U', '10A', 9, 'A', datetime.date(2013, 6, 14), datetime.datetime(2013, 8, 30, 1, 1, 8, 80000)), (40733411, \"MCDONALD'S\", 1, '102', '1 AVENUE', 10009, 2124779171, 39, datetime.datetime(2013, 6, 14, 0, 0), 'F', '10B', 32, 'Z', datetime.date(2013, 6, 14), datetime.datetime(2013, 8, 30, 1, 1, 8, 80000)), (40733412, \"MCDONALD'S\", 1, '724', 'BROADWAY', 10003, 2125299660, 39, datetime.datetime(2013, 7, 29, 0, 0), 'U', '02G', 23, 'Z', datetime.date(2013, 7, 29), datetime.datetime(2013, 8, 30, 1, 1, 8, 80000)), (41191377, \"MCDONALD'S\", 1, '136', 'WEST    3 STREET', 10012, 2126742566, 39, datetime.datetime(2013, 7, 8, 0, 0), 'F', '04H', 33, 'Z', datetime.date(2013, 7, 8), datetime.datetime(2013, 8, 30, 1, 1, 8, 80000)), (41443633, 'LUCKYS FAMOUS BURGERS', 1, '264', 'WEST   23 STREET', 10011, 2122424900, 39, datetime.datetime(2013, 8, 19, 0, 0), 'U', '06C', 17, 'Z', datetime.date(2013, 8, 19), datetime.datetime(2013, 8, 30, 1, 1, 8, 80000)), (41463516, \"MCDONALD'S\", 1, '404', 'EAST 14 STREET', 10009, 2125980045, 39, datetime.datetime(2012, 11, 26, 0, 0), 'D', '10F', 10, 'A', datetime.date(2012, 11, 26), datetime.datetime(2013, 8, 30, 1, 1, 8, 80000)), (41480258, 'NEW YORK BURGER CO', 1, '470', 'WEST 23 STREET', 10011, 2122550400, 39, datetime.datetime(2012, 12, 12, 0, 0), 'D', '06E', 13, 'A', datetime.date(2012, 12, 12), datetime.datetime(2013, 8, 30, 1, 1, 8, 80000)), (41636189, 'BAREBURGER', 1, '85', '2 AVENUE', 10003, 2125108610, 39, datetime.datetime(2013, 4, 25, 0, 0), 'D', '04N', 11, 'A', datetime.date(2013, 4, 25), datetime.datetime(2013, 8, 30, 1, 1, 8, 80000)), (41636189, 'BAREBURGER', 1, '85', '2 AVENUE', 10003, 2125108610, 39, datetime.datetime(2013, 4, 25, 0, 0), 'D', '08A', 11, 'A', datetime.date(2013, 4, 25), datetime.datetime(2013, 8, 30, 1, 1, 8, 80000)), (50000045, 'BURGER JOINT', 1, '33', 'WEST    8 STREET', 10011, 2124321400, 39, datetime.datetime(2013, 6, 14, 0, 0), 'U', '04L', 9, 'A', datetime.date(2013, 6, 14), datetime.datetime(2013, 8, 30, 1, 1, 8, 80000)), (40545109, \"WENDY'S\", 1, '650', 'BROADWAY', 10012, 2126745404, 39, datetime.datetime(2010, 5, 14, 9, 48), 'U', '10G', 18, '', datetime.date(1, 1, 1), datetime.datetime(2013, 8, 30, 1, 1, 8, 80000)), (40545109, \"WENDY'S\", 1, '650', 'BROADWAY', 10012, 2126745404, 39, datetime.datetime(2010, 10, 1, 0, 0), 'P', '18A', 23, '', datetime.date(1, 1, 1), datetime.datetime(2013, 8, 30, 1, 1, 8, 80000)), (40545109, \"WENDY'S\", 1, '650', 'BROADWAY', 10012, 2126745404, 39, datetime.datetime(2013, 4, 11, 0, 0), 'P', '04L', 23, '', datetime.date(1, 1, 1), datetime.datetime(2013, 8, 30, 1, 1, 8, 80000)), (40545109, \"WENDY'S\", 1, '650', 'BROADWAY', 10012, 2126745404, 39, datetime.datetime(2010, 5, 14, 9, 48), 'U', '10B', 18, '', datetime.date(1, 1, 1), datetime.datetime(2013, 8, 30, 1, 1, 8, 80000)), (40545109, \"WENDY'S\", 1, '650', 'BROADWAY', 10012, 2126745404, 39, datetime.datetime(2010, 10, 1, 0, 0), 'P', '10B', 23, '', datetime.date(1, 1, 1), datetime.datetime(2013, 8, 30, 1, 1, 8, 80000)), (40545109, \"WENDY'S\", 1, '650', 'BROADWAY', 10012, 2126745404, 39, datetime.datetime(2012, 4, 17, 0, 0), 'D', '10F', 8, 'A', datetime.date(2012, 4, 17), datetime.datetime(2013, 8, 30, 1, 1, 8, 80000)), (40545109, \"WENDY'S\", 1, '650', 'BROADWAY', 10012, 2126745404, 39, datetime.datetime(2013, 4, 11, 0, 0), 'P', '08A', 23, '', datetime.date(1, 1, 1), datetime.datetime(2013, 8, 30, 1, 1, 8, 80000)), (40545109, \"WENDY'S\", 1, '650', 'BROADWAY', 10012, 2126745404, 39, datetime.datetime(2010, 5, 14, 9, 48), 'U', '02G', 18, '', datetime.date(1, 1, 1), datetime.datetime(2013, 8, 30, 1, 1, 8, 80000)), (40545109, \"WENDY'S\", 1, '650', 'BROADWAY', 10012, 2126745404, 39, datetime.datetime(2010, 10, 1, 0, 0), 'P', '99B', 23, '', datetime.date(1, 1, 1), datetime.datetime(2013, 8, 30, 1, 1, 8, 80000)), (40545109, \"WENDY'S\", 1, '650', 'BROADWAY', 10012, 2126745404, 39, datetime.datetime(2013, 4, 11, 0, 0), 'P', '04K', 23, '', datetime.date(1, 1, 1), datetime.datetime(2013, 8, 30, 1, 1, 8, 80000)), (40545109, \"WENDY'S\", 1, '650', 'BROADWAY', 10012, 2126745404, 39, datetime.datetime(2013, 4, 11, 0, 0), 'P', '04N', 23, '', datetime.date(1, 1, 1), datetime.datetime(2013, 8, 30, 1, 1, 8, 80000)), (40545109, \"WENDY'S\", 1, '650', 'BROADWAY', 10012, 2126745404, 39, datetime.datetime(2013, 4, 11, 0, 0), 'P', '10B', 23, '', datetime.date(1, 1, 1), datetime.datetime(2013, 8, 30, 1, 1, 8, 80000)), (40545109, \"WENDY'S\", 1, '650', 'BROADWAY', 10012, 2126745404, 39, datetime.datetime(2010, 5, 14, 9, 48), 'U', '99B', 18, '', datetime.date(1, 1, 1), datetime.datetime(2013, 8, 30, 1, 1, 8, 80000)), (40545109, \"WENDY'S\", 1, '650', 'BROADWAY', 10012, 2126745404, 39, datetime.datetime(2010, 10, 1, 0, 0), 'P', '02G', 23, '', datetime.date(1, 1, 1), datetime.datetime(2013, 8, 30, 1, 1, 8, 80000)), (40545109, \"WENDY'S\", 1, '650', 'BROADWAY', 10012, 2126745404, 39, datetime.datetime(2012, 4, 17, 0, 0), 'D', '10B', 8, 'A', datetime.date(2012, 4, 17), datetime.datetime(2013, 8, 30, 1, 1, 8, 80000)), (40603925, \"MCDONALD'S\", 1, '27', '3 AVENUE', 10003, 2125336693, 39, datetime.datetime(2011, 10, 18, 0, 0), 'D', '04J', 12, 'A', datetime.date(2011, 10, 18), datetime.datetime(2013, 8, 30, 1, 1, 8, 80000)), (40603925, \"MCDONALD'S\", 1, '27', '3 AVENUE', 10003, 2125336693, 39, datetime.datetime(2011, 10, 18, 0, 0), 'D', '10E', 12, 'A', datetime.date(2011, 10, 18), datetime.datetime(2013, 8, 30, 1, 1, 8, 80000)), (40603925, \"MCDONALD'S\", 1, '27', '3 AVENUE', 10003, 2125336693, 39, datetime.datetime(2012, 1, 27, 0, 0), 'F', '02G', 24, '', datetime.date(1, 1, 1), datetime.datetime(2013, 8, 30, 1, 1, 8, 80000)), (40603925, \"MCDONALD'S\", 1, '27', '3 AVENUE', 10003, 2125336693, 39, datetime.datetime(2011, 2, 7, 0, 0), 'F', '02G', 18, 'C', datetime.date(2011, 2, 7), datetime.datetime(2013, 8, 30, 1, 1, 8, 80000)), (40603925, \"MCDONALD'S\", 1, '27', '3 AVENUE', 10003, 2125336693, 39, datetime.datetime(2011, 1, 25, 0, 0), 'P', '04L', 22, '', datetime.date(1, 1, 1), datetime.datetime(2013, 8, 30, 1, 1, 8, 80000)), (40603925, \"MCDONALD'S\", 1, '27', '3 AVENUE', 10003, 2125336693, 39, datetime.datetime(2011, 6, 6, 0, 0), 'F', '04L', 37, '', datetime.date(1, 1, 1), datetime.datetime(2013, 8, 30, 1, 1, 8, 80000)), (40603925, \"MCDONALD'S\", 1, '27', '3 AVENUE', 10003, 2125336693, 39, datetime.datetime(2011, 6, 22, 0, 0), 'D', '06A', 13, 'A', datetime.date(2011, 6, 22), datetime.datetime(2013, 8, 30, 1, 1, 8, 80000)), (40603925, \"MCDONALD'S\", 1, '27', '3 AVENUE', 10003, 2125336693, 39, datetime.datetime(2012, 2, 7, 0, 0), 'D', '06D', 13, 'A', datetime.date(2012, 2, 7), datetime.datetime(2013, 8, 30, 1, 1, 8, 80000)), (40603925, \"MCDONALD'S\", 1, '27', '3 AVENUE', 10003, 2125336693, 39, datetime.datetime(2012, 2, 7, 0, 0), 'D', '10D', 13, 'A', datetime.date(2012, 2, 7), datetime.datetime(2013, 8, 30, 1, 1, 8, 80000)), (40603925, \"MCDONALD'S\", 1, '27', '3 AVENUE', 10003, 2125336693, 39, datetime.datetime(2010, 6, 16, 8, 58), 'U', '06A', 13, '', datetime.date(1, 1, 1), datetime.datetime(2013, 8, 30, 1, 1, 8, 80000)), (40603925, \"MCDONALD'S\", 1, '27', '3 AVENUE', 10003, 2125336693, 39, datetime.datetime(2011, 2, 7, 0, 0), 'F', '04L', 18, 'C', datetime.date(2011, 2, 7), datetime.datetime(2013, 8, 30, 1, 1, 8, 80000)), (40603925, \"MCDONALD'S\", 1, '27', '3 AVENUE', 10003, 2125336693, 39, datetime.datetime(2011, 10, 7, 0, 0), 'P', '04N', 18, '', datetime.date(1, 1, 1), datetime.datetime(2013, 8, 30, 1, 1, 8, 80000)), (40603925, \"MCDONALD'S\", 1, '27', '3 AVENUE', 10003, 2125336693, 39, datetime.datetime(2011, 10, 7, 0, 0), 'P', '08A', 18, '', datetime.date(1, 1, 1), datetime.datetime(2013, 8, 30, 1, 1, 8, 80000)), (40603925, \"MCDONALD'S\", 1, '27', '3 AVENUE', 10003, 2125336693, 39, datetime.datetime(2012, 1, 27, 0, 0), 'F', '04L', 24, '', datetime.date(1, 1, 1), datetime.datetime(2013, 8, 30, 1, 1, 8, 80000)), (40603925, \"MCDONALD'S\", 1, '27', '3 AVENUE', 10003, 2125336693, 39, datetime.datetime(2012, 1, 27, 0, 0), 'F', '08A', 24, '', datetime.date(1, 1, 1), datetime.datetime(2013, 8, 30, 1, 1, 8, 80000)), (40603925, \"MCDONALD'S\", 1, '27', '3 AVENUE', 10003, 2125336693, 39, datetime.datetime(2011, 1, 25, 0, 0), 'P', '08A', 22, '', datetime.date(1, 1, 1), datetime.datetime(2013, 8, 30, 1, 1, 8, 80000)), (40603925, \"MCDONALD'S\", 1, '27', '3 AVENUE', 10003, 2125336693, 39, datetime.datetime(2011, 6, 6, 0, 0), 'F', '10E', 37, '', datetime.date(1, 1, 1), datetime.datetime(2013, 8, 30, 1, 1, 8, 80000)), (40603925, \"MCDONALD'S\", 1, '27', '3 AVENUE', 10003, 2125336693, 39, datetime.datetime(2011, 6, 22, 0, 0), 'D', '02G', 13, 'A', datetime.date(2011, 6, 22), datetime.datetime(2013, 8, 30, 1, 1, 8, 80000)), (40603925, \"MCDONALD'S\", 1, '27', '3 AVENUE', 10003, 2125336693, 39, datetime.datetime(2012, 1, 27, 0, 0), 'F', '06E', 24, '', datetime.date(1, 1, 1), datetime.datetime(2013, 8, 30, 1, 1, 8, 80000)), (40603925, \"MCDONALD'S\", 1, '27', '3 AVENUE', 10003, 2125336693, 39, datetime.datetime(2012, 1, 27, 0, 0), 'F', '10B', 24, '', datetime.date(1, 1, 1), datetime.datetime(2013, 8, 30, 1, 1, 8, 80000)), (40603925, \"MCDONALD'S\", 1, '27', '3 AVENUE', 10003, 2125336693, 39, datetime.datetime(2012, 2, 7, 0, 0), 'D', '10F', 13, 'A', datetime.date(2012, 2, 7), datetime.datetime(2013, 8, 30, 1, 1, 8, 80000)), (40603925, \"MCDONALD'S\", 1, '27', '3 AVENUE', 10003, 2125336693, 39, datetime.datetime(2011, 1, 25, 0, 0), 'P', '04N', 22, '', datetime.date(1, 1, 1), datetime.datetime(2013, 8, 30, 1, 1, 8, 80000)), (40603925, \"MCDONALD'S\", 1, '27', '3 AVENUE', 10003, 2125336693, 39, datetime.datetime(2011, 1, 25, 0, 0), 'P', '99B', 22, '', datetime.date(1, 1, 1), datetime.datetime(2013, 8, 30, 1, 1, 8, 80000)), (40603925, \"MCDONALD'S\", 1, '27', '3 AVENUE', 10003, 2125336693, 39, datetime.datetime(2011, 6, 6, 0, 0), 'F', '08A', 37, '', datetime.date(1, 1, 1), datetime.datetime(2013, 8, 30, 1, 1, 8, 80000)), (40603925, \"MCDONALD'S\", 1, '27', '3 AVENUE', 10003, 2125336693, 39, datetime.datetime(2012, 6, 26, 0, 0), 'D', '02G', 12, 'A', datetime.date(2012, 6, 26), datetime.datetime(2013, 8, 30, 1, 1, 8, 80000)), (40603925, \"MCDONALD'S\", 1, '27', '3 AVENUE', 10003, 2125336693, 39, datetime.datetime(2012, 6, 26, 0, 0), 'D', '06D', 12, 'A', datetime.date(2012, 6, 26), datetime.datetime(2013, 8, 30, 1, 1, 8, 80000)), (40603925, \"MCDONALD'S\", 1, '27', '3 AVENUE', 10003, 2125336693, 39, datetime.datetime(2011, 1, 25, 0, 0), 'P', '02G', 22, '', datetime.date(1, 1, 1), datetime.datetime(2013, 8, 30, 1, 1, 8, 80000)), (40603925, \"MCDONALD'S\", 1, '27', '3 AVENUE', 10003, 2125336693, 39, datetime.datetime(2011, 2, 7, 0, 0), 'F', '08A', 18, 'C', datetime.date(2011, 2, 7), datetime.datetime(2013, 8, 30, 1, 1, 8, 80000)), (40603925, \"MCDONALD'S\", 1, '27', '3 AVENUE', 10003, 2125336693, 39, datetime.datetime(2011, 6, 6, 0, 0), 'F', '02G', 37, '', datetime.date(1, 1, 1), datetime.datetime(2013, 8, 30, 1, 1, 8, 80000)), (40603925, \"MCDONALD'S\", 1, '27', '3 AVENUE', 10003, 2125336693, 39, datetime.datetime(2011, 10, 7, 0, 0), 'P', '06D', 18, '', datetime.date(1, 1, 1), datetime.datetime(2013, 8, 30, 1, 1, 8, 80000)), (40603925, \"MCDONALD'S\", 1, '27', '3 AVENUE', 10003, 2125336693, 39, datetime.datetime(2011, 10, 18, 0, 0), 'D', '10B', 12, 'A', datetime.date(2011, 10, 18), datetime.datetime(2013, 8, 30, 1, 1, 8, 80000)), (40724008, \"WENDY'S\", 1, '20', 'EAST   14 STREET', 10003, 2122430438, 39, datetime.datetime(2011, 12, 29, 0, 0), 'F', '02G', 28, '', datetime.date(1, 1, 1), datetime.datetime(2013, 8, 30, 1, 1, 8, 80000)), (40724008, \"WENDY'S\", 1, '20', 'EAST   14 STREET', 10003, 2122430438, 39, datetime.datetime(2011, 12, 29, 0, 0), 'F', '06A', 28, '', datetime.date(1, 1, 1), datetime.datetime(2013, 8, 30, 1, 1, 8, 80000)), (40733411, \"MCDONALD'S\", 1, '102', '1 AVENUE', 10009, 2124779171, 39, datetime.datetime(2011, 1, 13, 0, 0), 'C', '04N', 12, 'A', datetime.date(2011, 1, 13), datetime.datetime(2013, 8, 30, 1, 1, 8, 80000)), (40733411, \"MCDONALD'S\", 1, '102', '1 AVENUE', 10009, 2124779171, 39, datetime.datetime(2012, 9, 21, 0, 0), 'P', '04M', 10, '', datetime.date(1, 1, 1), datetime.datetime(2013, 8, 30, 1, 1, 8, 80000)), (40733411, \"MCDONALD'S\", 1, '102', '1 AVENUE', 10009, 2124779171, 39, datetime.datetime(2012, 10, 25, 0, 0), 'F', '08A', 35, '', datetime.date(1, 1, 1), datetime.datetime(2013, 8, 30, 1, 1, 8, 80000)), (40733412, \"MCDONALD'S\", 1, '724', 'BROADWAY', 10003, 2125299660, 39, datetime.datetime(2011, 3, 8, 0, 0), 'D', '10F', 5, 'A', datetime.date(2011, 3, 8), datetime.datetime(2013, 8, 30, 1, 1, 8, 80000)), (40733412, \"MCDONALD'S\", 1, '724', 'BROADWAY', 10003, 2125299660, 39, datetime.datetime(2012, 8, 2, 0, 0), 'D', '10F', 12, 'A', datetime.date(2012, 8, 2), datetime.datetime(2013, 8, 30, 1, 1, 8, 80000)), (40733412, \"MCDONALD'S\", 1, '724', 'BROADWAY', 10003, 2125299660, 39, datetime.datetime(2010, 10, 12, 0, 0), 'P', '04N', 25, '', datetime.date(1, 1, 1), datetime.datetime(2013, 8, 30, 1, 1, 8, 80000)), (40733412, \"MCDONALD'S\", 1, '724', 'BROADWAY', 10003, 2125299660, 39, datetime.datetime(2013, 7, 18, 0, 0), 'P', '02G', 24, '', datetime.date(1, 1, 1), datetime.datetime(2013, 8, 30, 1, 1, 8, 80000)), (40724008, \"WENDY'S\", 1, '20', 'EAST   14 STREET', 10003, 2122430438, 39, datetime.datetime(2011, 12, 29, 0, 0), 'F', '10B', 28, '', datetime.date(1, 1, 1), datetime.datetime(2013, 8, 30, 1, 1, 8, 80000)), (40724008, \"WENDY'S\", 1, '20', 'EAST   14 STREET', 10003, 2122430438, 39, datetime.datetime(2011, 12, 29, 0, 0), 'F', '99B', 28, '', datetime.date(1, 1, 1), datetime.datetime(2013, 8, 30, 1, 1, 8, 80000)), (40733411, \"MCDONALD'S\", 1, '102', '1 AVENUE', 10009, 2124779171, 39, datetime.datetime(2012, 9, 21, 0, 0), 'P', '04L', 10, '', datetime.date(1, 1, 1), datetime.datetime(2013, 8, 30, 1, 1, 8, 80000)), (40733411, \"MCDONALD'S\", 1, '102', '1 AVENUE', 10009, 2124779171, 39, datetime.datetime(2013, 5, 31, 0, 0), 'F', '10B', 35, '', datetime.date(1, 1, 1), datetime.datetime(2013, 8, 30, 1, 1, 8, 80000)), (40733412, \"MCDONALD'S\", 1, '724', 'BROADWAY', 10003, 2125299660, 39, datetime.datetime(2010, 10, 12, 0, 0), 'P', '08A', 25, '', datetime.date(1, 1, 1), datetime.datetime(2013, 8, 30, 1, 1, 8, 80000)), (40733412, \"MCDONALD'S\", 1, '724', 'BROADWAY', 10003, 2125299660, 39, datetime.datetime(2011, 3, 8, 0, 0), 'D', '22B', 5, 'A', datetime.date(2011, 3, 8), datetime.datetime(2013, 8, 30, 1, 1, 8, 80000)), (40724008, \"WENDY'S\", 1, '20', 'EAST   14 STREET', 10003, 2122430438, 39, datetime.datetime(2012, 1, 11, 0, 0), 'D', '02G', 10, 'A', datetime.date(2012, 1, 11), datetime.datetime(2013, 8, 30, 1, 1, 8, 80000)), (40724008, \"WENDY'S\", 1, '20', 'EAST   14 STREET', 10003, 2122430438, 39, datetime.datetime(2012, 1, 11, 0, 0), 'D', '99B', 10, 'A', datetime.date(2012, 1, 11), datetime.datetime(2013, 8, 30, 1, 1, 8, 80000)), (40724008, \"WENDY'S\", 1, '20', 'EAST   14 STREET', 10003, 2122430438, 39, datetime.datetime(2012, 5, 25, 0, 0), 'P', '02G', 17, '', datetime.date(1, 1, 1), datetime.datetime(2013, 8, 30, 1, 1, 8, 80000)), (40724008, \"WENDY'S\", 1, '20', 'EAST   14 STREET', 10003, 2122430438, 39, datetime.datetime(2012, 5, 25, 0, 0), 'P', '04H', 17, '', datetime.date(1, 1, 1), datetime.datetime(2013, 8, 30, 1, 1, 8, 80000)), (40724008, \"WENDY'S\", 1, '20', 'EAST   14 STREET', 10003, 2122430438, 39, datetime.datetime(2012, 6, 5, 0, 0), 'D', '10F', 13, 'A', datetime.date(2012, 6, 5), datetime.datetime(2013, 8, 30, 1, 1, 8, 80000)), (40733411, \"MCDONALD'S\", 1, '102', '1 AVENUE', 10009, 2124779171, 39, datetime.datetime(2011, 1, 13, 0, 0), 'C', '08A', 12, 'A', datetime.date(2011, 1, 13), datetime.datetime(2013, 8, 30, 1, 1, 8, 80000)), (40733411, \"MCDONALD'S\", 1, '102', '1 AVENUE', 10009, 2124779171, 39, datetime.datetime(2011, 12, 23, 0, 0), 'D', '06F', 7, 'A', datetime.date(2011, 12, 23), datetime.datetime(2013, 8, 30, 1, 1, 8, 80000)), (40733412, \"MCDONALD'S\", 1, '724', 'BROADWAY', 10003, 2125299660, 39, datetime.datetime(2013, 2, 27, 0, 0), 'B', '', -1, '', datetime.date(1, 1, 1), datetime.datetime(2013, 8, 30, 1, 1, 8, 80000)), (40733412, \"MCDONALD'S\", 1, '724', 'BROADWAY', 10003, 2125299660, 39, datetime.datetime(2013, 7, 18, 0, 0), 'P', '04N', 24, '', datetime.date(1, 1, 1), datetime.datetime(2013, 8, 30, 1, 1, 8, 80000)), (40733412, \"MCDONALD'S\", 1, '724', 'BROADWAY', 10003, 2125299660, 39, datetime.datetime(2013, 7, 18, 0, 0), 'P', '06D', 24, '', datetime.date(1, 1, 1), datetime.datetime(2013, 8, 30, 1, 1, 8, 80000)), (40733412, \"MCDONALD'S\", 1, '724', 'BROADWAY', 10003, 2125299660, 39, datetime.datetime(2013, 7, 18, 0, 0), 'P', '08A', 24, '', datetime.date(1, 1, 1), datetime.datetime(2013, 8, 30, 1, 1, 8, 80000)), (40733411, \"MCDONALD'S\", 1, '102', '1 AVENUE', 10009, 2124779171, 39, datetime.datetime(2012, 9, 21, 0, 0), 'P', '04N', 10, '', datetime.date(1, 1, 1), datetime.datetime(2013, 8, 30, 1, 1, 8, 80000)), (40733411, \"MCDONALD'S\", 1, '102', '1 AVENUE', 10009, 2124779171, 39, datetime.datetime(2012, 10, 3, 0, 0), 'F', '04L', 11, 'C', datetime.date(2012, 10, 3), datetime.datetime(2013, 8, 30, 1, 1, 8, 80000)), (40733411, \"MCDONALD'S\", 1, '102', '1 AVENUE', 10009, 2124779171, 39, datetime.datetime(2012, 10, 3, 0, 0), 'F', '04N', 11, 'C', datetime.date(2012, 10, 3), datetime.datetime(2013, 8, 30, 1, 1, 8, 80000)), (40733412, \"MCDONALD'S\", 1, '724', 'BROADWAY', 10003, 2125299660, 39, datetime.datetime(2010, 10, 26, 0, 0), 'D', '08A', 13, 'A', datetime.date(2010, 10, 26), datetime.datetime(2013, 8, 30, 1, 1, 8, 80000)), (40733412, \"MCDONALD'S\", 1, '724', 'BROADWAY', 10003, 2125299660, 39, datetime.datetime(2012, 2, 16, 0, 0), 'P', '04N', 19, '', datetime.date(1, 1, 1), datetime.datetime(2013, 8, 30, 1, 1, 8, 80000)), (40733412, \"MCDONALD'S\", 1, '724', 'BROADWAY', 10003, 2125299660, 39, datetime.datetime(2012, 2, 27, 0, 0), 'D', '10E', 7, 'A', datetime.date(2012, 2, 27), datetime.datetime(2013, 8, 30, 1, 1, 8, 80000)), (40733412, \"MCDONALD'S\", 1, '724', 'BROADWAY', 10003, 2125299660, 39, datetime.datetime(2012, 8, 2, 0, 0), 'D', '04N', 12, 'A', datetime.date(2012, 8, 2), datetime.datetime(2013, 8, 30, 1, 1, 8, 80000)), (40724008, \"WENDY'S\", 1, '20', 'EAST   14 STREET', 10003, 2122430438, 39, datetime.datetime(2012, 5, 25, 0, 0), 'P', '10F', 17, '', datetime.date(1, 1, 1), datetime.datetime(2013, 8, 30, 1, 1, 8, 80000)), (40724008, \"WENDY'S\", 1, '20', 'EAST   14 STREET', 10003, 2122430438, 39, datetime.datetime(2011, 1, 19, 0, 0), 'D', '10F', 2, 'A', datetime.date(2011, 1, 19), datetime.datetime(2013, 8, 30, 1, 1, 8, 80000)), (40724008, \"WENDY'S\", 1, '20', 'EAST   14 STREET', 10003, 2122430438, 39, datetime.datetime(2011, 12, 29, 0, 0), 'F', '08A', 28, '', datetime.date(1, 1, 1), datetime.datetime(2013, 8, 30, 1, 1, 8, 80000)), (40724008, \"WENDY'S\", 1, '20', 'EAST   14 STREET', 10003, 2122430438, 39, datetime.datetime(2012, 6, 5, 0, 0), 'D', '02G', 13, 'A', datetime.date(2012, 6, 5), datetime.datetime(2013, 8, 30, 1, 1, 8, 80000)), (40724008, \"WENDY'S\", 1, '20', 'EAST   14 STREET', 10003, 2122430438, 39, datetime.datetime(2012, 6, 5, 0, 0), 'D', '09A', 13, 'A', datetime.date(2012, 6, 5), datetime.datetime(2013, 8, 30, 1, 1, 8, 80000)), (40733411, \"MCDONALD'S\", 1, '102', '1 AVENUE', 10009, 2124779171, 39, datetime.datetime(2012, 9, 21, 0, 0), 'P', '08A', 10, '', datetime.date(1, 1, 1), datetime.datetime(2013, 8, 30, 1, 1, 8, 80000)), (40733411, \"MCDONALD'S\", 1, '102', '1 AVENUE', 10009, 2124779171, 39, datetime.datetime(2012, 10, 25, 0, 0), 'F', '04N', 35, '', datetime.date(1, 1, 1), datetime.datetime(2013, 8, 30, 1, 1, 8, 80000)), (40733411, \"MCDONALD'S\", 1, '102', '1 AVENUE', 10009, 2124779171, 39, datetime.datetime(2012, 10, 25, 0, 0), 'F', '10F', 35, '', datetime.date(1, 1, 1), datetime.datetime(2013, 8, 30, 1, 1, 8, 80000)), (40733411, \"MCDONALD'S\", 1, '102', '1 AVENUE', 10009, 2124779171, 39, datetime.datetime(2013, 3, 6, 0, 0), 'B', '', -1, '', datetime.date(1, 1, 1), datetime.datetime(2013, 8, 30, 1, 1, 8, 80000)), (40733411, \"MCDONALD'S\", 1, '102', '1 AVENUE', 10009, 2124779171, 39, datetime.datetime(2013, 4, 30, 0, 0), 'B', '', -1, '', datetime.date(1, 1, 1), datetime.datetime(2013, 8, 30, 1, 1, 8, 80000)), (40733412, \"MCDONALD'S\", 1, '724', 'BROADWAY', 10003, 2125299660, 39, datetime.datetime(2011, 3, 8, 0, 0), 'D', '20A', 5, 'A', datetime.date(2011, 3, 8), datetime.datetime(2013, 8, 30, 1, 1, 8, 80000)), (40733411, \"MCDONALD'S\", 1, '102', '1 AVENUE', 10009, 2124779171, 39, datetime.datetime(2011, 1, 13, 0, 0), 'C', '10B', 12, 'A', datetime.date(2011, 1, 13), datetime.datetime(2013, 8, 30, 1, 1, 8, 80000)), (40733411, \"MCDONALD'S\", 1, '102', '1 AVENUE', 10009, 2124779171, 39, datetime.datetime(2011, 12, 23, 0, 0), 'D', '10F', 7, 'A', datetime.date(2011, 12, 23), datetime.datetime(2013, 8, 30, 1, 1, 8, 80000)), (40733411, \"MCDONALD'S\", 1, '102', '1 AVENUE', 10009, 2124779171, 39, datetime.datetime(2012, 10, 3, 0, 0), 'F', '08A', 11, 'C', datetime.date(2012, 10, 3), datetime.datetime(2013, 8, 30, 1, 1, 8, 80000)), (40733411, \"MCDONALD'S\", 1, '102', '1 AVENUE', 10009, 2124779171, 39, datetime.datetime(2013, 5, 31, 0, 0), 'F', '05D', 35, '', datetime.date(1, 1, 1), datetime.datetime(2013, 8, 30, 1, 1, 8, 80000)), (40733412, \"MCDONALD'S\", 1, '724', 'BROADWAY', 10003, 2125299660, 39, datetime.datetime(2010, 10, 12, 0, 0), 'P', '06D', 25, '', datetime.date(1, 1, 1), datetime.datetime(2013, 8, 30, 1, 1, 8, 80000)), (40733412, \"MCDONALD'S\", 1, '724', 'BROADWAY', 10003, 2125299660, 39, datetime.datetime(2010, 10, 26, 0, 0), 'D', '04N', 13, 'A', datetime.date(2010, 10, 26), datetime.datetime(2013, 8, 30, 1, 1, 8, 80000)), (40733412, \"MCDONALD'S\", 1, '724', 'BROADWAY', 10003, 2125299660, 39, datetime.datetime(2010, 10, 26, 0, 0), 'D', '10F', 13, 'A', datetime.date(2010, 10, 26), datetime.datetime(2013, 8, 30, 1, 1, 8, 80000)), (40733412, \"MCDONALD'S\", 1, '724', 'BROADWAY', 10003, 2125299660, 39, datetime.datetime(2012, 2, 16, 0, 0), 'P', '04H', 19, '', datetime.date(1, 1, 1), datetime.datetime(2013, 8, 30, 1, 1, 8, 80000)), (40733412, \"MCDONALD'S\", 1, '724', 'BROADWAY', 10003, 2125299660, 39, datetime.datetime(2012, 2, 16, 0, 0), 'P', '08A', 19, '', datetime.date(1, 1, 1), datetime.datetime(2013, 8, 30, 1, 1, 8, 80000)), (40733412, \"MCDONALD'S\", 1, '724', 'BROADWAY', 10003, 2125299660, 39, datetime.datetime(2012, 2, 27, 0, 0), 'D', '06C', 7, 'A', datetime.date(2012, 2, 27), datetime.datetime(2013, 8, 30, 1, 1, 8, 80000)), (40733412, \"MCDONALD'S\", 1, '724', 'BROADWAY', 10003, 2125299660, 39, datetime.datetime(2012, 8, 2, 0, 0), 'D', '08A', 12, 'A', datetime.date(2012, 8, 2), datetime.datetime(2013, 8, 30, 1, 1, 8, 80000)), (40997397, 'POP BURGER', 1, '58-60', '9 AVENUE', 10011, 2124148686, 39, datetime.datetime(2012, 7, 19, 0, 0), 'P', '04N', 19, '', datetime.date(1, 1, 1), datetime.datetime(2013, 8, 30, 1, 1, 8, 80000)), (40997397, 'POP BURGER', 1, '58-60', '9 AVENUE', 10011, 2124148686, 39, datetime.datetime(2011, 3, 14, 0, 0), 'D', '02B', 10, 'A', datetime.date(2011, 3, 14), datetime.datetime(2013, 8, 30, 1, 1, 8, 80000)), (40997397, 'POP BURGER', 1, '58-60', '9 AVENUE', 10011, 2124148686, 39, datetime.datetime(2012, 2, 23, 0, 0), 'P', '02G', 23, '', datetime.date(1, 1, 1), datetime.datetime(2013, 8, 30, 1, 1, 8, 80000)), (40997397, 'POP BURGER', 1, '58-60', '9 AVENUE', 10011, 2124148686, 39, datetime.datetime(2012, 3, 5, 0, 0), 'D', '10H', 12, 'A', datetime.date(2012, 3, 5), datetime.datetime(2013, 8, 30, 1, 1, 8, 80000)), (40997397, 'POP BURGER', 1, '58-60', '9 AVENUE', 10011, 2124148686, 39, datetime.datetime(2012, 7, 19, 0, 0), 'P', '02G', 19, '', datetime.date(1, 1, 1), datetime.datetime(2013, 8, 30, 1, 1, 8, 80000)), (40997397, 'POP BURGER', 1, '58-60', '9 AVENUE', 10011, 2124148686, 39, datetime.datetime(2012, 2, 23, 0, 0), 'P', '04H', 23, '', datetime.date(1, 1, 1), datetime.datetime(2013, 8, 30, 1, 1, 8, 80000)), (40997397, 'POP BURGER', 1, '58-60', '9 AVENUE', 10011, 2124148686, 39, datetime.datetime(2012, 2, 23, 0, 0), 'P', '06E', 23, '', datetime.date(1, 1, 1), datetime.datetime(2013, 8, 30, 1, 1, 8, 80000)), (40997397, 'POP BURGER', 1, '58-60', '9 AVENUE', 10011, 2124148686, 39, datetime.datetime(2012, 2, 23, 0, 0), 'P', '10D', 23, '', datetime.date(1, 1, 1), datetime.datetime(2013, 8, 30, 1, 1, 8, 80000)), (40997397, 'POP BURGER', 1, '58-60', '9 AVENUE', 10011, 2124148686, 39, datetime.datetime(2012, 3, 5, 0, 0), 'D', '06D', 12, 'A', datetime.date(2012, 3, 5), datetime.datetime(2013, 8, 30, 1, 1, 8, 80000)), (40997397, 'POP BURGER', 1, '58-60', '9 AVENUE', 10011, 2124148686, 39, datetime.datetime(2013, 2, 19, 0, 0), 'F', '04N', 28, '', datetime.date(1, 1, 1), datetime.datetime(2013, 8, 30, 1, 1, 8, 80000)), (40997397, 'POP BURGER', 1, '58-60', '9 AVENUE', 10011, 2124148686, 39, datetime.datetime(2013, 2, 19, 0, 0), 'F', '06D', 28, '', datetime.date(1, 1, 1), datetime.datetime(2013, 8, 30, 1, 1, 8, 80000)), (40997397, 'POP BURGER', 1, '58-60', '9 AVENUE', 10011, 2124148686, 39, datetime.datetime(2013, 2, 19, 0, 0), 'F', '08A', 28, '', datetime.date(1, 1, 1), datetime.datetime(2013, 8, 30, 1, 1, 8, 80000)), (40997397, 'POP BURGER', 1, '58-60', '9 AVENUE', 10011, 2124148686, 39, datetime.datetime(2011, 3, 14, 0, 0), 'D', '10H', 10, 'A', datetime.date(2011, 3, 14), datetime.datetime(2013, 8, 30, 1, 1, 8, 80000)), (40997397, 'POP BURGER', 1, '58-60', '9 AVENUE', 10011, 2124148686, 39, datetime.datetime(2012, 8, 17, 0, 0), 'D', '10A', 7, 'A', datetime.date(2012, 8, 17), datetime.datetime(2013, 8, 30, 1, 1, 8, 80000)), (40997397, 'POP BURGER', 1, '58-60', '9 AVENUE', 10011, 2124148686, 39, datetime.datetime(2013, 2, 19, 0, 0), 'F', '04C', 28, '', datetime.date(1, 1, 1), datetime.datetime(2013, 8, 30, 1, 1, 8, 80000)), (41038085, 'SHAKE SHACK', 1, '00', 'MADISON SQUARE PARK', 10010, 2128893109, 39, datetime.datetime(2012, 1, 5, 0, 0), 'P', '02G', 23, '', datetime.date(1, 1, 1), datetime.datetime(2013, 8, 30, 1, 1, 8, 80000)), (41038085, 'SHAKE SHACK', 1, '00', 'MADISON SQUARE PARK', 10010, 2128893109, 39, datetime.datetime(2012, 1, 5, 0, 0), 'P', '08A', 23, '', datetime.date(1, 1, 1), datetime.datetime(2013, 8, 30, 1, 1, 8, 80000)), (41038085, 'SHAKE SHACK', 1, '00', 'MADISON SQUARE PARK', 10010, 2128893109, 39, datetime.datetime(2012, 6, 7, 0, 0), 'D', '09B', 4, 'A', datetime.date(2012, 6, 7), datetime.datetime(2013, 8, 30, 1, 1, 8, 80000)), (41038085, 'SHAKE SHACK', 1, '00', 'MADISON SQUARE PARK', 10010, 2128893109, 39, datetime.datetime(2011, 1, 20, 0, 0), 'D', '04L', 10, 'A', datetime.date(2011, 1, 20), datetime.datetime(2013, 8, 30, 1, 1, 8, 80000)), (41038085, 'SHAKE SHACK', 1, '00', 'MADISON SQUARE PARK', 10010, 2128893109, 39, datetime.datetime(2011, 1, 20, 0, 0), 'D', '08A', 10, 'A', datetime.date(2011, 1, 20), datetime.datetime(2013, 8, 30, 1, 1, 8, 80000)), (41038085, 'SHAKE SHACK', 1, '00', 'MADISON SQUARE PARK', 10010, 2128893109, 39, datetime.datetime(2012, 6, 7, 0, 0), 'D', '10F', 4, 'A', datetime.date(2012, 6, 7), datetime.datetime(2013, 8, 30, 1, 1, 8, 80000)), (41038085, 'SHAKE SHACK', 1, '00', 'MADISON SQUARE PARK', 10010, 2128893109, 39, datetime.datetime(2012, 1, 18, 0, 0), 'D', '10F', 2, 'A', datetime.date(2012, 1, 18), datetime.datetime(2013, 8, 30, 1, 1, 8, 80000)), (40997397, 'POP BURGER', 1, '58-60', '9 AVENUE', 10011, 2124148686, 39, datetime.datetime(2010, 8, 27, 23, 20), 'B', '', 11, '', datetime.date(1, 1, 1), datetime.datetime(2013, 8, 30, 1, 1, 8, 80000)), (40997397, 'POP BURGER', 1, '58-60', '9 AVENUE', 10011, 2124148686, 39, datetime.datetime(2012, 3, 5, 0, 0), 'D', '10F', 12, 'A', datetime.date(2012, 3, 5), datetime.datetime(2013, 8, 30, 1, 1, 8, 80000)), (40997397, 'POP BURGER', 1, '58-60', '9 AVENUE', 10011, 2124148686, 39, datetime.datetime(2012, 7, 19, 0, 0), 'P', '08A', 19, '', datetime.date(1, 1, 1), datetime.datetime(2013, 8, 30, 1, 1, 8, 80000)), (40997397, 'POP BURGER', 1, '58-60', '9 AVENUE', 10011, 2124148686, 39, datetime.datetime(2012, 8, 17, 0, 0), 'D', '10F', 7, 'A', datetime.date(2012, 8, 17), datetime.datetime(2013, 8, 30, 1, 1, 8, 80000)), (40997397, 'POP BURGER', 1, '58-60', '9 AVENUE', 10011, 2124148686, 39, datetime.datetime(2013, 2, 19, 0, 0), 'F', '09A', 28, '', datetime.date(1, 1, 1), datetime.datetime(2013, 8, 30, 1, 1, 8, 80000)), (41068780, 'BURGER KING', 1, '146', 'DELANCEY STREET', 10002, 2127779522, 39, datetime.datetime(2011, 4, 26, 0, 0), 'D', '10I', 6, 'A', datetime.date(2011, 4, 26), datetime.datetime(2013, 8, 30, 1, 1, 8, 80000)), (41068780, 'BURGER KING', 1, '146', 'DELANCEY STREET', 10002, 2127779522, 39, datetime.datetime(2013, 8, 20, 0, 0), 'F', '16C', -1, '', datetime.date(1, 1, 1), datetime.datetime(2013, 8, 30, 1, 1, 8, 80000)), (41068780, 'BURGER KING', 1, '146', 'DELANCEY STREET', 10002, 2127779522, 39, datetime.datetime(2012, 3, 26, 0, 0), 'D', '02G', 8, 'A', datetime.date(2012, 3, 26), datetime.datetime(2013, 8, 30, 1, 1, 8, 80000)), (41068780, 'BURGER KING', 1, '146', 'DELANCEY STREET', 10002, 2127779522, 39, datetime.datetime(2011, 4, 26, 0, 0), 'D', '10F', 6, 'A', datetime.date(2011, 4, 26), datetime.datetime(2013, 8, 30, 1, 1, 8, 80000)), (41038085, 'SHAKE SHACK', 1, '00', 'MADISON SQUARE PARK', 10010, 2128893109, 39, datetime.datetime(2012, 1, 5, 0, 0), 'P', '02B', 23, '', datetime.date(1, 1, 1), datetime.datetime(2013, 8, 30, 1, 1, 8, 80000)), (41038085, 'SHAKE SHACK', 1, '00', 'MADISON SQUARE PARK', 10010, 2128893109, 39, datetime.datetime(2012, 1, 5, 0, 0), 'P', '04L', 23, '', datetime.date(1, 1, 1), datetime.datetime(2013, 8, 30, 1, 1, 8, 80000)), (41138498, 'NEW YORK BURGER CO', 1, '678', '6 AVENUE', 10010, 2122291404, 39, datetime.datetime(2010, 10, 6, 0, 0), 'C', '10F', 9, 'A', datetime.date(2010, 10, 6), datetime.datetime(2013, 8, 30, 1, 1, 8, 80000)), (41138498, 'NEW YORK BURGER CO', 1, '678', '6 AVENUE', 10010, 2122291404, 39, datetime.datetime(2011, 9, 12, 0, 0), 'F', '02G', 63, '', datetime.date(1, 1, 1), datetime.datetime(2013, 8, 30, 1, 1, 8, 80000)), (41138498, 'NEW YORK BURGER CO', 1, '678', '6 AVENUE', 10010, 2122291404, 39, datetime.datetime(2010, 10, 6, 0, 0), 'C', '02G', 9, 'A', datetime.date(2010, 10, 6), datetime.datetime(2013, 8, 30, 1, 1, 8, 80000)), (41138498, 'NEW YORK BURGER CO', 1, '678', '6 AVENUE', 10010, 2122291404, 39, datetime.datetime(2011, 9, 12, 0, 0), 'F', '04L', 63, '', datetime.date(1, 1, 1), datetime.datetime(2013, 8, 30, 1, 1, 8, 80000)), (41138498, 'NEW YORK BURGER CO', 1, '678', '6 AVENUE', 10010, 2122291404, 39, datetime.datetime(2012, 1, 11, 0, 0), 'D', '05D', 12, 'A', datetime.date(2012, 1, 11), datetime.datetime(2013, 8, 30, 1, 1, 8, 80000)), (41138498, 'NEW YORK BURGER CO', 1, '678', '6 AVENUE', 10010, 2122291404, 39, datetime.datetime(2011, 9, 12, 0, 0), 'F', '06E', 63, '', datetime.date(1, 1, 1), datetime.datetime(2013, 8, 30, 1, 1, 8, 80000)), (41138498, 'NEW YORK BURGER CO', 1, '678', '6 AVENUE', 10010, 2122291404, 39, datetime.datetime(2011, 9, 26, 0, 0), 'D', '08A', 12, 'A', datetime.date(2011, 9, 26), datetime.datetime(2013, 8, 30, 1, 1, 8, 80000)), (41191377, \"MCDONALD'S\", 1, '136', 'WEST    3 STREET', 10012, 2126742566, 39, datetime.datetime(2013, 6, 25, 0, 0), 'F', '06C', 35, '', datetime.date(1, 1, 1), datetime.datetime(2013, 8, 30, 1, 1, 8, 80000)), (41191377, \"MCDONALD'S\", 1, '136', 'WEST    3 STREET', 10012, 2126742566, 39, datetime.datetime(2013, 6, 25, 0, 0), 'F', '10A', 35, '', datetime.date(1, 1, 1), datetime.datetime(2013, 8, 30, 1, 1, 8, 80000)), (41191377, \"MCDONALD'S\", 1, '136', 'WEST    3 STREET', 10012, 2126742566, 39, datetime.datetime(2013, 6, 25, 0, 0), 'F', '10B', 35, '', datetime.date(1, 1, 1), datetime.datetime(2013, 8, 30, 1, 1, 8, 80000)), (41191377, \"MCDONALD'S\", 1, '136', 'WEST    3 STREET', 10012, 2126742566, 39, datetime.datetime(2012, 7, 2, 0, 0), 'D', '06A', 10, 'A', datetime.date(2012, 7, 2), datetime.datetime(2013, 8, 30, 1, 1, 8, 80000)), (41191377, \"MCDONALD'S\", 1, '136', 'WEST    3 STREET', 10012, 2126742566, 39, datetime.datetime(2013, 6, 25, 0, 0), 'F', '02B', 35, '', datetime.date(1, 1, 1), datetime.datetime(2013, 8, 30, 1, 1, 8, 80000)), (41191377, \"MCDONALD'S\", 1, '136', 'WEST    3 STREET', 10012, 2126742566, 39, datetime.datetime(2010, 8, 6, 0, 0), 'C', '10F', 9, 'A', datetime.date(2010, 8, 6), datetime.datetime(2013, 8, 30, 1, 1, 8, 80000)), (41138498, 'NEW YORK BURGER CO', 1, '678', '6 AVENUE', 10010, 2122291404, 39, datetime.datetime(2011, 9, 12, 0, 0), 'F', '04E', 63, '', datetime.date(1, 1, 1), datetime.datetime(2013, 8, 30, 1, 1, 8, 80000)), (41138498, 'NEW YORK BURGER CO', 1, '678', '6 AVENUE', 10010, 2122291404, 39, datetime.datetime(2011, 9, 12, 0, 0), 'F', '04N', 63, '', datetime.date(1, 1, 1), datetime.datetime(2013, 8, 30, 1, 1, 8, 80000)), (41138498, 'NEW YORK BURGER CO', 1, '678', '6 AVENUE', 10010, 2122291404, 39, datetime.datetime(2011, 9, 12, 0, 0), 'F', '08C', 63, '', datetime.date(1, 1, 1), datetime.datetime(2013, 8, 30, 1, 1, 8, 80000)), (41138498, 'NEW YORK BURGER CO', 1, '678', '6 AVENUE', 10010, 2122291404, 39, datetime.datetime(2011, 9, 12, 0, 0), 'F', '10F', 63, '', datetime.date(1, 1, 1), datetime.datetime(2013, 8, 30, 1, 1, 8, 80000)), (41138498, 'NEW YORK BURGER CO', 1, '678', '6 AVENUE', 10010, 2122291404, 39, datetime.datetime(2011, 9, 26, 0, 0), 'D', '04N', 12, 'A', datetime.date(2011, 9, 26), datetime.datetime(2013, 8, 30, 1, 1, 8, 80000)), (41138498, 'NEW YORK BURGER CO', 1, '678', '6 AVENUE', 10010, 2122291404, 39, datetime.datetime(2011, 9, 26, 0, 0), 'D', '10B', 12, 'A', datetime.date(2011, 9, 26), datetime.datetime(2013, 8, 30, 1, 1, 8, 80000)), (41191377, \"MCDONALD'S\", 1, '136', 'WEST    3 STREET', 10012, 2126742566, 39, datetime.datetime(2011, 7, 22, 0, 0), 'D', '10F', 13, 'A', datetime.date(2011, 7, 22), datetime.datetime(2013, 8, 30, 1, 1, 8, 80000)), (41191377, \"MCDONALD'S\", 1, '136', 'WEST    3 STREET', 10012, 2126742566, 39, datetime.datetime(2013, 6, 25, 0, 0), 'F', '02G', 35, '', datetime.date(1, 1, 1), datetime.datetime(2013, 8, 30, 1, 1, 8, 80000)), (41191377, \"MCDONALD'S\", 1, '136', 'WEST    3 STREET', 10012, 2126742566, 39, datetime.datetime(2013, 6, 25, 0, 0), 'F', '04H', 35, '', datetime.date(1, 1, 1), datetime.datetime(2013, 8, 30, 1, 1, 8, 80000)), (41248825, 'BLUE 9 BURGER', 1, '92', '3 AVENUE', 10003, 2129790053, 39, datetime.datetime(2010, 12, 6, 0, 0), 'P', '04L', 17, '', datetime.date(1, 1, 1), datetime.datetime(2013, 8, 30, 1, 1, 8, 80000)), (41248825, 'BLUE 9 BURGER', 1, '92', '3 AVENUE', 10003, 2129790053, 39, datetime.datetime(2011, 7, 11, 0, 0), 'F', '08A', 36, '', datetime.date(1, 1, 1), datetime.datetime(2013, 8, 30, 1, 1, 8, 80000)), (41248825, 'BLUE 9 BURGER', 1, '92', '3 AVENUE', 10003, 2129790053, 39, datetime.datetime(2011, 12, 5, 0, 0), 'P', '04K', 26, '', datetime.date(1, 1, 1), datetime.datetime(2013, 8, 30, 1, 1, 8, 80000)), (41248825, 'BLUE 9 BURGER', 1, '92', '3 AVENUE', 10003, 2129790053, 39, datetime.datetime(2012, 10, 18, 0, 0), 'F', '04K', 46, '', datetime.date(1, 1, 1), datetime.datetime(2013, 8, 30, 1, 1, 8, 80000)), (41248825, 'BLUE 9 BURGER', 1, '92', '3 AVENUE', 10003, 2129790053, 39, datetime.datetime(2012, 11, 27, 0, 0), 'G', '08A', 28, '', datetime.date(1, 1, 1), datetime.datetime(2013, 8, 30, 1, 1, 8, 80000)), (41248825, 'BLUE 9 BURGER', 1, '92', '3 AVENUE', 10003, 2129790053, 39, datetime.datetime(2010, 12, 6, 0, 0), 'P', '08A', 17, '', datetime.date(1, 1, 1), datetime.datetime(2013, 8, 30, 1, 1, 8, 80000)), (41248825, 'BLUE 9 BURGER', 1, '92', '3 AVENUE', 10003, 2129790053, 39, datetime.datetime(2010, 12, 22, 0, 0), 'U', '06F', 9, 'B', datetime.date(2010, 12, 22), datetime.datetime(2013, 8, 30, 1, 1, 8, 80000)), (41248825, 'BLUE 9 BURGER', 1, '92', '3 AVENUE', 10003, 2129790053, 39, datetime.datetime(2011, 12, 5, 0, 0), 'P', '04L', 26, '', datetime.date(1, 1, 1), datetime.datetime(2013, 8, 30, 1, 1, 8, 80000)), (41248825, 'BLUE 9 BURGER', 1, '92', '3 AVENUE', 10003, 2129790053, 39, datetime.datetime(2012, 6, 11, 0, 0), 'U', '04L', 10, 'B', datetime.date(2012, 6, 11), datetime.datetime(2013, 8, 30, 1, 1, 8, 80000)), (41248825, 'BLUE 9 BURGER', 1, '92', '3 AVENUE', 10003, 2129790053, 39, datetime.datetime(2012, 10, 18, 0, 0), 'F', '06C', 46, '', datetime.date(1, 1, 1), datetime.datetime(2013, 8, 30, 1, 1, 8, 80000)), (41248825, 'BLUE 9 BURGER', 1, '92', '3 AVENUE', 10003, 2129790053, 39, datetime.datetime(2012, 10, 18, 0, 0), 'F', '08A', 46, '', datetime.date(1, 1, 1), datetime.datetime(2013, 8, 30, 1, 1, 8, 80000)), (41248825, 'BLUE 9 BURGER', 1, '92', '3 AVENUE', 10003, 2129790053, 39, datetime.datetime(2012, 11, 29, 0, 0), 'W', '08A', 35, '', datetime.date(1, 1, 1), datetime.datetime(2013, 8, 30, 1, 1, 8, 80000)), (41248825, 'BLUE 9 BURGER', 1, '92', '3 AVENUE', 10003, 2129790053, 39, datetime.datetime(2012, 11, 29, 0, 0), 'W', '10F', 35, '', datetime.date(1, 1, 1), datetime.datetime(2013, 8, 30, 1, 1, 8, 80000)), (41262328, \"MCDONALD'S\", 1, '39', 'UNION SQUARE WEST', 10003, 2126459079, 39, datetime.datetime(2010, 8, 30, 0, 0), 'P', '04H', 26, '', datetime.date(1, 1, 1), datetime.datetime(2013, 8, 30, 1, 1, 8, 80000)), (41262328, \"MCDONALD'S\", 1, '39', 'UNION SQUARE WEST', 10003, 2126459079, 39, datetime.datetime(2010, 8, 30, 0, 0), 'P', '08A', 26, '', datetime.date(1, 1, 1), datetime.datetime(2013, 8, 30, 1, 1, 8, 80000)), (41262328, \"MCDONALD'S\", 1, '39', 'UNION SQUARE WEST', 10003, 2126459079, 39, datetime.datetime(2011, 3, 16, 0, 0), 'P', '02G', 16, '', datetime.date(1, 1, 1), datetime.datetime(2013, 8, 30, 1, 1, 8, 80000)), (41262328, \"MCDONALD'S\", 1, '39', 'UNION SQUARE WEST', 10003, 2126459079, 39, datetime.datetime(2012, 9, 10, 0, 0), 'F', '02G', 12, 'C', datetime.date(2012, 9, 10), datetime.datetime(2013, 8, 30, 1, 1, 8, 80000)), (41262328, \"MCDONALD'S\", 1, '39', 'UNION SQUARE WEST', 10003, 2126459079, 39, datetime.datetime(2013, 1, 11, 0, 0), 'P', '02G', 27, '', datetime.date(1, 1, 1), datetime.datetime(2013, 8, 30, 1, 1, 8, 80000)), (41262328, \"MCDONALD'S\", 1, '39', 'UNION SQUARE WEST', 10003, 2126459079, 39, datetime.datetime(2013, 7, 16, 0, 0), 'P', '04N', 22, '', datetime.date(1, 1, 1), datetime.datetime(2013, 8, 30, 1, 1, 8, 80000)), (41262328, \"MCDONALD'S\", 1, '39', 'UNION SQUARE WEST', 10003, 2126459079, 39, datetime.datetime(2011, 3, 16, 0, 0), 'P', '04H', 16, '', datetime.date(1, 1, 1), datetime.datetime(2013, 8, 30, 1, 1, 8, 80000)), (41262328, \"MCDONALD'S\", 1, '39', 'UNION SQUARE WEST', 10003, 2126459079, 39, datetime.datetime(2012, 9, 27, 0, 0), 'U', '06D', 14, '', datetime.date(1, 1, 1), datetime.datetime(2013, 8, 30, 1, 1, 8, 80000)), (41248825, 'BLUE 9 BURGER', 1, '92', '3 AVENUE', 10003, 2129790053, 39, datetime.datetime(2010, 12, 22, 0, 0), 'U', '10F', 9, 'B', datetime.date(2010, 12, 22), datetime.datetime(2013, 8, 30, 1, 1, 8, 80000)), (41248825, 'BLUE 9 BURGER', 1, '92', '3 AVENUE', 10003, 2129790053, 39, datetime.datetime(2010, 12, 22, 0, 0), 'U', '20A', 9, 'B', datetime.date(2010, 12, 22), datetime.datetime(2013, 8, 30, 1, 1, 8, 80000)), (41248825, 'BLUE 9 BURGER', 1, '92', '3 AVENUE', 10003, 2129790053, 39, datetime.datetime(2011, 7, 11, 0, 0), 'F', '04L', 36, '', datetime.date(1, 1, 1), datetime.datetime(2013, 8, 30, 1, 1, 8, 80000)), (41248825, 'BLUE 9 BURGER', 1, '92', '3 AVENUE', 10003, 2129790053, 39, datetime.datetime(2012, 5, 15, 0, 0), 'F', '04L', 19, '', datetime.date(1, 1, 1), datetime.datetime(2013, 8, 30, 1, 1, 8, 80000)), (41248825, 'BLUE 9 BURGER', 1, '92', '3 AVENUE', 10003, 2129790053, 39, datetime.datetime(2012, 5, 15, 0, 0), 'F', '06C', 19, '', datetime.date(1, 1, 1), datetime.datetime(2013, 8, 30, 1, 1, 8, 80000)), (41248825, 'BLUE 9 BURGER', 1, '92', '3 AVENUE', 10003, 2129790053, 39, datetime.datetime(2012, 10, 18, 0, 0), 'F', '04M', 46, '', datetime.date(1, 1, 1), datetime.datetime(2013, 8, 30, 1, 1, 8, 80000)), (41248825, 'BLUE 9 BURGER', 1, '92', '3 AVENUE', 10003, 2129790053, 39, datetime.datetime(2012, 10, 18, 0, 0), 'F', '06D', 46, '', datetime.date(1, 1, 1), datetime.datetime(2013, 8, 30, 1, 1, 8, 80000)), (41248825, 'BLUE 9 BURGER', 1, '92', '3 AVENUE', 10003, 2129790053, 39, datetime.datetime(2012, 11, 29, 0, 0), 'W', '04M', 35, '', datetime.date(1, 1, 1), datetime.datetime(2013, 8, 30, 1, 1, 8, 80000)), (41248825, 'BLUE 9 BURGER', 1, '92', '3 AVENUE', 10003, 2129790053, 39, datetime.datetime(2013, 6, 5, 0, 0), 'P', '10B', 10, '', datetime.date(1, 1, 1), datetime.datetime(2013, 8, 30, 1, 1, 8, 80000)), (41248825, 'BLUE 9 BURGER', 1, '92', '3 AVENUE', 10003, 2129790053, 39, datetime.datetime(2011, 8, 23, 0, 0), 'U', '04M', 13, 'B', datetime.date(2011, 8, 23), datetime.datetime(2013, 8, 30, 1, 1, 8, 80000)), (41248825, 'BLUE 9 BURGER', 1, '92', '3 AVENUE', 10003, 2129790053, 39, datetime.datetime(2011, 8, 23, 0, 0), 'U', '10B', 13, 'B', datetime.date(2011, 8, 23), datetime.datetime(2013, 8, 30, 1, 1, 8, 80000)), (41248825, 'BLUE 9 BURGER', 1, '92', '3 AVENUE', 10003, 2129790053, 39, datetime.datetime(2011, 12, 5, 0, 0), 'P', '02G', 26, '', datetime.date(1, 1, 1), datetime.datetime(2013, 8, 30, 1, 1, 8, 80000)), (41248825, 'BLUE 9 BURGER', 1, '92', '3 AVENUE', 10003, 2129790053, 39, datetime.datetime(2011, 12, 14, 0, 0), 'U', '10B', 16, 'B', datetime.date(2011, 12, 14), datetime.datetime(2013, 8, 30, 1, 1, 8, 80000)), (41248825, 'BLUE 9 BURGER', 1, '92', '3 AVENUE', 10003, 2129790053, 39, datetime.datetime(2012, 10, 18, 0, 0), 'F', '04A', 46, '', datetime.date(1, 1, 1), datetime.datetime(2013, 8, 30, 1, 1, 8, 80000)), (41248825, 'BLUE 9 BURGER', 1, '92', '3 AVENUE', 10003, 2129790053, 39, datetime.datetime(2012, 10, 18, 0, 0), 'F', '06A', 46, '', datetime.date(1, 1, 1), datetime.datetime(2013, 8, 30, 1, 1, 8, 80000)), (41248825, 'BLUE 9 BURGER', 1, '92', '3 AVENUE', 10003, 2129790053, 39, datetime.datetime(2012, 11, 27, 0, 0), 'G', '04L', 28, '', datetime.date(1, 1, 1), datetime.datetime(2013, 8, 30, 1, 1, 8, 80000)), (41248825, 'BLUE 9 BURGER', 1, '92', '3 AVENUE', 10003, 2129790053, 39, datetime.datetime(2012, 11, 30, 0, 0), 'O', '09C', 7, 'C', datetime.date(2012, 11, 30), datetime.datetime(2013, 8, 30, 1, 1, 8, 80000)), (41191377, \"MCDONALD'S\", 1, '136', 'WEST    3 STREET', 10012, 2126742566, 39, datetime.datetime(2013, 6, 25, 0, 0), 'F', '10F', 35, '', datetime.date(1, 1, 1), datetime.datetime(2013, 8, 30, 1, 1, 8, 80000)), (41248825, 'BLUE 9 BURGER', 1, '92', '3 AVENUE', 10003, 2129790053, 39, datetime.datetime(2011, 7, 11, 0, 0), 'F', '02G', 36, '', datetime.date(1, 1, 1), datetime.datetime(2013, 8, 30, 1, 1, 8, 80000)), (41248825, 'BLUE 9 BURGER', 1, '92', '3 AVENUE', 10003, 2129790053, 39, datetime.datetime(2011, 8, 23, 0, 0), 'U', '09C', 13, 'B', datetime.date(2011, 8, 23), datetime.datetime(2013, 8, 30, 1, 1, 8, 80000)), (41248825, 'BLUE 9 BURGER', 1, '92', '3 AVENUE', 10003, 2129790053, 39, datetime.datetime(2011, 12, 5, 0, 0), 'P', '10B', 26, '', datetime.date(1, 1, 1), datetime.datetime(2013, 8, 30, 1, 1, 8, 80000)), (41248825, 'BLUE 9 BURGER', 1, '92', '3 AVENUE', 10003, 2129790053, 39, datetime.datetime(2012, 5, 15, 0, 0), 'F', '04K', 19, '', datetime.date(1, 1, 1), datetime.datetime(2013, 8, 30, 1, 1, 8, 80000)), (41248825, 'BLUE 9 BURGER', 1, '92', '3 AVENUE', 10003, 2129790053, 39, datetime.datetime(2013, 6, 5, 0, 0), 'P', '04L', 10, '', datetime.date(1, 1, 1), datetime.datetime(2013, 8, 30, 1, 1, 8, 80000)), (41248825, 'BLUE 9 BURGER', 1, '92', '3 AVENUE', 10003, 2129790053, 39, datetime.datetime(2013, 6, 5, 0, 0), 'P', '10F', 10, '', datetime.date(1, 1, 1), datetime.datetime(2013, 8, 30, 1, 1, 8, 80000)), (41262328, \"MCDONALD'S\", 1, '39', 'UNION SQUARE WEST', 10003, 2126459079, 39, datetime.datetime(2012, 9, 10, 0, 0), 'F', '06F', 12, 'C', datetime.date(2012, 9, 10), datetime.datetime(2013, 8, 30, 1, 1, 8, 80000)), (41262328, \"MCDONALD'S\", 1, '39', 'UNION SQUARE WEST', 10003, 2126459079, 39, datetime.datetime(2012, 9, 27, 0, 0), 'U', '10F', 14, '', datetime.date(1, 1, 1), datetime.datetime(2013, 8, 30, 1, 1, 8, 80000)), (41262328, \"MCDONALD'S\", 1, '39', 'UNION SQUARE WEST', 10003, 2126459079, 39, datetime.datetime(2013, 2, 21, 0, 0), 'F', '06A', 9, 'C', datetime.date(2013, 2, 21), datetime.datetime(2013, 8, 30, 1, 1, 8, 80000)), (41262328, \"MCDONALD'S\", 1, '39', 'UNION SQUARE WEST', 10003, 2126459079, 39, datetime.datetime(2010, 8, 30, 0, 0), 'P', '04L', 26, '', datetime.date(1, 1, 1), datetime.datetime(2013, 8, 30, 1, 1, 8, 80000)), (41262328, \"MCDONALD'S\", 1, '39', 'UNION SQUARE WEST', 10003, 2126459079, 39, datetime.datetime(2011, 3, 16, 0, 0), 'P', '10F', 16, '', datetime.date(1, 1, 1), datetime.datetime(2013, 8, 30, 1, 1, 8, 80000)), (41262328, \"MCDONALD'S\", 1, '39', 'UNION SQUARE WEST', 10003, 2126459079, 39, datetime.datetime(2013, 1, 11, 0, 0), 'P', '05D', 27, '', datetime.date(1, 1, 1), datetime.datetime(2013, 8, 30, 1, 1, 8, 80000)), (41262328, \"MCDONALD'S\", 1, '39', 'UNION SQUARE WEST', 10003, 2126459079, 39, datetime.datetime(2012, 8, 31, 0, 0), 'F', '08A', 31, '', datetime.date(1, 1, 1), datetime.datetime(2013, 8, 30, 1, 1, 8, 80000)), (41262328, \"MCDONALD'S\", 1, '39', 'UNION SQUARE WEST', 10003, 2126459079, 39, datetime.datetime(2013, 7, 16, 0, 0), 'P', '10F', 22, '', datetime.date(1, 1, 1), datetime.datetime(2013, 8, 30, 1, 1, 8, 80000)), (41300864, 'PAULS DA BURGER JOINT', 1, '131', '2 AVENUE', 10003, 2125293033, 39, datetime.datetime(2011, 2, 2, 0, 0), 'P', '08A', 24, '', datetime.date(1, 1, 1), datetime.datetime(2013, 8, 30, 1, 1, 8, 80000)), (41300864, 'PAULS DA BURGER JOINT', 1, '131', '2 AVENUE', 10003, 2125293033, 39, datetime.datetime(2011, 2, 15, 0, 0), 'U', '08A', 20, 'B', datetime.date(2011, 2, 15), datetime.datetime(2013, 8, 30, 1, 1, 8, 80000)), (41300864, 'PAULS DA BURGER JOINT', 1, '131', '2 AVENUE', 10003, 2125293033, 39, datetime.datetime(2011, 8, 29, 0, 0), 'O', '08A', 12, 'P', datetime.date(2011, 8, 29), datetime.datetime(2013, 8, 30, 1, 1, 8, 80000)), (41300864, 'PAULS DA BURGER JOINT', 1, '131', '2 AVENUE', 10003, 2125293033, 39, datetime.datetime(2012, 2, 21, 0, 0), 'F', '04L', 18, '', datetime.date(1, 1, 1), datetime.datetime(2013, 8, 30, 1, 1, 8, 80000)), (41300864, 'PAULS DA BURGER JOINT', 1, '131', '2 AVENUE', 10003, 2125293033, 39, datetime.datetime(2012, 9, 26, 0, 0), 'U', '04M', 13, 'B', datetime.date(2012, 9, 26), datetime.datetime(2013, 8, 30, 1, 1, 8, 80000)), (41303762, 'BLT BURGER', 1, '470', 'AVENUE OF THE AMERICAS', 10011, 2122438226, 39, datetime.datetime(2012, 5, 17, 0, 0), 'D', '06D', 7, 'A', datetime.date(2012, 5, 17), datetime.datetime(2013, 8, 30, 1, 1, 8, 80000)), (41303762, 'BLT BURGER', 1, '470', 'AVENUE OF THE AMERICAS', 10011, 2122438226, 39, datetime.datetime(2012, 5, 17, 0, 0), 'D', '10H', 7, 'A', datetime.date(2012, 5, 17), datetime.datetime(2013, 8, 30, 1, 1, 8, 80000)), (41305427, \"MCDONALD'S\", 1, '154', 'WEST   14 STREET', 10011, 2126913720, 39, datetime.datetime(2011, 12, 6, 0, 0), 'D', '08A', 11, 'A', datetime.date(2011, 12, 6), datetime.datetime(2013, 8, 30, 1, 1, 8, 80000)), (41305431, \"MCDONALD'S\", 1, '541', '6 AVENUE', 10011, 2124638860, 39, datetime.datetime(2013, 4, 10, 0, 0), 'B', '', -1, '', datetime.date(1, 1, 1), datetime.datetime(2013, 8, 30, 1, 1, 8, 80000)), (41305431, \"MCDONALD'S\", 1, '541', '6 AVENUE', 10011, 2124638860, 39, datetime.datetime(2013, 7, 15, 0, 0), 'P', '02G', 18, '', datetime.date(1, 1, 1), datetime.datetime(2013, 8, 30, 1, 1, 8, 80000)), (41300864, 'PAULS DA BURGER JOINT', 1, '131', '2 AVENUE', 10003, 2125293033, 39, datetime.datetime(2011, 2, 2, 0, 0), 'P', '04L', 24, '', datetime.date(1, 1, 1), datetime.datetime(2013, 8, 30, 1, 1, 8, 80000)), (41300864, 'PAULS DA BURGER JOINT', 1, '131', '2 AVENUE', 10003, 2125293033, 39, datetime.datetime(2011, 8, 25, 0, 0), 'G', '02G', 61, '', datetime.date(1, 1, 1), datetime.datetime(2013, 8, 30, 1, 1, 8, 80000)), (41300864, 'PAULS DA BURGER JOINT', 1, '131', '2 AVENUE', 10003, 2125293033, 39, datetime.datetime(2011, 8, 29, 0, 0), 'O', '04L', 12, 'P', datetime.date(2011, 8, 29), datetime.datetime(2013, 8, 30, 1, 1, 8, 80000)), (41300864, 'PAULS DA BURGER JOINT', 1, '131', '2 AVENUE', 10003, 2125293033, 39, datetime.datetime(2012, 2, 21, 0, 0), 'F', '06C', 18, '', datetime.date(1, 1, 1), datetime.datetime(2013, 8, 30, 1, 1, 8, 80000)), (41300864, 'PAULS DA BURGER JOINT', 1, '131', '2 AVENUE', 10003, 2125293033, 39, datetime.datetime(2013, 4, 18, 0, 0), 'F', '04H', 23, '', datetime.date(1, 1, 1), datetime.datetime(2013, 8, 30, 1, 1, 8, 80000)), (41303762, 'BLT BURGER', 1, '470', 'AVENUE OF THE AMERICAS', 10011, 2122438226, 39, datetime.datetime(2013, 4, 10, 0, 0), 'P', '02G', 24, '', datetime.date(1, 1, 1), datetime.datetime(2013, 8, 30, 1, 1, 8, 80000)), (41305431, \"MCDONALD'S\", 1, '541', '6 AVENUE', 10011, 2124638860, 39, datetime.datetime(2012, 2, 3, 0, 0), 'D', '06E', 12, 'A', datetime.date(2012, 2, 3), datetime.datetime(2013, 8, 30, 1, 1, 8, 80000)), (41300864, 'PAULS DA BURGER JOINT', 1, '131', '2 AVENUE', 10003, 2125293033, 39, datetime.datetime(2012, 2, 21, 0, 0), 'F', '06D', 18, '', datetime.date(1, 1, 1), datetime.datetime(2013, 8, 30, 1, 1, 8, 80000)), (41303762, 'BLT BURGER', 1, '470', 'AVENUE OF THE AMERICAS', 10011, 2122438226, 39, datetime.datetime(2011, 4, 13, 0, 0), 'D', '02B', 13, 'A', datetime.date(2011, 4, 13), datetime.datetime(2013, 8, 30, 1, 1, 8, 80000)), (41303762, 'BLT BURGER', 1, '470', 'AVENUE OF THE AMERICAS', 10011, 2122438226, 39, datetime.datetime(2013, 4, 10, 0, 0), 'P', '04H', 24, '', datetime.date(1, 1, 1), datetime.datetime(2013, 8, 30, 1, 1, 8, 80000)), (41300864, 'PAULS DA BURGER JOINT', 1, '131', '2 AVENUE', 10003, 2125293033, 39, datetime.datetime(2010, 6, 25, 17, 49), 'B', '', -1, '', datetime.date(1, 1, 1), datetime.datetime(2013, 8, 30, 1, 1, 8, 80000)), (41300864, 'PAULS DA BURGER JOINT', 1, '131', '2 AVENUE', 10003, 2125293033, 39, datetime.datetime(2011, 2, 2, 0, 0), 'P', '02G', 24, '', datetime.date(1, 1, 1), datetime.datetime(2013, 8, 30, 1, 1, 8, 80000)), (41300864, 'PAULS DA BURGER JOINT', 1, '131', '2 AVENUE', 10003, 2125293033, 39, datetime.datetime(2011, 2, 2, 0, 0), 'P', '99B', 24, '', datetime.date(1, 1, 1), datetime.datetime(2013, 8, 30, 1, 1, 8, 80000)), (41300864, 'PAULS DA BURGER JOINT', 1, '131', '2 AVENUE', 10003, 2125293033, 39, datetime.datetime(2011, 2, 15, 0, 0), 'U', '04L', 20, 'B', datetime.date(2011, 2, 15), datetime.datetime(2013, 8, 30, 1, 1, 8, 80000)), (41300864, 'PAULS DA BURGER JOINT', 1, '131', '2 AVENUE', 10003, 2125293033, 39, datetime.datetime(2012, 3, 12, 0, 0), 'U', '04L', 20, 'B', datetime.date(2012, 3, 12), datetime.datetime(2013, 8, 30, 1, 1, 8, 80000)), (41300864, 'PAULS DA BURGER JOINT', 1, '131', '2 AVENUE', 10003, 2125293033, 39, datetime.datetime(2013, 4, 18, 0, 0), 'F', '04M', 23, '', datetime.date(1, 1, 1), datetime.datetime(2013, 8, 30, 1, 1, 8, 80000)), (41305427, \"MCDONALD'S\", 1, '154', 'WEST   14 STREET', 10011, 2126913720, 39, datetime.datetime(2010, 12, 22, 0, 0), 'C', '06C', 11, 'A', datetime.date(2010, 12, 22), datetime.datetime(2013, 8, 30, 1, 1, 8, 80000)), (41305427, \"MCDONALD'S\", 1, '154', 'WEST   14 STREET', 10011, 2126913720, 39, datetime.datetime(2010, 12, 22, 0, 0), 'C', '10F', 11, 'A', datetime.date(2010, 12, 22), datetime.datetime(2013, 8, 30, 1, 1, 8, 80000)), (41305427, \"MCDONALD'S\", 1, '154', 'WEST   14 STREET', 10011, 2126913720, 39, datetime.datetime(2012, 8, 24, 0, 0), 'B', '', -1, '', datetime.date(1, 1, 1), datetime.datetime(2013, 8, 30, 1, 1, 8, 80000)), (41305431, \"MCDONALD'S\", 1, '541', '6 AVENUE', 10011, 2124638860, 39, datetime.datetime(2011, 2, 22, 0, 0), 'D', '06E', 8, 'A', datetime.date(2011, 2, 22), datetime.datetime(2013, 8, 30, 1, 1, 8, 80000)), (41305431, \"MCDONALD'S\", 1, '541', '6 AVENUE', 10011, 2124638860, 39, datetime.datetime(2011, 2, 22, 0, 0), 'D', '10F', 8, 'A', datetime.date(2011, 2, 22), datetime.datetime(2013, 8, 30, 1, 1, 8, 80000)), (41303762, 'BLT BURGER', 1, '470', 'AVENUE OF THE AMERICAS', 10011, 2122438226, 39, datetime.datetime(2012, 5, 7, 0, 0), 'P', '02G', 20, '', datetime.date(1, 1, 1), datetime.datetime(2013, 8, 30, 1, 1, 8, 80000)), (41248825, 'BLUE 9 BURGER', 1, '92', '3 AVENUE', 10003, 2129790053, 39, datetime.datetime(2010, 12, 22, 0, 0), 'U', '99B', 9, 'B', datetime.date(2010, 12, 22), datetime.datetime(2013, 8, 30, 1, 1, 8, 80000)), (41248825, 'BLUE 9 BURGER', 1, '92', '3 AVENUE', 10003, 2129790053, 39, datetime.datetime(2011, 7, 11, 0, 0), 'F', '06B', 36, '', datetime.date(1, 1, 1), datetime.datetime(2013, 8, 30, 1, 1, 8, 80000)), (41248825, 'BLUE 9 BURGER', 1, '92', '3 AVENUE', 10003, 2129790053, 39, datetime.datetime(2011, 12, 14, 0, 0), 'U', '04L', 16, 'B', datetime.date(2011, 12, 14), datetime.datetime(2013, 8, 30, 1, 1, 8, 80000)), (41248825, 'BLUE 9 BURGER', 1, '92', '3 AVENUE', 10003, 2129790053, 39, datetime.datetime(2012, 6, 11, 0, 0), 'U', '08A', 10, 'B', datetime.date(2012, 6, 11), datetime.datetime(2013, 8, 30, 1, 1, 8, 80000)), (41248825, 'BLUE 9 BURGER', 1, '92', '3 AVENUE', 10003, 2129790053, 39, datetime.datetime(2012, 10, 18, 0, 0), 'F', '04L', 46, '', datetime.date(1, 1, 1), datetime.datetime(2013, 8, 30, 1, 1, 8, 80000)), (41248825, 'BLUE 9 BURGER', 1, '92', '3 AVENUE', 10003, 2129790053, 39, datetime.datetime(2012, 11, 29, 0, 0), 'W', '04L', 35, '', datetime.date(1, 1, 1), datetime.datetime(2013, 8, 30, 1, 1, 8, 80000)), (41248825, 'BLUE 9 BURGER', 1, '92', '3 AVENUE', 10003, 2129790053, 39, datetime.datetime(2012, 11, 30, 0, 0), 'O', '10F', 7, 'C', datetime.date(2012, 11, 30), datetime.datetime(2013, 8, 30, 1, 1, 8, 80000)), (41321176, 'FIVE GUYS BURGERS AND FRIES', 1, '496       ', 'LAGUARDIA PLACE                                   ', 10012, 2122286008, 39, datetime.datetime(2010, 6, 28, 12, 20), 'D', '10G', 3, '', datetime.date(1, 1, 1), datetime.datetime(2013, 8, 30, 1, 1, 8, 80000)), (41321176, 'FIVE GUYS BURGERS AND FRIES', 1, '496       ', 'LAGUARDIA PLACE                                   ', 10012, 2122286008, 39, datetime.datetime(2012, 4, 12, 0, 0), 'D', '10C', 5, 'A', datetime.date(2012, 4, 12), datetime.datetime(2013, 8, 30, 1, 1, 8, 80000)), (41305431, \"MCDONALD'S\", 1, '541', '6 AVENUE', 10011, 2124638860, 39, datetime.datetime(2012, 8, 24, 0, 0), 'B', '', -1, '', datetime.date(1, 1, 1), datetime.datetime(2013, 8, 30, 1, 1, 8, 80000)), (41300864, 'PAULS DA BURGER JOINT', 1, '131', '2 AVENUE', 10003, 2125293033, 39, datetime.datetime(2010, 6, 8, 22, 26), 'B', '', -1, '', datetime.date(1, 1, 1), datetime.datetime(2013, 8, 30, 1, 1, 8, 80000)), (41300864, 'PAULS DA BURGER JOINT', 1, '131', '2 AVENUE', 10003, 2125293033, 39, datetime.datetime(2011, 2, 15, 0, 0), 'U', '06A', 20, 'B', datetime.date(2011, 2, 15), datetime.datetime(2013, 8, 30, 1, 1, 8, 80000)), (41300864, 'PAULS DA BURGER JOINT', 1, '131', '2 AVENUE', 10003, 2125293033, 39, datetime.datetime(2011, 8, 25, 0, 0), 'G', '08A', 61, '', datetime.date(1, 1, 1), datetime.datetime(2013, 8, 30, 1, 1, 8, 80000)), (41300864, 'PAULS DA BURGER JOINT', 1, '131', '2 AVENUE', 10003, 2125293033, 39, datetime.datetime(2011, 10, 4, 0, 0), 'U', '04L', 12, 'B', datetime.date(2011, 10, 4), datetime.datetime(2013, 8, 30, 1, 1, 8, 80000)), (41300864, 'PAULS DA BURGER JOINT', 1, '131', '2 AVENUE', 10003, 2125293033, 39, datetime.datetime(2011, 10, 4, 0, 0), 'U', '04N', 12, 'B', datetime.date(2011, 10, 4), datetime.datetime(2013, 8, 30, 1, 1, 8, 80000)), (41300864, 'PAULS DA BURGER JOINT', 1, '131', '2 AVENUE', 10003, 2125293033, 39, datetime.datetime(2012, 2, 21, 0, 0), 'F', '04M', 18, '', datetime.date(1, 1, 1), datetime.datetime(2013, 8, 30, 1, 1, 8, 80000)), (41300864, 'PAULS DA BURGER JOINT', 1, '131', '2 AVENUE', 10003, 2125293033, 39, datetime.datetime(2012, 3, 12, 0, 0), 'U', '06D', 20, 'B', datetime.date(2012, 3, 12), datetime.datetime(2013, 8, 30, 1, 1, 8, 80000)), (41300864, 'PAULS DA BURGER JOINT', 1, '131', '2 AVENUE', 10003, 2125293033, 39, datetime.datetime(2012, 8, 30, 0, 0), 'F', '02G', 22, '', datetime.date(1, 1, 1), datetime.datetime(2013, 8, 30, 1, 1, 8, 80000)), (41300864, 'PAULS DA BURGER JOINT', 1, '131', '2 AVENUE', 10003, 2125293033, 39, datetime.datetime(2012, 8, 30, 0, 0), 'F', '08A', 22, '', datetime.date(1, 1, 1), datetime.datetime(2013, 8, 30, 1, 1, 8, 80000)), (41300864, 'PAULS DA BURGER JOINT', 1, '131', '2 AVENUE', 10003, 2125293033, 39, datetime.datetime(2012, 9, 26, 0, 0), 'U', '04L', 13, 'B', datetime.date(2012, 9, 26), datetime.datetime(2013, 8, 30, 1, 1, 8, 80000)), (41300864, 'PAULS DA BURGER JOINT', 1, '131', '2 AVENUE', 10003, 2125293033, 39, datetime.datetime(2013, 4, 18, 0, 0), 'F', '04L', 23, '', datetime.date(1, 1, 1), datetime.datetime(2013, 8, 30, 1, 1, 8, 80000)), (41303762, 'BLT BURGER', 1, '470', 'AVENUE OF THE AMERICAS', 10011, 2122438226, 39, datetime.datetime(2011, 4, 13, 0, 0), 'D', '99B', 13, 'A', datetime.date(2011, 4, 13), datetime.datetime(2013, 8, 30, 1, 1, 8, 80000)), (41303762, 'BLT BURGER', 1, '470', 'AVENUE OF THE AMERICAS', 10011, 2122438226, 39, datetime.datetime(2012, 10, 9, 0, 0), 'P', '10F', 14, '', datetime.date(1, 1, 1), datetime.datetime(2013, 8, 30, 1, 1, 8, 80000)), (41303762, 'BLT BURGER', 1, '470', 'AVENUE OF THE AMERICAS', 10011, 2122438226, 39, datetime.datetime(2012, 10, 23, 0, 0), 'D', '02G', 12, 'A', datetime.date(2012, 10, 23), datetime.datetime(2013, 8, 30, 1, 1, 8, 80000)), (41303762, 'BLT BURGER', 1, '470', 'AVENUE OF THE AMERICAS', 10011, 2122438226, 39, datetime.datetime(2012, 10, 23, 0, 0), 'D', '06D', 12, 'A', datetime.date(2012, 10, 23), datetime.datetime(2013, 8, 30, 1, 1, 8, 80000)), (41305431, \"MCDONALD'S\", 1, '541', '6 AVENUE', 10011, 2124638860, 39, datetime.datetime(2013, 2, 7, 0, 0), 'P', '02G', 21, '', datetime.date(1, 1, 1), datetime.datetime(2013, 8, 30, 1, 1, 8, 80000)), (41305431, \"MCDONALD'S\", 1, '541', '6 AVENUE', 10011, 2124638860, 39, datetime.datetime(2013, 2, 28, 0, 0), 'D', '10F', 3, 'A', datetime.date(2013, 2, 28), datetime.datetime(2013, 8, 30, 1, 1, 8, 80000)), (41305431, \"MCDONALD'S\", 1, '541', '6 AVENUE', 10011, 2124638860, 39, datetime.datetime(2013, 7, 15, 0, 0), 'P', '06D', 18, '', datetime.date(1, 1, 1), datetime.datetime(2013, 8, 30, 1, 1, 8, 80000)), (41248825, 'BLUE 9 BURGER', 1, '92', '3 AVENUE', 10003, 2129790053, 39, datetime.datetime(2010, 12, 6, 0, 0), 'P', '04K', 17, '', datetime.date(1, 1, 1), datetime.datetime(2013, 8, 30, 1, 1, 8, 80000)), (41248825, 'BLUE 9 BURGER', 1, '92', '3 AVENUE', 10003, 2129790053, 39, datetime.datetime(2010, 12, 6, 0, 0), 'P', '06C', 17, '', datetime.date(1, 1, 1), datetime.datetime(2013, 8, 30, 1, 1, 8, 80000)), (41248825, 'BLUE 9 BURGER', 1, '92', '3 AVENUE', 10003, 2129790053, 39, datetime.datetime(2011, 8, 23, 0, 0), 'U', '06D', 13, 'B', datetime.date(2011, 8, 23), datetime.datetime(2013, 8, 30, 1, 1, 8, 80000)), (41248825, 'BLUE 9 BURGER', 1, '92', '3 AVENUE', 10003, 2129790053, 39, datetime.datetime(2012, 5, 15, 0, 0), 'F', '08A', 19, '', datetime.date(1, 1, 1), datetime.datetime(2013, 8, 30, 1, 1, 8, 80000)), (41248825, 'BLUE 9 BURGER', 1, '92', '3 AVENUE', 10003, 2129790053, 39, datetime.datetime(2012, 10, 18, 0, 0), 'F', '05D', 46, '', datetime.date(1, 1, 1), datetime.datetime(2013, 8, 30, 1, 1, 8, 80000)), (41321176, 'FIVE GUYS BURGERS AND FRIES', 1, '496       ', 'LAGUARDIA PLACE                                   ', 10012, 2122286008, 39, datetime.datetime(2013, 4, 2, 0, 0), 'P', '04L', 7, '', datetime.date(1, 1, 1), datetime.datetime(2013, 8, 30, 1, 1, 8, 80000)), (41321176, 'FIVE GUYS BURGERS AND FRIES', 1, '496       ', 'LAGUARDIA PLACE                                   ', 10012, 2122286008, 39, datetime.datetime(2013, 4, 2, 0, 0), 'P', '08A', 7, '', datetime.date(1, 1, 1), datetime.datetime(2013, 8, 30, 1, 1, 8, 80000)), (41262328, \"MCDONALD'S\", 1, '39', 'UNION SQUARE WEST', 10003, 2126459079, 39, datetime.datetime(2012, 8, 31, 0, 0), 'F', '03C', 31, '', datetime.date(1, 1, 1), datetime.datetime(2013, 8, 30, 1, 1, 8, 80000)), (41262328, \"MCDONALD'S\", 1, '39', 'UNION SQUARE WEST', 10003, 2126459079, 39, datetime.datetime(2013, 1, 11, 0, 0), 'P', '10F', 27, '', datetime.date(1, 1, 1), datetime.datetime(2013, 8, 30, 1, 1, 8, 80000)), (41262328, \"MCDONALD'S\", 1, '39', 'UNION SQUARE WEST', 10003, 2126459079, 39, datetime.datetime(2013, 2, 21, 0, 0), 'F', '08A', 9, 'C', datetime.date(2013, 2, 21), datetime.datetime(2013, 8, 30, 1, 1, 8, 80000)), (41262328, \"MCDONALD'S\", 1, '39', 'UNION SQUARE WEST', 10003, 2126459079, 39, datetime.datetime(2013, 7, 16, 0, 0), 'P', '06D', 22, '', datetime.date(1, 1, 1), datetime.datetime(2013, 8, 30, 1, 1, 8, 80000)), (41262328, \"MCDONALD'S\", 1, '39', 'UNION SQUARE WEST', 10003, 2126459079, 39, datetime.datetime(2013, 7, 16, 0, 0), 'P', '06E', 22, '', datetime.date(1, 1, 1), datetime.datetime(2013, 8, 30, 1, 1, 8, 80000)), (41321176, 'FIVE GUYS BURGERS AND FRIES', 1, '496       ', 'LAGUARDIA PLACE                                   ', 10012, 2122286008, 39, datetime.datetime(2011, 5, 3, 0, 0), 'D', '18A', 3, 'A', datetime.date(2011, 5, 3), datetime.datetime(2013, 8, 30, 1, 1, 8, 80000)), (41321176, 'FIVE GUYS BURGERS AND FRIES', 1, '496       ', 'LAGUARDIA PLACE                                   ', 10012, 2122286008, 39, datetime.datetime(2012, 4, 12, 0, 0), 'D', '10F', 5, 'A', datetime.date(2012, 4, 12), datetime.datetime(2013, 8, 30, 1, 1, 8, 80000)), (41262328, \"MCDONALD'S\", 1, '39', 'UNION SQUARE WEST', 10003, 2126459079, 39, datetime.datetime(2010, 10, 13, 0, 0), 'U', '10F', 3, 'B', datetime.date(2010, 10, 13), datetime.datetime(2013, 8, 30, 1, 1, 8, 80000)), (41262328, \"MCDONALD'S\", 1, '39', 'UNION SQUARE WEST', 10003, 2126459079, 39, datetime.datetime(2011, 3, 31, 0, 0), 'U', '08C', 4, 'B', datetime.date(2011, 3, 31), datetime.datetime(2013, 8, 30, 1, 1, 8, 80000)), (41262328, \"MCDONALD'S\", 1, '39', 'UNION SQUARE WEST', 10003, 2126459079, 39, datetime.datetime(2011, 9, 14, 0, 0), 'D', '10F', 4, 'A', datetime.date(2011, 9, 14), datetime.datetime(2013, 8, 30, 1, 1, 8, 80000)), (41262328, \"MCDONALD'S\", 1, '39', 'UNION SQUARE WEST', 10003, 2126459079, 39, datetime.datetime(2012, 8, 31, 0, 0), 'F', '04N', 31, '', datetime.date(1, 1, 1), datetime.datetime(2013, 8, 30, 1, 1, 8, 80000)), (41262328, \"MCDONALD'S\", 1, '39', 'UNION SQUARE WEST', 10003, 2126459079, 39, datetime.datetime(2012, 8, 31, 0, 0), 'F', '06C', 31, '', datetime.date(1, 1, 1), datetime.datetime(2013, 8, 30, 1, 1, 8, 80000)), (41262328, \"MCDONALD'S\", 1, '39', 'UNION SQUARE WEST', 10003, 2126459079, 39, datetime.datetime(2012, 8, 31, 0, 0), 'F', '10A', 31, '', datetime.date(1, 1, 1), datetime.datetime(2013, 8, 30, 1, 1, 8, 80000)), (41262328, \"MCDONALD'S\", 1, '39', 'UNION SQUARE WEST', 10003, 2126459079, 39, datetime.datetime(2012, 8, 31, 0, 0), 'F', '10B', 31, '', datetime.date(1, 1, 1), datetime.datetime(2013, 8, 30, 1, 1, 8, 80000)), (41262328, \"MCDONALD'S\", 1, '39', 'UNION SQUARE WEST', 10003, 2126459079, 39, datetime.datetime(2013, 1, 11, 0, 0), 'P', '06A', 27, '', datetime.date(1, 1, 1), datetime.datetime(2013, 8, 30, 1, 1, 8, 80000)), (41262328, \"MCDONALD'S\", 1, '39', 'UNION SQUARE WEST', 10003, 2126459079, 39, datetime.datetime(2013, 7, 16, 0, 0), 'P', '08A', 22, '', datetime.date(1, 1, 1), datetime.datetime(2013, 8, 30, 1, 1, 8, 80000)), (41361978, 'BLACK IRON BURGER', 1, '540', 'EAST    5 STREET', 10009, 2126776067, 39, datetime.datetime(2013, 7, 30, 0, 0), 'F', '10H', 40, '', datetime.date(1, 1, 1), datetime.datetime(2013, 8, 30, 1, 1, 8, 80000)), (41366683, 'BURGER CREATIONS', 1, '52', 'EAST 8 STREET', 10003, 2125391909, 39, datetime.datetime(2011, 3, 21, 0, 0), 'F', '22C', 44, '', datetime.date(1, 1, 1), datetime.datetime(2013, 8, 30, 1, 1, 8, 80000)), (41366683, 'BURGER CREATIONS', 1, '52', 'EAST 8 STREET', 10003, 2125391909, 39, datetime.datetime(2011, 9, 22, 0, 0), 'D', '10B', 12, 'A', datetime.date(2011, 9, 22), datetime.datetime(2013, 8, 30, 1, 1, 8, 80000)), (41366683, 'BURGER CREATIONS', 1, '52', 'EAST 8 STREET', 10003, 2125391909, 39, datetime.datetime(2013, 8, 28, 0, 0), 'F', '06F', 30, '', datetime.date(1, 1, 1), datetime.datetime(2013, 8, 30, 1, 1, 8, 80000)), (41361978, 'BLACK IRON BURGER', 1, '540', 'EAST    5 STREET', 10009, 2126776067, 39, datetime.datetime(2010, 11, 10, 0, 0), 'F', '02G', 32, '', datetime.date(1, 1, 1), datetime.datetime(2013, 8, 30, 1, 1, 8, 80000)), (41361978, 'BLACK IRON BURGER', 1, '540', 'EAST    5 STREET', 10009, 2126776067, 39, datetime.datetime(2010, 12, 22, 0, 0), 'U', '04A', 18, 'B', datetime.date(2010, 12, 22), datetime.datetime(2013, 8, 30, 1, 1, 8, 80000)), (41366683, 'BURGER CREATIONS', 1, '52', 'EAST 8 STREET', 10003, 2125391909, 39, datetime.datetime(2011, 3, 21, 0, 0), 'F', '05D', 44, '', datetime.date(1, 1, 1), datetime.datetime(2013, 8, 30, 1, 1, 8, 80000)), (41366683, 'BURGER CREATIONS', 1, '52', 'EAST 8 STREET', 10003, 2125391909, 39, datetime.datetime(2011, 8, 16, 0, 0), 'P', '04M', 20, '', datetime.date(1, 1, 1), datetime.datetime(2013, 8, 30, 1, 1, 8, 80000)), (41366683, 'BURGER CREATIONS', 1, '52', 'EAST 8 STREET', 10003, 2125391909, 39, datetime.datetime(2011, 9, 22, 0, 0), 'D', '10F', 12, 'A', datetime.date(2011, 9, 22), datetime.datetime(2013, 8, 30, 1, 1, 8, 80000)), (41366683, 'BURGER CREATIONS', 1, '52', 'EAST 8 STREET', 10003, 2125391909, 39, datetime.datetime(2013, 8, 28, 0, 0), 'F', '10B', 30, '', datetime.date(1, 1, 1), datetime.datetime(2013, 8, 30, 1, 1, 8, 80000)), (41300864, 'PAULS DA BURGER JOINT', 1, '131', '2 AVENUE', 10003, 2125293033, 39, datetime.datetime(2011, 8, 29, 0, 0), 'O', '04N', 12, 'P', datetime.date(2011, 8, 29), datetime.datetime(2013, 8, 30, 1, 1, 8, 80000)), (41300864, 'PAULS DA BURGER JOINT', 1, '131', '2 AVENUE', 10003, 2125293033, 39, datetime.datetime(2011, 10, 4, 0, 0), 'U', '08A', 12, 'B', datetime.date(2011, 10, 4), datetime.datetime(2013, 8, 30, 1, 1, 8, 80000)), (41300864, 'PAULS DA BURGER JOINT', 1, '131', '2 AVENUE', 10003, 2125293033, 39, datetime.datetime(2012, 3, 12, 0, 0), 'U', '08A', 20, 'B', datetime.date(2012, 3, 12), datetime.datetime(2013, 8, 30, 1, 1, 8, 80000)), (41300864, 'PAULS DA BURGER JOINT', 1, '131', '2 AVENUE', 10003, 2125293033, 39, datetime.datetime(2012, 9, 26, 0, 0), 'U', '08A', 13, 'B', datetime.date(2012, 9, 26), datetime.datetime(2013, 8, 30, 1, 1, 8, 80000)), (41300864, 'PAULS DA BURGER JOINT', 1, '131', '2 AVENUE', 10003, 2125293033, 39, datetime.datetime(2013, 4, 18, 0, 0), 'F', '10B', 23, '', datetime.date(1, 1, 1), datetime.datetime(2013, 8, 30, 1, 1, 8, 80000)), (41361978, 'BLACK IRON BURGER', 1, '540', 'EAST    5 STREET', 10009, 2126776067, 39, datetime.datetime(2010, 11, 10, 0, 0), 'F', '10F', 32, '', datetime.date(1, 1, 1), datetime.datetime(2013, 8, 30, 1, 1, 8, 80000)), (41361978, 'BLACK IRON BURGER', 1, '540', 'EAST    5 STREET', 10009, 2126776067, 39, datetime.datetime(2010, 12, 22, 0, 0), 'U', '04L', 18, 'B', datetime.date(2010, 12, 22), datetime.datetime(2013, 8, 30, 1, 1, 8, 80000)), (41303762, 'BLT BURGER', 1, '470', 'AVENUE OF THE AMERICAS', 10011, 2122438226, 39, datetime.datetime(2011, 4, 13, 0, 0), 'D', '10F', 13, 'A', datetime.date(2011, 4, 13), datetime.datetime(2013, 8, 30, 1, 1, 8, 80000)), (41303762, 'BLT BURGER', 1, '470', 'AVENUE OF THE AMERICAS', 10011, 2122438226, 39, datetime.datetime(2012, 5, 7, 0, 0), 'P', '06D', 20, '', datetime.date(1, 1, 1), datetime.datetime(2013, 8, 30, 1, 1, 8, 80000)), (41303762, 'BLT BURGER', 1, '470', 'AVENUE OF THE AMERICAS', 10011, 2122438226, 39, datetime.datetime(2012, 10, 9, 0, 0), 'P', '10B', 14, '', datetime.date(1, 1, 1), datetime.datetime(2013, 8, 30, 1, 1, 8, 80000)), (41303762, 'BLT BURGER', 1, '470', 'AVENUE OF THE AMERICAS', 10011, 2122438226, 39, datetime.datetime(2013, 4, 10, 0, 0), 'P', '04A', 24, '', datetime.date(1, 1, 1), datetime.datetime(2013, 8, 30, 1, 1, 8, 80000)), (41366683, 'BURGER CREATIONS', 1, '52', 'EAST 8 STREET', 10003, 2125391909, 39, datetime.datetime(2011, 8, 16, 0, 0), 'P', '08A', 20, '', datetime.date(1, 1, 1), datetime.datetime(2013, 8, 30, 1, 1, 8, 80000)), (41366683, 'BURGER CREATIONS', 1, '52', 'EAST 8 STREET', 10003, 2125391909, 39, datetime.datetime(2011, 9, 22, 0, 0), 'D', '06E', 12, 'A', datetime.date(2011, 9, 22), datetime.datetime(2013, 8, 30, 1, 1, 8, 80000)), (41366683, 'BURGER CREATIONS', 1, '52', 'EAST 8 STREET', 10003, 2125391909, 39, datetime.datetime(2012, 1, 19, 0, 0), 'D', '10B', 8, 'A', datetime.date(2012, 1, 19), datetime.datetime(2013, 8, 30, 1, 1, 8, 80000)), (41366683, 'BURGER CREATIONS', 1, '52', 'EAST 8 STREET', 10003, 2125391909, 39, datetime.datetime(2013, 3, 11, 0, 0), 'F', '06F', 33, '', datetime.date(1, 1, 1), datetime.datetime(2013, 8, 30, 1, 1, 8, 80000)), (41366683, 'BURGER CREATIONS', 1, '52', 'EAST 8 STREET', 10003, 2125391909, 39, datetime.datetime(2011, 8, 16, 0, 0), 'P', '10B', 20, '', datetime.date(1, 1, 1), datetime.datetime(2013, 8, 30, 1, 1, 8, 80000)), (41366683, 'BURGER CREATIONS', 1, '52', 'EAST 8 STREET', 10003, 2125391909, 39, datetime.datetime(2011, 9, 22, 0, 0), 'D', '09A', 12, 'A', datetime.date(2011, 9, 22), datetime.datetime(2013, 8, 30, 1, 1, 8, 80000)), (41361978, 'BLACK IRON BURGER', 1, '540', 'EAST    5 STREET', 10009, 2126776067, 39, datetime.datetime(2010, 11, 10, 0, 0), 'F', '99B', 32, '', datetime.date(1, 1, 1), datetime.datetime(2013, 8, 30, 1, 1, 8, 80000)), (41361978, 'BLACK IRON BURGER', 1, '540', 'EAST    5 STREET', 10009, 2126776067, 39, datetime.datetime(2012, 2, 3, 0, 0), 'P', '04L', 23, '', datetime.date(1, 1, 1), datetime.datetime(2013, 8, 30, 1, 1, 8, 80000)), (41361978, 'BLACK IRON BURGER', 1, '540', 'EAST    5 STREET', 10009, 2126776067, 39, datetime.datetime(2012, 2, 13, 0, 0), 'U', '04L', 15, 'B', datetime.date(2012, 2, 13), datetime.datetime(2013, 8, 30, 1, 1, 8, 80000)), (41361978, 'BLACK IRON BURGER', 1, '540', 'EAST    5 STREET', 10009, 2126776067, 39, datetime.datetime(2013, 7, 30, 0, 0), 'F', '04A', 40, '', datetime.date(1, 1, 1), datetime.datetime(2013, 8, 30, 1, 1, 8, 80000)), (41361978, 'BLACK IRON BURGER', 1, '540', 'EAST    5 STREET', 10009, 2126776067, 39, datetime.datetime(2013, 7, 30, 0, 0), 'F', '06D', 40, '', datetime.date(1, 1, 1), datetime.datetime(2013, 8, 30, 1, 1, 8, 80000)), (41361978, 'BLACK IRON BURGER', 1, '540', 'EAST    5 STREET', 10009, 2126776067, 39, datetime.datetime(2013, 7, 30, 0, 0), 'F', '06E', 40, '', datetime.date(1, 1, 1), datetime.datetime(2013, 8, 30, 1, 1, 8, 80000)), (41361978, 'BLACK IRON BURGER', 1, '540', 'EAST    5 STREET', 10009, 2126776067, 39, datetime.datetime(2013, 7, 30, 0, 0), 'F', '08A', 40, '', datetime.date(1, 1, 1), datetime.datetime(2013, 8, 30, 1, 1, 8, 80000)), (41300864, 'PAULS DA BURGER JOINT', 1, '131', '2 AVENUE', 10003, 2125293033, 39, datetime.datetime(2011, 2, 15, 0, 0), 'U', '10B', 20, 'B', datetime.date(2011, 2, 15), datetime.datetime(2013, 8, 30, 1, 1, 8, 80000)), (41300864, 'PAULS DA BURGER JOINT', 1, '131', '2 AVENUE', 10003, 2125293033, 39, datetime.datetime(2011, 8, 25, 0, 0), 'G', '04N', 61, '', datetime.date(1, 1, 1), datetime.datetime(2013, 8, 30, 1, 1, 8, 80000)), (41300864, 'PAULS DA BURGER JOINT', 1, '131', '2 AVENUE', 10003, 2125293033, 39, datetime.datetime(2011, 8, 25, 0, 0), 'G', '06C', 61, '', datetime.date(1, 1, 1), datetime.datetime(2013, 8, 30, 1, 1, 8, 80000)), (41300864, 'PAULS DA BURGER JOINT', 1, '131', '2 AVENUE', 10003, 2125293033, 39, datetime.datetime(2011, 8, 25, 0, 0), 'G', '10B', 61, '', datetime.date(1, 1, 1), datetime.datetime(2013, 8, 30, 1, 1, 8, 80000)), (41300864, 'PAULS DA BURGER JOINT', 1, '131', '2 AVENUE', 10003, 2125293033, 39, datetime.datetime(2012, 3, 12, 0, 0), 'U', '10F', 20, 'B', datetime.date(2012, 3, 12), datetime.datetime(2013, 8, 30, 1, 1, 8, 80000)), (41300864, 'PAULS DA BURGER JOINT', 1, '131', '2 AVENUE', 10003, 2125293033, 39, datetime.datetime(2012, 8, 30, 0, 0), 'F', '04N', 22, '', datetime.date(1, 1, 1), datetime.datetime(2013, 8, 30, 1, 1, 8, 80000)), (41300864, 'PAULS DA BURGER JOINT', 1, '131', '2 AVENUE', 10003, 2125293033, 39, datetime.datetime(2012, 8, 30, 0, 0), 'F', '10F', 22, '', datetime.date(1, 1, 1), datetime.datetime(2013, 8, 30, 1, 1, 8, 80000)), (41366683, 'BURGER CREATIONS', 1, '52', 'EAST 8 STREET', 10003, 2125391909, 39, datetime.datetime(2011, 3, 21, 0, 0), 'F', '99B', 44, '', datetime.date(1, 1, 1), datetime.datetime(2013, 8, 30, 1, 1, 8, 80000)), (41366683, 'BURGER CREATIONS', 1, '52', 'EAST 8 STREET', 10003, 2125391909, 39, datetime.datetime(2011, 4, 14, 0, 0), 'D', '10F', 8, 'A', datetime.date(2011, 4, 14), datetime.datetime(2013, 8, 30, 1, 1, 8, 80000)), (41366683, 'BURGER CREATIONS', 1, '52', 'EAST 8 STREET', 10003, 2125391909, 39, datetime.datetime(2013, 8, 28, 0, 0), 'F', '02G', 30, '', datetime.date(1, 1, 1), datetime.datetime(2013, 8, 30, 1, 1, 8, 80000)), (41366683, 'BURGER CREATIONS', 1, '52', 'EAST 8 STREET', 10003, 2125391909, 39, datetime.datetime(2013, 8, 28, 0, 0), 'F', '04A', 30, '', datetime.date(1, 1, 1), datetime.datetime(2013, 8, 30, 1, 1, 8, 80000)), (41303762, 'BLT BURGER', 1, '470', 'AVENUE OF THE AMERICAS', 10011, 2122438226, 39, datetime.datetime(2012, 5, 7, 0, 0), 'P', '04N', 20, '', datetime.date(1, 1, 1), datetime.datetime(2013, 8, 30, 1, 1, 8, 80000)), (41303762, 'BLT BURGER', 1, '470', 'AVENUE OF THE AMERICAS', 10011, 2122438226, 39, datetime.datetime(2012, 10, 9, 0, 0), 'P', '02G', 14, '', datetime.date(1, 1, 1), datetime.datetime(2013, 8, 30, 1, 1, 8, 80000)), (41303762, 'BLT BURGER', 1, '470', 'AVENUE OF THE AMERICAS', 10011, 2122438226, 39, datetime.datetime(2012, 10, 9, 0, 0), 'P', '10H', 14, '', datetime.date(1, 1, 1), datetime.datetime(2013, 8, 30, 1, 1, 8, 80000)), (41305427, \"MCDONALD'S\", 1, '154', 'WEST   14 STREET', 10011, 2126913720, 39, datetime.datetime(2011, 12, 6, 0, 0), 'D', '04N', 11, 'A', datetime.date(2011, 12, 6), datetime.datetime(2013, 8, 30, 1, 1, 8, 80000)), (41305431, \"MCDONALD'S\", 1, '541', '6 AVENUE', 10011, 2124638860, 39, datetime.datetime(2012, 2, 3, 0, 0), 'D', '02B', 12, 'A', datetime.date(2012, 2, 3), datetime.datetime(2013, 8, 30, 1, 1, 8, 80000)), (41305431, \"MCDONALD'S\", 1, '541', '6 AVENUE', 10011, 2124638860, 39, datetime.datetime(2013, 2, 7, 0, 0), 'P', '10F', 21, '', datetime.date(1, 1, 1), datetime.datetime(2013, 8, 30, 1, 1, 8, 80000)), (41305431, \"MCDONALD'S\", 1, '541', '6 AVENUE', 10011, 2124638860, 39, datetime.datetime(2013, 7, 15, 0, 0), 'P', '10F', 18, '', datetime.date(1, 1, 1), datetime.datetime(2013, 8, 30, 1, 1, 8, 80000)), (41361978, 'BLACK IRON BURGER', 1, '540', 'EAST    5 STREET', 10009, 2126776067, 39, datetime.datetime(2012, 2, 3, 0, 0), 'P', '04A', 23, '', datetime.date(1, 1, 1), datetime.datetime(2013, 8, 30, 1, 1, 8, 80000)), (41361978, 'BLACK IRON BURGER', 1, '540', 'EAST    5 STREET', 10009, 2126776067, 39, datetime.datetime(2013, 7, 30, 0, 0), 'F', '04L', 40, '', datetime.date(1, 1, 1), datetime.datetime(2013, 8, 30, 1, 1, 8, 80000)), (41361978, 'BLACK IRON BURGER', 1, '540', 'EAST    5 STREET', 10009, 2126776067, 39, datetime.datetime(2013, 7, 30, 0, 0), 'F', '10F', 40, '', datetime.date(1, 1, 1), datetime.datetime(2013, 8, 30, 1, 1, 8, 80000)), (41366683, 'BURGER CREATIONS', 1, '52', 'EAST 8 STREET', 10003, 2125391909, 39, datetime.datetime(2011, 3, 21, 0, 0), 'F', '04J', 44, '', datetime.date(1, 1, 1), datetime.datetime(2013, 8, 30, 1, 1, 8, 80000)), (41366683, 'BURGER CREATIONS', 1, '52', 'EAST 8 STREET', 10003, 2125391909, 39, datetime.datetime(2011, 3, 21, 0, 0), 'F', '06A', 44, '', datetime.date(1, 1, 1), datetime.datetime(2013, 8, 30, 1, 1, 8, 80000)), (41366683, 'BURGER CREATIONS', 1, '52', 'EAST 8 STREET', 10003, 2125391909, 39, datetime.datetime(2011, 3, 21, 0, 0), 'F', '09C', 44, '', datetime.date(1, 1, 1), datetime.datetime(2013, 8, 30, 1, 1, 8, 80000)), (41366683, 'BURGER CREATIONS', 1, '52', 'EAST 8 STREET', 10003, 2125391909, 39, datetime.datetime(2013, 3, 11, 0, 0), 'F', '02G', 33, '', datetime.date(1, 1, 1), datetime.datetime(2013, 8, 30, 1, 1, 8, 80000)), (41366683, 'BURGER CREATIONS', 1, '52', 'EAST 8 STREET', 10003, 2125391909, 39, datetime.datetime(2013, 3, 11, 0, 0), 'F', '04A', 33, '', datetime.date(1, 1, 1), datetime.datetime(2013, 8, 30, 1, 1, 8, 80000)), (41443633, 'LUCKYS FAMOUS BURGERS', 1, '264', 'WEST   23 STREET', 10011, 2122424900, 39, datetime.datetime(2011, 4, 18, 0, 0), 'P', '05D', 25, '', datetime.date(1, 1, 1), datetime.datetime(2013, 8, 30, 1, 1, 8, 80000)), (41443633, 'LUCKYS FAMOUS BURGERS', 1, '264', 'WEST   23 STREET', 10011, 2122424900, 39, datetime.datetime(2011, 10, 13, 0, 0), 'D', '09C', 12, 'A', datetime.date(2011, 10, 13), datetime.datetime(2013, 8, 30, 1, 1, 8, 80000)), (41443633, 'LUCKYS FAMOUS BURGERS', 1, '264', 'WEST   23 STREET', 10011, 2122424900, 39, datetime.datetime(2011, 10, 13, 0, 0), 'D', '10F', 12, 'A', datetime.date(2011, 10, 13), datetime.datetime(2013, 8, 30, 1, 1, 8, 80000)), (41443633, 'LUCKYS FAMOUS BURGERS', 1, '264', 'WEST   23 STREET', 10011, 2122424900, 39, datetime.datetime(2013, 3, 4, 0, 0), 'D', '02H', 9, 'A', datetime.date(2013, 3, 4), datetime.datetime(2013, 8, 30, 1, 1, 8, 80000)), (41361978, 'BLACK IRON BURGER', 1, '540', 'EAST    5 STREET', 10009, 2126776067, 39, datetime.datetime(2010, 11, 10, 0, 0), 'F', '04L', 32, '', datetime.date(1, 1, 1), datetime.datetime(2013, 8, 30, 1, 1, 8, 80000)), (41361978, 'BLACK IRON BURGER', 1, '540', 'EAST    5 STREET', 10009, 2126776067, 39, datetime.datetime(2012, 2, 13, 0, 0), 'U', '02G', 15, 'B', datetime.date(2012, 2, 13), datetime.datetime(2013, 8, 30, 1, 1, 8, 80000)), (41361978, 'BLACK IRON BURGER', 1, '540', 'EAST    5 STREET', 10009, 2126776067, 39, datetime.datetime(2012, 2, 13, 0, 0), 'U', '06D', 15, 'B', datetime.date(2012, 2, 13), datetime.datetime(2013, 8, 30, 1, 1, 8, 80000)), (41452207, 'MARK', 1, '33', 'ST MARKS PLACE', 10003, 2126773132, 39, datetime.datetime(2013, 4, 9, 0, 0), 'F', '10F', 29, '', datetime.date(1, 1, 1), datetime.datetime(2013, 8, 30, 1, 1, 8, 80000)), (41443633, 'LUCKYS FAMOUS BURGERS', 1, '264', 'WEST   23 STREET', 10011, 2122424900, 39, datetime.datetime(2011, 10, 4, 0, 0), 'P', '09C', 21, '', datetime.date(1, 1, 1), datetime.datetime(2013, 8, 30, 1, 1, 8, 80000)), (41443633, 'LUCKYS FAMOUS BURGERS', 1, '264', 'WEST   23 STREET', 10011, 2122424900, 39, datetime.datetime(2011, 10, 4, 0, 0), 'P', '10F', 21, '', datetime.date(1, 1, 1), datetime.datetime(2013, 8, 30, 1, 1, 8, 80000)), (41443633, 'LUCKYS FAMOUS BURGERS', 1, '264', 'WEST   23 STREET', 10011, 2122424900, 39, datetime.datetime(2012, 2, 23, 0, 0), 'P', '10F', 21, '', datetime.date(1, 1, 1), datetime.datetime(2013, 8, 30, 1, 1, 8, 80000)), (41443633, 'LUCKYS FAMOUS BURGERS', 1, '264', 'WEST   23 STREET', 10011, 2122424900, 39, datetime.datetime(2013, 2, 11, 0, 0), 'P', '08A', 19, '', datetime.date(1, 1, 1), datetime.datetime(2013, 8, 30, 1, 1, 8, 80000)), (41443633, 'LUCKYS FAMOUS BURGERS', 1, '264', 'WEST   23 STREET', 10011, 2122424900, 39, datetime.datetime(2013, 7, 30, 0, 0), 'P', '04L', 20, '', datetime.date(1, 1, 1), datetime.datetime(2013, 8, 30, 1, 1, 8, 80000)), (41443633, 'LUCKYS FAMOUS BURGERS', 1, '264', 'WEST   23 STREET', 10011, 2122424900, 39, datetime.datetime(2012, 3, 8, 0, 0), 'D', '08A', 11, 'A', datetime.date(2012, 3, 8), datetime.datetime(2013, 8, 30, 1, 1, 8, 80000)), (41443633, 'LUCKYS FAMOUS BURGERS', 1, '264', 'WEST   23 STREET', 10011, 2122424900, 39, datetime.datetime(2012, 8, 8, 0, 0), 'F', '06A', 28, '', datetime.date(1, 1, 1), datetime.datetime(2013, 8, 30, 1, 1, 8, 80000)), (41443633, 'LUCKYS FAMOUS BURGERS', 1, '264', 'WEST   23 STREET', 10011, 2122424900, 39, datetime.datetime(2012, 8, 23, 0, 0), 'D', '06D', 12, 'A', datetime.date(2012, 8, 23), datetime.datetime(2013, 8, 30, 1, 1, 8, 80000)), (41443633, 'LUCKYS FAMOUS BURGERS', 1, '264', 'WEST   23 STREET', 10011, 2122424900, 39, datetime.datetime(2013, 3, 4, 0, 0), 'D', '10F', 9, 'A', datetime.date(2013, 3, 4), datetime.datetime(2013, 8, 30, 1, 1, 8, 80000)), (41443633, 'LUCKYS FAMOUS BURGERS', 1, '264', 'WEST   23 STREET', 10011, 2122424900, 39, datetime.datetime(2013, 7, 30, 0, 0), 'P', '09C', 20, '', datetime.date(1, 1, 1), datetime.datetime(2013, 8, 30, 1, 1, 8, 80000)), (41443633, 'LUCKYS FAMOUS BURGERS', 1, '264', 'WEST   23 STREET', 10011, 2122424900, 39, datetime.datetime(2013, 7, 30, 0, 0), 'P', '10F', 20, '', datetime.date(1, 1, 1), datetime.datetime(2013, 8, 30, 1, 1, 8, 80000)), (41443633, 'LUCKYS FAMOUS BURGERS', 1, '264', 'WEST   23 STREET', 10011, 2122424900, 39, datetime.datetime(2012, 8, 8, 0, 0), 'F', '04D', 28, '', datetime.date(1, 1, 1), datetime.datetime(2013, 8, 30, 1, 1, 8, 80000)), (41443633, 'LUCKYS FAMOUS BURGERS', 1, '264', 'WEST   23 STREET', 10011, 2122424900, 39, datetime.datetime(2012, 8, 8, 0, 0), 'F', '08A', 28, '', datetime.date(1, 1, 1), datetime.datetime(2013, 8, 30, 1, 1, 8, 80000)), (41463516, \"MCDONALD'S\", 1, '404', 'EAST 14 STREET', 10009, 2125980045, 39, datetime.datetime(2010, 11, 3, 0, 0), 'F', '06D', 31, 'C', datetime.date(2010, 11, 3), datetime.datetime(2013, 8, 30, 1, 1, 8, 80000)), (41463516, \"MCDONALD'S\", 1, '404', 'EAST 14 STREET', 10009, 2125980045, 39, datetime.datetime(2010, 11, 3, 0, 0), 'F', '10B', 31, 'C', datetime.date(2010, 11, 3), datetime.datetime(2013, 8, 30, 1, 1, 8, 80000)), (41443633, 'LUCKYS FAMOUS BURGERS', 1, '264', 'WEST   23 STREET', 10011, 2122424900, 39, datetime.datetime(2011, 5, 13, 0, 0), 'D', '02G', 9, 'A', datetime.date(2011, 5, 13), datetime.datetime(2013, 8, 30, 1, 1, 8, 80000)), (41443633, 'LUCKYS FAMOUS BURGERS', 1, '264', 'WEST   23 STREET', 10011, 2122424900, 39, datetime.datetime(2013, 2, 11, 0, 0), 'P', '04L', 19, '', datetime.date(1, 1, 1), datetime.datetime(2013, 8, 30, 1, 1, 8, 80000)), (41452207, 'MARK', 1, '33', 'ST MARKS PLACE', 10003, 2126773132, 39, datetime.datetime(2012, 4, 12, 0, 0), 'D', '04L', 11, 'A', datetime.date(2012, 4, 12), datetime.datetime(2013, 8, 30, 1, 1, 8, 80000)), (41452207, 'MARK', 1, '33', 'ST MARKS PLACE', 10003, 2126773132, 39, datetime.datetime(2013, 4, 9, 0, 0), 'F', '06C', 29, '', datetime.date(1, 1, 1), datetime.datetime(2013, 8, 30, 1, 1, 8, 80000)), (41471148, 'TALLGRASS BURGER', 1, '214B', '1 AVENUE', 10009, 2122532990, 39, datetime.datetime(2012, 4, 26, 0, 0), 'P', '04C', 26, '', datetime.date(1, 1, 1), datetime.datetime(2013, 8, 30, 1, 1, 8, 80000)), (41471148, 'TALLGRASS BURGER', 1, '214B', '1 AVENUE', 10009, 2122532990, 39, datetime.datetime(2012, 4, 26, 0, 0), 'P', '04M', 26, '', datetime.date(1, 1, 1), datetime.datetime(2013, 8, 30, 1, 1, 8, 80000)), (41471148, 'TALLGRASS BURGER', 1, '214B', '1 AVENUE', 10009, 2122532990, 39, datetime.datetime(2012, 4, 26, 0, 0), 'P', '10F', 26, '', datetime.date(1, 1, 1), datetime.datetime(2013, 8, 30, 1, 1, 8, 80000)), (41463516, \"MCDONALD'S\", 1, '404', 'EAST 14 STREET', 10009, 2125980045, 39, datetime.datetime(2010, 2, 11, 9, 5), 'D', '18I', 2, '', datetime.date(1, 1, 1), datetime.datetime(2013, 8, 30, 1, 1, 8, 80000)), (41463516, \"MCDONALD'S\", 1, '404', 'EAST 14 STREET', 10009, 2125980045, 39, datetime.datetime(2010, 11, 3, 0, 0), 'F', '04H', 31, 'C', datetime.date(2010, 11, 3), datetime.datetime(2013, 8, 30, 1, 1, 8, 80000)), (41463516, \"MCDONALD'S\", 1, '404', 'EAST 14 STREET', 10009, 2125980045, 39, datetime.datetime(2011, 3, 16, 0, 0), 'P', '02G', 17, '', datetime.date(1, 1, 1), datetime.datetime(2013, 8, 30, 1, 1, 8, 80000)), (41463516, \"MCDONALD'S\", 1, '404', 'EAST 14 STREET', 10009, 2125980045, 39, datetime.datetime(2011, 3, 16, 0, 0), 'P', '10I', 17, '', datetime.date(1, 1, 1), datetime.datetime(2013, 8, 30, 1, 1, 8, 80000)), (41463516, \"MCDONALD'S\", 1, '404', 'EAST 14 STREET', 10009, 2125980045, 39, datetime.datetime(2010, 10, 20, 0, 0), 'P', '05D', 21, '', datetime.date(1, 1, 1), datetime.datetime(2013, 8, 30, 1, 1, 8, 80000)), (41463516, \"MCDONALD'S\", 1, '404', 'EAST 14 STREET', 10009, 2125980045, 39, datetime.datetime(2011, 3, 16, 0, 0), 'P', '22B', 17, '', datetime.date(1, 1, 1), datetime.datetime(2013, 8, 30, 1, 1, 8, 80000)), (41463516, \"MCDONALD'S\", 1, '404', 'EAST 14 STREET', 10009, 2125980045, 39, datetime.datetime(2011, 8, 12, 0, 0), 'F', '10E', 29, 'C', datetime.date(2011, 8, 12), datetime.datetime(2013, 8, 30, 1, 1, 8, 80000)), (41471148, 'TALLGRASS BURGER', 1, '214B', '1 AVENUE', 10009, 2122532990, 39, datetime.datetime(2010, 5, 18, 7, 56), 'D', '18I', 4, '', datetime.date(1, 1, 1), datetime.datetime(2013, 8, 30, 1, 1, 8, 80000)), (41471148, 'TALLGRASS BURGER', 1, '214B', '1 AVENUE', 10009, 2122532990, 39, datetime.datetime(2010, 6, 3, 14, 7), 'U', '02G', 20, '', datetime.date(1, 1, 1), datetime.datetime(2013, 8, 30, 1, 1, 8, 80000)), (41471148, 'TALLGRASS BURGER', 1, '214B', '1 AVENUE', 10009, 2122532990, 39, datetime.datetime(2010, 6, 3, 14, 7), 'U', '10G', 20, '', datetime.date(1, 1, 1), datetime.datetime(2013, 8, 30, 1, 1, 8, 80000)), (41471148, 'TALLGRASS BURGER', 1, '214B', '1 AVENUE', 10009, 2122532990, 39, datetime.datetime(2011, 5, 13, 0, 0), 'D', '10I', 10, 'A', datetime.date(2011, 5, 13), datetime.datetime(2013, 8, 30, 1, 1, 8, 80000)), (41463516, \"MCDONALD'S\", 1, '404', 'EAST 14 STREET', 10009, 2125980045, 39, datetime.datetime(2010, 2, 11, 9, 5), 'D', '08B', 2, '', datetime.date(1, 1, 1), datetime.datetime(2013, 8, 30, 1, 1, 8, 80000)), (41463516, \"MCDONALD'S\", 1, '404', 'EAST 14 STREET', 10009, 2125980045, 39, datetime.datetime(2010, 11, 3, 0, 0), 'F', '06E', 31, 'C', datetime.date(2010, 11, 3), datetime.datetime(2013, 8, 30, 1, 1, 8, 80000)), (41463516, \"MCDONALD'S\", 1, '404', 'EAST 14 STREET', 10009, 2125980045, 39, datetime.datetime(2011, 3, 16, 0, 0), 'P', '20F', 17, '', datetime.date(1, 1, 1), datetime.datetime(2013, 8, 30, 1, 1, 8, 80000)), (41463516, \"MCDONALD'S\", 1, '404', 'EAST 14 STREET', 10009, 2125980045, 39, datetime.datetime(2011, 7, 29, 0, 0), 'P', '04M', 14, '', datetime.date(1, 1, 1), datetime.datetime(2013, 8, 30, 1, 1, 8, 80000)), (41463516, \"MCDONALD'S\", 1, '404', 'EAST 14 STREET', 10009, 2125980045, 39, datetime.datetime(2011, 7, 29, 0, 0), 'P', '10B', 14, '', datetime.date(1, 1, 1), datetime.datetime(2013, 8, 30, 1, 1, 8, 80000)), (41463516, \"MCDONALD'S\", 1, '404', 'EAST 14 STREET', 10009, 2125980045, 39, datetime.datetime(2011, 8, 12, 0, 0), 'F', '06A', 29, 'C', datetime.date(2011, 8, 12), datetime.datetime(2013, 8, 30, 1, 1, 8, 80000)), (41463516, \"MCDONALD'S\", 1, '404', 'EAST 14 STREET', 10009, 2125980045, 39, datetime.datetime(2011, 12, 8, 0, 0), 'D', '06D', 7, 'A', datetime.date(2011, 12, 8), datetime.datetime(2013, 8, 30, 1, 1, 8, 80000)), (41480258, 'NEW YORK BURGER CO', 1, '470', 'WEST 23 STREET', 10011, 2122550400, 39, datetime.datetime(2012, 5, 16, 0, 0), 'F', '04L', 50, '', datetime.date(1, 1, 1), datetime.datetime(2013, 8, 30, 1, 1, 8, 80000)), (41480258, 'NEW YORK BURGER CO', 1, '470', 'WEST 23 STREET', 10011, 2122550400, 39, datetime.datetime(2012, 6, 12, 0, 0), 'F', '10F', 47, 'C', datetime.date(2012, 6, 12), datetime.datetime(2013, 8, 30, 1, 1, 8, 80000)), (41463516, \"MCDONALD'S\", 1, '404', 'EAST 14 STREET', 10009, 2125980045, 39, datetime.datetime(2010, 10, 20, 0, 0), 'P', '08A', 21, '', datetime.date(1, 1, 1), datetime.datetime(2013, 8, 30, 1, 1, 8, 80000)), (41471148, 'TALLGRASS BURGER', 1, '214B', '1 AVENUE', 10009, 2122532990, 39, datetime.datetime(2012, 5, 7, 0, 0), 'U', '04L', 12, 'B', datetime.date(2012, 5, 7), datetime.datetime(2013, 8, 30, 1, 1, 8, 80000)), (41480258, 'NEW YORK BURGER CO', 1, '470', 'WEST 23 STREET', 10011, 2122550400, 39, datetime.datetime(2010, 12, 10, 0, 0), 'B', '', -1, '', datetime.date(1, 1, 1), datetime.datetime(2013, 8, 30, 1, 1, 8, 80000)), (41480258, 'NEW YORK BURGER CO', 1, '470', 'WEST 23 STREET', 10011, 2122550400, 39, datetime.datetime(2012, 6, 12, 0, 0), 'F', '08A', 47, 'C', datetime.date(2012, 6, 12), datetime.datetime(2013, 8, 30, 1, 1, 8, 80000)), (41480258, 'NEW YORK BURGER CO', 1, '470', 'WEST 23 STREET', 10011, 2122550400, 39, datetime.datetime(2012, 6, 19, 0, 0), 'U', '10E', 14, '', datetime.date(1, 1, 1), datetime.datetime(2013, 8, 30, 1, 1, 8, 80000)), (41471148, 'TALLGRASS BURGER', 1, '214B', '1 AVENUE', 10009, 2122532990, 39, datetime.datetime(2011, 5, 13, 0, 0), 'D', '04L', 10, 'A', datetime.date(2011, 5, 13), datetime.datetime(2013, 8, 30, 1, 1, 8, 80000)), (41471148, 'TALLGRASS BURGER', 1, '214B', '1 AVENUE', 10009, 2122532990, 39, datetime.datetime(2011, 5, 13, 0, 0), 'D', '10F', 10, 'A', datetime.date(2011, 5, 13), datetime.datetime(2013, 8, 30, 1, 1, 8, 80000)), (41480258, 'NEW YORK BURGER CO', 1, '470', 'WEST 23 STREET', 10011, 2122550400, 39, datetime.datetime(2011, 6, 30, 0, 0), 'D', '08B', 13, 'A', datetime.date(2011, 6, 30), datetime.datetime(2013, 8, 30, 1, 1, 8, 80000)), (41480258, 'NEW YORK BURGER CO', 1, '470', 'WEST 23 STREET', 10011, 2122550400, 39, datetime.datetime(2012, 5, 16, 0, 0), 'F', '02G', 50, '', datetime.date(1, 1, 1), datetime.datetime(2013, 8, 30, 1, 1, 8, 80000)), (41480258, 'NEW YORK BURGER CO', 1, '470', 'WEST 23 STREET', 10011, 2122550400, 39, datetime.datetime(2012, 6, 12, 0, 0), 'F', '04N', 47, 'C', datetime.date(2012, 6, 12), datetime.datetime(2013, 8, 30, 1, 1, 8, 80000)), (41480258, 'NEW YORK BURGER CO', 1, '470', 'WEST 23 STREET', 10011, 2122550400, 39, datetime.datetime(2012, 6, 12, 0, 0), 'F', '10B', 47, 'C', datetime.date(2012, 6, 12), datetime.datetime(2013, 8, 30, 1, 1, 8, 80000)), (41480258, 'NEW YORK BURGER CO', 1, '470', 'WEST 23 STREET', 10011, 2122550400, 39, datetime.datetime(2012, 6, 19, 0, 0), 'U', '04N', 14, '', datetime.date(1, 1, 1), datetime.datetime(2013, 8, 30, 1, 1, 8, 80000)), (41480258, 'NEW YORK BURGER CO', 1, '470', 'WEST 23 STREET', 10011, 2122550400, 39, datetime.datetime(2012, 6, 19, 0, 0), 'U', '08A', 14, '', datetime.date(1, 1, 1), datetime.datetime(2013, 8, 30, 1, 1, 8, 80000)), (41480258, 'NEW YORK BURGER CO', 1, '470', 'WEST 23 STREET', 10011, 2122550400, 39, datetime.datetime(2011, 6, 30, 0, 0), 'D', '06C', 13, 'A', datetime.date(2011, 6, 30), datetime.datetime(2013, 8, 30, 1, 1, 8, 80000)), (41480258, 'NEW YORK BURGER CO', 1, '470', 'WEST 23 STREET', 10011, 2122550400, 39, datetime.datetime(2012, 5, 16, 0, 0), 'F', '04N', 50, '', datetime.date(1, 1, 1), datetime.datetime(2013, 8, 30, 1, 1, 8, 80000)), (41480258, 'NEW YORK BURGER CO', 1, '470', 'WEST 23 STREET', 10011, 2122550400, 39, datetime.datetime(2012, 5, 16, 0, 0), 'F', '08A', 50, '', datetime.date(1, 1, 1), datetime.datetime(2013, 8, 30, 1, 1, 8, 80000)), (41504363, 'KORZO HAUS', 1, '178', 'EAST 7 STREET', 10009, 2127800181, 39, datetime.datetime(2011, 4, 20, 0, 0), 'P', '22C', 25, '', datetime.date(1, 1, 1), datetime.datetime(2013, 8, 30, 1, 1, 8, 80000)), (41504363, 'KORZO HAUS', 1, '178', 'EAST 7 STREET', 10009, 2127800181, 39, datetime.datetime(2012, 1, 24, 0, 0), 'F', '06D', 34, 'C', datetime.date(2012, 1, 24), datetime.datetime(2013, 8, 30, 1, 1, 8, 80000)), (41504363, 'KORZO HAUS', 1, '178', 'EAST 7 STREET', 10009, 2127800181, 39, datetime.datetime(2012, 1, 24, 0, 0), 'F', '08A', 34, 'C', datetime.date(2012, 1, 24), datetime.datetime(2013, 8, 30, 1, 1, 8, 80000)), (41504363, 'KORZO HAUS', 1, '178', 'EAST 7 STREET', 10009, 2127800181, 39, datetime.datetime(2012, 7, 20, 0, 0), 'F', '02G', 42, 'C', datetime.date(2012, 7, 20), datetime.datetime(2013, 8, 30, 1, 1, 8, 80000)), (41480258, 'NEW YORK BURGER CO', 1, '470', 'WEST 23 STREET', 10011, 2122550400, 39, datetime.datetime(2011, 6, 30, 0, 0), 'D', '06E', 13, 'A', datetime.date(2011, 6, 30), datetime.datetime(2013, 8, 30, 1, 1, 8, 80000)), (41480258, 'NEW YORK BURGER CO', 1, '470', 'WEST 23 STREET', 10011, 2122550400, 39, datetime.datetime(2012, 5, 16, 0, 0), 'F', '05D', 50, '', datetime.date(1, 1, 1), datetime.datetime(2013, 8, 30, 1, 1, 8, 80000)), (41443633, 'LUCKYS FAMOUS BURGERS', 1, '264', 'WEST   23 STREET', 10011, 2122424900, 39, datetime.datetime(2011, 4, 18, 0, 0), 'P', '06D', 25, '', datetime.date(1, 1, 1), datetime.datetime(2013, 8, 30, 1, 1, 8, 80000)), (41443633, 'LUCKYS FAMOUS BURGERS', 1, '264', 'WEST   23 STREET', 10011, 2122424900, 39, datetime.datetime(2011, 5, 13, 0, 0), 'D', '10F', 9, 'A', datetime.date(2011, 5, 13), datetime.datetime(2013, 8, 30, 1, 1, 8, 80000)), (41443633, 'LUCKYS FAMOUS BURGERS', 1, '264', 'WEST   23 STREET', 10011, 2122424900, 39, datetime.datetime(2011, 10, 13, 0, 0), 'D', '02G', 12, 'A', datetime.date(2011, 10, 13), datetime.datetime(2013, 8, 30, 1, 1, 8, 80000)), (41443633, 'LUCKYS FAMOUS BURGERS', 1, '264', 'WEST   23 STREET', 10011, 2122424900, 39, datetime.datetime(2012, 8, 8, 0, 0), 'F', '04L', 28, '', datetime.date(1, 1, 1), datetime.datetime(2013, 8, 30, 1, 1, 8, 80000)), (41443633, 'LUCKYS FAMOUS BURGERS', 1, '264', 'WEST   23 STREET', 10011, 2122424900, 39, datetime.datetime(2013, 2, 11, 0, 0), 'P', '10B', 19, '', datetime.date(1, 1, 1), datetime.datetime(2013, 8, 30, 1, 1, 8, 80000)), (41443633, 'LUCKYS FAMOUS BURGERS', 1, '264', 'WEST   23 STREET', 10011, 2122424900, 39, datetime.datetime(2013, 7, 30, 0, 0), 'P', '08A', 20, '', datetime.date(1, 1, 1), datetime.datetime(2013, 8, 30, 1, 1, 8, 80000)), (41504363, 'KORZO HAUS', 1, '178', 'EAST 7 STREET', 10009, 2127800181, 39, datetime.datetime(2010, 8, 4, 0, 0), 'D', '10F', 2, '', datetime.date(1, 1, 1), datetime.datetime(2013, 8, 30, 1, 1, 8, 80000)), (41504363, 'KORZO HAUS', 1, '178', 'EAST 7 STREET', 10009, 2127800181, 39, datetime.datetime(2011, 4, 20, 0, 0), 'P', '06A', 25, '', datetime.date(1, 1, 1), datetime.datetime(2013, 8, 30, 1, 1, 8, 80000)), (41504363, 'KORZO HAUS', 1, '178', 'EAST 7 STREET', 10009, 2127800181, 39, datetime.datetime(2011, 4, 20, 0, 0), 'P', '08A', 25, '', datetime.date(1, 1, 1), datetime.datetime(2013, 8, 30, 1, 1, 8, 80000)), (41504363, 'KORZO HAUS', 1, '178', 'EAST 7 STREET', 10009, 2127800181, 39, datetime.datetime(2011, 4, 20, 0, 0), 'P', '99B', 25, '', datetime.date(1, 1, 1), datetime.datetime(2013, 8, 30, 1, 1, 8, 80000)), (41504363, 'KORZO HAUS', 1, '178', 'EAST 7 STREET', 10009, 2127800181, 39, datetime.datetime(2011, 12, 14, 0, 0), 'P', '04L', 25, '', datetime.date(1, 1, 1), datetime.datetime(2013, 8, 30, 1, 1, 8, 80000)), (41504363, 'KORZO HAUS', 1, '178', 'EAST 7 STREET', 10009, 2127800181, 39, datetime.datetime(2012, 7, 11, 0, 0), 'F', '02A', 82, '', datetime.date(1, 1, 1), datetime.datetime(2013, 8, 30, 1, 1, 8, 80000)), (41504363, 'KORZO HAUS', 1, '178', 'EAST 7 STREET', 10009, 2127800181, 39, datetime.datetime(2012, 7, 11, 0, 0), 'F', '02B', 82, '', datetime.date(1, 1, 1), datetime.datetime(2013, 8, 30, 1, 1, 8, 80000)), (41504363, 'KORZO HAUS', 1, '178', 'EAST 7 STREET', 10009, 2127800181, 39, datetime.datetime(2012, 7, 11, 0, 0), 'F', '04L', 82, '', datetime.date(1, 1, 1), datetime.datetime(2013, 8, 30, 1, 1, 8, 80000)), (41504363, 'KORZO HAUS', 1, '178', 'EAST 7 STREET', 10009, 2127800181, 39, datetime.datetime(2012, 7, 20, 0, 0), 'F', '08A', 42, 'C', datetime.date(2012, 7, 20), datetime.datetime(2013, 8, 30, 1, 1, 8, 80000)), (41504363, 'KORZO HAUS', 1, '178', 'EAST 7 STREET', 10009, 2127800181, 39, datetime.datetime(2011, 4, 20, 0, 0), 'P', '02G', 25, '', datetime.date(1, 1, 1), datetime.datetime(2013, 8, 30, 1, 1, 8, 80000)), (41504363, 'KORZO HAUS', 1, '178', 'EAST 7 STREET', 10009, 2127800181, 39, datetime.datetime(2011, 12, 14, 0, 0), 'P', '06E', 25, '', datetime.date(1, 1, 1), datetime.datetime(2013, 8, 30, 1, 1, 8, 80000)), (41504363, 'KORZO HAUS', 1, '178', 'EAST 7 STREET', 10009, 2127800181, 39, datetime.datetime(2013, 1, 29, 0, 0), 'U', '15L', -1, '', datetime.date(1, 1, 1), datetime.datetime(2013, 8, 30, 1, 1, 8, 80000)), (41452207, 'MARK', 1, '33', 'ST MARKS PLACE', 10003, 2126773132, 39, datetime.datetime(2012, 4, 12, 0, 0), 'D', '08A', 11, 'A', datetime.date(2012, 4, 12), datetime.datetime(2013, 8, 30, 1, 1, 8, 80000)), (41504363, 'KORZO HAUS', 1, '178', 'EAST 7 STREET', 10009, 2127800181, 39, datetime.datetime(2013, 1, 29, 0, 0), 'F', '04C', 55, '', datetime.date(1, 1, 1), datetime.datetime(2013, 8, 30, 1, 1, 8, 80000)), (41504363, 'KORZO HAUS', 1, '178', 'EAST 7 STREET', 10009, 2127800181, 39, datetime.datetime(2013, 1, 29, 0, 0), 'F', '06C', 55, '', datetime.date(1, 1, 1), datetime.datetime(2013, 8, 30, 1, 1, 8, 80000)), (41504363, 'KORZO HAUS', 1, '178', 'EAST 7 STREET', 10009, 2127800181, 39, datetime.datetime(2013, 1, 29, 0, 0), 'F', '10F', 55, '', datetime.date(1, 1, 1), datetime.datetime(2013, 8, 30, 1, 1, 8, 80000)), (41504363, 'KORZO HAUS', 1, '178', 'EAST 7 STREET', 10009, 2127800181, 39, datetime.datetime(2011, 7, 11, 0, 0), 'U', '04L', 17, 'B', datetime.date(2011, 7, 11), datetime.datetime(2013, 8, 30, 1, 1, 8, 80000)), (41504363, 'KORZO HAUS', 1, '178', 'EAST 7 STREET', 10009, 2127800181, 39, datetime.datetime(2011, 12, 14, 0, 0), 'P', '08A', 25, '', datetime.date(1, 1, 1), datetime.datetime(2013, 8, 30, 1, 1, 8, 80000)), (41504363, 'KORZO HAUS', 1, '178', 'EAST 7 STREET', 10009, 2127800181, 39, datetime.datetime(2012, 1, 24, 0, 0), 'F', '06C', 34, 'C', datetime.date(2012, 1, 24), datetime.datetime(2013, 8, 30, 1, 1, 8, 80000)), (41504363, 'KORZO HAUS', 1, '178', 'EAST 7 STREET', 10009, 2127800181, 39, datetime.datetime(2012, 7, 11, 0, 0), 'F', '02G', 82, '', datetime.date(1, 1, 1), datetime.datetime(2013, 8, 30, 1, 1, 8, 80000)), (41504363, 'KORZO HAUS', 1, '178', 'EAST 7 STREET', 10009, 2127800181, 39, datetime.datetime(2012, 7, 20, 0, 0), 'F', '06F', 42, 'C', datetime.date(2012, 7, 20), datetime.datetime(2013, 8, 30, 1, 1, 8, 80000)), (41504363, 'KORZO HAUS', 1, '178', 'EAST 7 STREET', 10009, 2127800181, 39, datetime.datetime(2013, 1, 29, 0, 0), 'F', '04L', 55, '', datetime.date(1, 1, 1), datetime.datetime(2013, 8, 30, 1, 1, 8, 80000)), (41443633, 'LUCKYS FAMOUS BURGERS', 1, '264', 'WEST   23 STREET', 10011, 2122424900, 39, datetime.datetime(2011, 4, 18, 0, 0), 'P', '08C', 25, '', datetime.date(1, 1, 1), datetime.datetime(2013, 8, 30, 1, 1, 8, 80000)), (41443633, 'LUCKYS FAMOUS BURGERS', 1, '264', 'WEST   23 STREET', 10011, 2122424900, 39, datetime.datetime(2012, 2, 23, 0, 0), 'P', '04L', 21, '', datetime.date(1, 1, 1), datetime.datetime(2013, 8, 30, 1, 1, 8, 80000)), (41443633, 'LUCKYS FAMOUS BURGERS', 1, '264', 'WEST   23 STREET', 10011, 2122424900, 39, datetime.datetime(2012, 3, 8, 0, 0), 'D', '04L', 11, 'A', datetime.date(2012, 3, 8), datetime.datetime(2013, 8, 30, 1, 1, 8, 80000)), (41443633, 'LUCKYS FAMOUS BURGERS', 1, '264', 'WEST   23 STREET', 10011, 2122424900, 39, datetime.datetime(2013, 2, 11, 0, 0), 'P', '06D', 19, '', datetime.date(1, 1, 1), datetime.datetime(2013, 8, 30, 1, 1, 8, 80000)), (41463516, \"MCDONALD'S\", 1, '404', 'EAST 14 STREET', 10009, 2125980045, 39, datetime.datetime(2010, 10, 20, 0, 0), 'P', '04N', 21, '', datetime.date(1, 1, 1), datetime.datetime(2013, 8, 30, 1, 1, 8, 80000)), (41463516, \"MCDONALD'S\", 1, '404', 'EAST 14 STREET', 10009, 2125980045, 39, datetime.datetime(2011, 8, 12, 0, 0), 'F', '06F', 29, 'C', datetime.date(2011, 8, 12), datetime.datetime(2013, 8, 30, 1, 1, 8, 80000)), (41452207, 'MARK', 1, '33', 'ST MARKS PLACE', 10003, 2126773132, 39, datetime.datetime(2011, 4, 20, 0, 0), 'D', '10B', 2, 'A', datetime.date(2011, 4, 20), datetime.datetime(2013, 8, 30, 1, 1, 8, 80000)), (41452207, 'MARK', 1, '33', 'ST MARKS PLACE', 10003, 2126773132, 39, datetime.datetime(2013, 4, 9, 0, 0), 'F', '04H', 29, '', datetime.date(1, 1, 1), datetime.datetime(2013, 8, 30, 1, 1, 8, 80000)), (41452207, 'MARK', 1, '33', 'ST MARKS PLACE', 10003, 2126773132, 39, datetime.datetime(2013, 4, 9, 0, 0), 'F', '06F', 29, '', datetime.date(1, 1, 1), datetime.datetime(2013, 8, 30, 1, 1, 8, 80000)), (41471148, 'TALLGRASS BURGER', 1, '214B', '1 AVENUE', 10009, 2122532990, 39, datetime.datetime(2010, 5, 18, 7, 56), 'D', '10K', 4, '', datetime.date(1, 1, 1), datetime.datetime(2013, 8, 30, 1, 1, 8, 80000)), (41471148, 'TALLGRASS BURGER', 1, '214B', '1 AVENUE', 10009, 2122532990, 39, datetime.datetime(2012, 4, 26, 0, 0), 'P', '08A', 26, '', datetime.date(1, 1, 1), datetime.datetime(2013, 8, 30, 1, 1, 8, 80000)), (41463516, \"MCDONALD'S\", 1, '404', 'EAST 14 STREET', 10009, 2125980045, 39, datetime.datetime(2010, 2, 11, 10, 28), 'B', '', -1, '', datetime.date(1, 1, 1), datetime.datetime(2013, 8, 30, 1, 1, 8, 80000)), (41463516, \"MCDONALD'S\", 1, '404', 'EAST 14 STREET', 10009, 2125980045, 39, datetime.datetime(2010, 10, 20, 0, 0), 'P', '04M', 21, '', datetime.date(1, 1, 1), datetime.datetime(2013, 8, 30, 1, 1, 8, 80000)), (41463516, \"MCDONALD'S\", 1, '404', 'EAST 14 STREET', 10009, 2125980045, 39, datetime.datetime(2011, 3, 16, 0, 0), 'P', '02B', 17, '', datetime.date(1, 1, 1), datetime.datetime(2013, 8, 30, 1, 1, 8, 80000)), (41463516, \"MCDONALD'S\", 1, '404', 'EAST 14 STREET', 10009, 2125980045, 39, datetime.datetime(2011, 4, 1, 0, 0), 'D', '22A', 3, 'A', datetime.date(2011, 4, 1), datetime.datetime(2013, 8, 30, 1, 1, 8, 80000)), (41463516, \"MCDONALD'S\", 1, '404', 'EAST 14 STREET', 10009, 2125980045, 39, datetime.datetime(2011, 7, 29, 0, 0), 'P', '10F', 14, '', datetime.date(1, 1, 1), datetime.datetime(2013, 8, 30, 1, 1, 8, 80000)), (41463516, \"MCDONALD'S\", 1, '404', 'EAST 14 STREET', 10009, 2125980045, 39, datetime.datetime(2011, 8, 12, 0, 0), 'F', '05D', 29, 'C', datetime.date(2011, 8, 12), datetime.datetime(2013, 8, 30, 1, 1, 8, 80000)), (41463516, \"MCDONALD'S\", 1, '404', 'EAST 14 STREET', 10009, 2125980045, 39, datetime.datetime(2011, 8, 12, 0, 0), 'F', '06E', 29, 'C', datetime.date(2011, 8, 12), datetime.datetime(2013, 8, 30, 1, 1, 8, 80000)), (41480258, 'NEW YORK BURGER CO', 1, '470', 'WEST 23 STREET', 10011, 2122550400, 39, datetime.datetime(2012, 6, 12, 0, 0), 'F', '02G', 47, 'C', datetime.date(2012, 6, 12), datetime.datetime(2013, 8, 30, 1, 1, 8, 80000)), (41471148, 'TALLGRASS BURGER', 1, '214B', '1 AVENUE', 10009, 2122532990, 39, datetime.datetime(2010, 6, 3, 14, 7), 'U', '06C', 20, '', datetime.date(1, 1, 1), datetime.datetime(2013, 8, 30, 1, 1, 8, 80000)), (41471148, 'TALLGRASS BURGER', 1, '214B', '1 AVENUE', 10009, 2122532990, 39, datetime.datetime(2012, 4, 26, 0, 0), 'P', '02G', 26, '', datetime.date(1, 1, 1), datetime.datetime(2013, 8, 30, 1, 1, 8, 80000)), (41471148, 'TALLGRASS BURGER', 1, '214B', '1 AVENUE', 10009, 2122532990, 39, datetime.datetime(2012, 5, 7, 0, 0), 'U', '08A', 12, 'B', datetime.date(2012, 5, 7), datetime.datetime(2013, 8, 30, 1, 1, 8, 80000)), (41576915, \"LUCKY'S FAMOUS BURGERS\", 1, '147', 'EAST HOUSTON STREET', 10002, 2122544900, 39, datetime.datetime(2012, 10, 3, 0, 0), 'D', '04L', 13, 'A', datetime.date(2012, 10, 3), datetime.datetime(2013, 8, 30, 1, 1, 8, 80000)), (41504363, 'KORZO HAUS', 1, '178', 'EAST 7 STREET', 10009, 2127800181, 39, datetime.datetime(2011, 4, 20, 0, 0), 'P', '04L', 25, '', datetime.date(1, 1, 1), datetime.datetime(2013, 8, 30, 1, 1, 8, 80000)), (41504363, 'KORZO HAUS', 1, '178', 'EAST 7 STREET', 10009, 2127800181, 39, datetime.datetime(2011, 12, 14, 0, 0), 'P', '08C', 25, '', datetime.date(1, 1, 1), datetime.datetime(2013, 8, 30, 1, 1, 8, 80000)), (41504363, 'KORZO HAUS', 1, '178', 'EAST 7 STREET', 10009, 2127800181, 39, datetime.datetime(2012, 1, 24, 0, 0), 'F', '04L', 34, 'C', datetime.date(2012, 1, 24), datetime.datetime(2013, 8, 30, 1, 1, 8, 80000)), (41504363, 'KORZO HAUS', 1, '178', 'EAST 7 STREET', 10009, 2127800181, 39, datetime.datetime(2012, 7, 11, 0, 0), 'F', '04H', 82, '', datetime.date(1, 1, 1), datetime.datetime(2013, 8, 30, 1, 1, 8, 80000)), (41504363, 'KORZO HAUS', 1, '178', 'EAST 7 STREET', 10009, 2127800181, 39, datetime.datetime(2012, 7, 11, 0, 0), 'F', '08A', 82, '', datetime.date(1, 1, 1), datetime.datetime(2013, 8, 30, 1, 1, 8, 80000)), (41504363, 'KORZO HAUS', 1, '178', 'EAST 7 STREET', 10009, 2127800181, 39, datetime.datetime(2012, 7, 20, 0, 0), 'F', '02B', 42, 'C', datetime.date(2012, 7, 20), datetime.datetime(2013, 8, 30, 1, 1, 8, 80000)), (41504363, 'KORZO HAUS', 1, '178', 'EAST 7 STREET', 10009, 2127800181, 39, datetime.datetime(2012, 7, 20, 0, 0), 'F', '04L', 42, 'C', datetime.date(2012, 7, 20), datetime.datetime(2013, 8, 30, 1, 1, 8, 80000)), (41576915, \"LUCKY'S FAMOUS BURGERS\", 1, '147', 'EAST HOUSTON STREET', 10002, 2122544900, 39, datetime.datetime(2011, 4, 18, 0, 0), 'F', '02G', 30, '', datetime.date(1, 1, 1), datetime.datetime(2013, 8, 30, 1, 1, 8, 80000)), (41576915, \"LUCKY'S FAMOUS BURGERS\", 1, '147', 'EAST HOUSTON STREET', 10002, 2122544900, 39, datetime.datetime(2011, 4, 18, 0, 0), 'F', '99B', 30, '', datetime.date(1, 1, 1), datetime.datetime(2013, 8, 30, 1, 1, 8, 80000)), (41576915, \"LUCKY'S FAMOUS BURGERS\", 1, '147', 'EAST HOUSTON STREET', 10002, 2122544900, 39, datetime.datetime(2012, 4, 24, 0, 0), 'P', '06D', 18, '', datetime.date(1, 1, 1), datetime.datetime(2013, 8, 30, 1, 1, 8, 80000)), (41576915, \"LUCKY'S FAMOUS BURGERS\", 1, '147', 'EAST HOUSTON STREET', 10002, 2122544900, 39, datetime.datetime(2012, 9, 18, 0, 0), 'P', '06D', 16, '', datetime.date(1, 1, 1), datetime.datetime(2013, 8, 30, 1, 1, 8, 80000)), (41576915, \"LUCKY'S FAMOUS BURGERS\", 1, '147', 'EAST HOUSTON STREET', 10002, 2122544900, 39, datetime.datetime(2012, 10, 3, 0, 0), 'D', '10F', 13, 'A', datetime.date(2012, 10, 3), datetime.datetime(2013, 8, 30, 1, 1, 8, 80000)), (41576915, \"LUCKY'S FAMOUS BURGERS\", 1, '147', 'EAST HOUSTON STREET', 10002, 2122544900, 39, datetime.datetime(2011, 10, 11, 0, 0), 'U', '06B', 15, 'B', datetime.date(2011, 10, 11), datetime.datetime(2013, 8, 30, 1, 1, 8, 80000)), (41576915, \"LUCKY'S FAMOUS BURGERS\", 1, '147', 'EAST HOUSTON STREET', 10002, 2122544900, 39, datetime.datetime(2013, 3, 20, 0, 0), 'P', '04M', 25, '', datetime.date(1, 1, 1), datetime.datetime(2013, 8, 30, 1, 1, 8, 80000)), (41576915, \"LUCKY'S FAMOUS BURGERS\", 1, '147', 'EAST HOUSTON STREET', 10002, 2122544900, 39, datetime.datetime(2013, 3, 20, 0, 0), 'P', '05D', 25, '', datetime.date(1, 1, 1), datetime.datetime(2013, 8, 30, 1, 1, 8, 80000)), (41576915, \"LUCKY'S FAMOUS BURGERS\", 1, '147', 'EAST HOUSTON STREET', 10002, 2122544900, 39, datetime.datetime(2011, 10, 4, 0, 0), 'P', '04L', 27, '', datetime.date(1, 1, 1), datetime.datetime(2013, 8, 30, 1, 1, 8, 80000)), (41576915, \"LUCKY'S FAMOUS BURGERS\", 1, '147', 'EAST HOUSTON STREET', 10002, 2122544900, 39, datetime.datetime(2012, 4, 24, 0, 0), 'P', '04H', 18, '', datetime.date(1, 1, 1), datetime.datetime(2013, 8, 30, 1, 1, 8, 80000)), (41576915, \"LUCKY'S FAMOUS BURGERS\", 1, '147', 'EAST HOUSTON STREET', 10002, 2122544900, 39, datetime.datetime(2012, 10, 3, 0, 0), 'D', '08A', 13, 'A', datetime.date(2012, 10, 3), datetime.datetime(2013, 8, 30, 1, 1, 8, 80000)), (41576915, \"LUCKY'S FAMOUS BURGERS\", 1, '147', 'EAST HOUSTON STREET', 10002, 2122544900, 39, datetime.datetime(2013, 3, 20, 0, 0), 'P', '08A', 25, '', datetime.date(1, 1, 1), datetime.datetime(2013, 8, 30, 1, 1, 8, 80000)), (41576915, \"LUCKY'S FAMOUS BURGERS\", 1, '147', 'EAST HOUSTON STREET', 10002, 2122544900, 39, datetime.datetime(2013, 3, 20, 0, 0), 'P', '10B', 25, '', datetime.date(1, 1, 1), datetime.datetime(2013, 8, 30, 1, 1, 8, 80000)), (41576915, \"LUCKY'S FAMOUS BURGERS\", 1, '147', 'EAST HOUSTON STREET', 10002, 2122544900, 39, datetime.datetime(2011, 10, 11, 0, 0), 'U', '02G', 15, 'B', datetime.date(2011, 10, 11), datetime.datetime(2013, 8, 30, 1, 1, 8, 80000)), (41576915, \"LUCKY'S FAMOUS BURGERS\", 1, '147', 'EAST HOUSTON STREET', 10002, 2122544900, 39, datetime.datetime(2012, 5, 1, 0, 0), 'D', '10F', 13, 'A', datetime.date(2012, 5, 1), datetime.datetime(2013, 8, 30, 1, 1, 8, 80000)), (41576915, \"LUCKY'S FAMOUS BURGERS\", 1, '147', 'EAST HOUSTON STREET', 10002, 2122544900, 39, datetime.datetime(2012, 9, 18, 0, 0), 'P', '06C', 16, '', datetime.date(1, 1, 1), datetime.datetime(2013, 8, 30, 1, 1, 8, 80000)), (41606211, 'POPS', 1, '42', 'EAST    8 STREET', 10003, 2124663650, 39, datetime.datetime(2012, 5, 9, 0, 0), 'F', '06E', 17, '', datetime.date(1, 1, 1), datetime.datetime(2013, 8, 30, 1, 1, 8, 80000)), (41606211, 'POPS', 1, '42', 'EAST    8 STREET', 10003, 2124663650, 39, datetime.datetime(2012, 11, 29, 0, 0), 'F', '10F', 21, 'C', datetime.date(2012, 11, 29), datetime.datetime(2013, 8, 30, 1, 1, 8, 80000)), (41606211, 'POPS', 1, '42', 'EAST    8 STREET', 10003, 2124663650, 39, datetime.datetime(2013, 5, 9, 0, 0), 'F', '04N', 27, '', datetime.date(1, 1, 1), datetime.datetime(2013, 8, 30, 1, 1, 8, 80000)), (41606211, 'POPS', 1, '42', 'EAST    8 STREET', 10003, 2124663650, 39, datetime.datetime(2013, 5, 9, 0, 0), 'F', '10I', 27, '', datetime.date(1, 1, 1), datetime.datetime(2013, 8, 30, 1, 1, 8, 80000)), (41609204, 'THE BOWERY DINER', 1, '241', 'BOWERY', 10002, 2123880052, 39, datetime.datetime(2012, 1, 4, 0, 0), 'D', '10D', 7, '', datetime.date(1, 1, 1), datetime.datetime(2013, 8, 30, 1, 1, 8, 80000)), (41609204, 'THE BOWERY DINER', 1, '241', 'BOWERY', 10002, 2123880052, 39, datetime.datetime(2012, 2, 13, 0, 0), 'D', '10E', 13, 'A', datetime.date(2012, 2, 13), datetime.datetime(2013, 8, 30, 1, 1, 8, 80000)), (41609204, 'THE BOWERY DINER', 1, '241', 'BOWERY', 10002, 2123880052, 39, datetime.datetime(2012, 7, 16, 0, 0), 'U', '02G', 17, 'B', datetime.date(2012, 7, 16), datetime.datetime(2013, 8, 30, 1, 1, 8, 80000)), (41609204, 'THE BOWERY DINER', 1, '241', 'BOWERY', 10002, 2123880052, 39, datetime.datetime(2012, 7, 16, 0, 0), 'U', '06D', 17, 'B', datetime.date(2012, 7, 16), datetime.datetime(2013, 8, 30, 1, 1, 8, 80000)), (41609204, 'THE BOWERY DINER', 1, '241', 'BOWERY', 10002, 2123880052, 39, datetime.datetime(2012, 12, 6, 0, 0), 'P', '06E', 27, '', datetime.date(1, 1, 1), datetime.datetime(2013, 8, 30, 1, 1, 8, 80000)), (41504363, 'KORZO HAUS', 1, '178', 'EAST 7 STREET', 10009, 2127800181, 39, datetime.datetime(2011, 4, 20, 0, 0), 'P', '22A', 25, '', datetime.date(1, 1, 1), datetime.datetime(2013, 8, 30, 1, 1, 8, 80000)), (41504363, 'KORZO HAUS', 1, '178', 'EAST 7 STREET', 10009, 2127800181, 39, datetime.datetime(2011, 7, 11, 0, 0), 'U', '06D', 17, 'B', datetime.date(2011, 7, 11), datetime.datetime(2013, 8, 30, 1, 1, 8, 80000)), (41504363, 'KORZO HAUS', 1, '178', 'EAST 7 STREET', 10009, 2127800181, 39, datetime.datetime(2011, 12, 14, 0, 0), 'P', '06D', 25, '', datetime.date(1, 1, 1), datetime.datetime(2013, 8, 30, 1, 1, 8, 80000)), (41504363, 'KORZO HAUS', 1, '178', 'EAST 7 STREET', 10009, 2127800181, 39, datetime.datetime(2012, 7, 11, 0, 0), 'F', '04J', 82, '', datetime.date(1, 1, 1), datetime.datetime(2013, 8, 30, 1, 1, 8, 80000)), (41504363, 'KORZO HAUS', 1, '178', 'EAST 7 STREET', 10009, 2127800181, 39, datetime.datetime(2012, 7, 20, 0, 0), 'F', '04C', 42, 'C', datetime.date(2012, 7, 20), datetime.datetime(2013, 8, 30, 1, 1, 8, 80000)), (41606211, 'POPS', 1, '42', 'EAST    8 STREET', 10003, 2124663650, 39, datetime.datetime(2011, 11, 21, 0, 0), 'P', '10H', 18, '', datetime.date(1, 1, 1), datetime.datetime(2013, 8, 30, 1, 1, 8, 80000)), (41606211, 'POPS', 1, '42', 'EAST    8 STREET', 10003, 2124663650, 39, datetime.datetime(2011, 12, 22, 0, 0), 'F', '04N', 26, 'C', datetime.date(2011, 12, 22), datetime.datetime(2013, 8, 30, 1, 1, 8, 80000)), (41606211, 'POPS', 1, '42', 'EAST    8 STREET', 10003, 2124663650, 39, datetime.datetime(2012, 11, 29, 0, 0), 'F', '05D', 21, 'C', datetime.date(2012, 11, 29), datetime.datetime(2013, 8, 30, 1, 1, 8, 80000)), (41606211, 'POPS', 1, '42', 'EAST    8 STREET', 10003, 2124663650, 39, datetime.datetime(2013, 5, 9, 0, 0), 'F', '06E', 27, '', datetime.date(1, 1, 1), datetime.datetime(2013, 8, 30, 1, 1, 8, 80000)), (41609204, 'THE BOWERY DINER', 1, '241', 'BOWERY', 10002, 2123880052, 39, datetime.datetime(2012, 7, 2, 0, 0), 'F', '08A', 55, '', datetime.date(1, 1, 1), datetime.datetime(2013, 8, 30, 1, 1, 8, 80000)), (41609204, 'THE BOWERY DINER', 1, '241', 'BOWERY', 10002, 2123880052, 39, datetime.datetime(2012, 12, 6, 0, 0), 'P', '09C', 27, '', datetime.date(1, 1, 1), datetime.datetime(2013, 8, 30, 1, 1, 8, 80000)), (41606211, 'POPS', 1, '42', 'EAST    8 STREET', 10003, 2124663650, 39, datetime.datetime(2011, 12, 22, 0, 0), 'F', '04H', 26, 'C', datetime.date(2011, 12, 22), datetime.datetime(2013, 8, 30, 1, 1, 8, 80000)), (41606211, 'POPS', 1, '42', 'EAST    8 STREET', 10003, 2124663650, 39, datetime.datetime(2012, 10, 22, 0, 0), 'P', '02G', 15, '', datetime.date(1, 1, 1), datetime.datetime(2013, 8, 30, 1, 1, 8, 80000)), (41606211, 'POPS', 1, '42', 'EAST    8 STREET', 10003, 2124663650, 39, datetime.datetime(2011, 11, 21, 0, 0), 'P', '99B', 18, '', datetime.date(1, 1, 1), datetime.datetime(2013, 8, 30, 1, 1, 8, 80000)), (41606211, 'POPS', 1, '42', 'EAST    8 STREET', 10003, 2124663650, 39, datetime.datetime(2012, 10, 22, 0, 0), 'P', '10F', 15, '', datetime.date(1, 1, 1), datetime.datetime(2013, 8, 30, 1, 1, 8, 80000)), (41606211, 'POPS', 1, '42', 'EAST    8 STREET', 10003, 2124663650, 39, datetime.datetime(2013, 5, 9, 0, 0), 'F', '10F', 27, '', datetime.date(1, 1, 1), datetime.datetime(2013, 8, 30, 1, 1, 8, 80000)), (41609204, 'THE BOWERY DINER', 1, '241', 'BOWERY', 10002, 2123880052, 39, datetime.datetime(2012, 1, 17, 0, 0), 'P', '02B', 26, '', datetime.date(1, 1, 1), datetime.datetime(2013, 8, 30, 1, 1, 8, 80000)), (41609204, 'THE BOWERY DINER', 1, '241', 'BOWERY', 10002, 2123880052, 39, datetime.datetime(2013, 7, 22, 0, 0), 'F', '06C', 53, '', datetime.date(1, 1, 1), datetime.datetime(2013, 8, 30, 1, 1, 8, 80000)), (41609204, 'THE BOWERY DINER', 1, '241', 'BOWERY', 10002, 2123880052, 39, datetime.datetime(2012, 7, 2, 0, 0), 'F', '02B', 55, '', datetime.date(1, 1, 1), datetime.datetime(2013, 8, 30, 1, 1, 8, 80000)), (41609204, 'THE BOWERY DINER', 1, '241', 'BOWERY', 10002, 2123880052, 39, datetime.datetime(2012, 7, 2, 0, 0), 'F', '04N', 55, '', datetime.date(1, 1, 1), datetime.datetime(2013, 8, 30, 1, 1, 8, 80000)), (41609204, 'THE BOWERY DINER', 1, '241', 'BOWERY', 10002, 2123880052, 39, datetime.datetime(2012, 7, 16, 0, 0), 'U', '04L', 17, 'B', datetime.date(2012, 7, 16), datetime.datetime(2013, 8, 30, 1, 1, 8, 80000)), (41606211, 'POPS', 1, '42', 'EAST    8 STREET', 10003, 2124663650, 39, datetime.datetime(2011, 8, 18, 0, 0), 'D', '10F', 4, '', datetime.date(1, 1, 1), datetime.datetime(2013, 8, 30, 1, 1, 8, 80000)), (41606211, 'POPS', 1, '42', 'EAST    8 STREET', 10003, 2124663650, 39, datetime.datetime(2011, 11, 21, 0, 0), 'P', '02G', 18, '', datetime.date(1, 1, 1), datetime.datetime(2013, 8, 30, 1, 1, 8, 80000)), (41606211, 'POPS', 1, '42', 'EAST    8 STREET', 10003, 2124663650, 39, datetime.datetime(2011, 11, 21, 0, 0), 'P', '06E', 18, '', datetime.date(1, 1, 1), datetime.datetime(2013, 8, 30, 1, 1, 8, 80000)), (41606211, 'POPS', 1, '42', 'EAST    8 STREET', 10003, 2124663650, 39, datetime.datetime(2011, 12, 22, 0, 0), 'F', '04A', 26, 'C', datetime.date(2011, 12, 22), datetime.datetime(2013, 8, 30, 1, 1, 8, 80000)), (41606211, 'POPS', 1, '42', 'EAST    8 STREET', 10003, 2124663650, 39, datetime.datetime(2012, 5, 9, 0, 0), 'F', '06C', 17, '', datetime.date(1, 1, 1), datetime.datetime(2013, 8, 30, 1, 1, 8, 80000)), (41606211, 'POPS', 1, '42', 'EAST    8 STREET', 10003, 2124663650, 39, datetime.datetime(2013, 5, 9, 0, 0), 'F', '02B', 27, '', datetime.date(1, 1, 1), datetime.datetime(2013, 8, 30, 1, 1, 8, 80000)), (41609204, 'THE BOWERY DINER', 1, '241', 'BOWERY', 10002, 2123880052, 39, datetime.datetime(2012, 1, 4, 0, 0), 'D', '10F', 7, '', datetime.date(1, 1, 1), datetime.datetime(2013, 8, 30, 1, 1, 8, 80000)), (41609204, 'THE BOWERY DINER', 1, '241', 'BOWERY', 10002, 2123880052, 39, datetime.datetime(2012, 2, 13, 0, 0), 'D', '10F', 13, 'A', datetime.date(2012, 2, 13), datetime.datetime(2013, 8, 30, 1, 1, 8, 80000)), (41609204, 'THE BOWERY DINER', 1, '241', 'BOWERY', 10002, 2123880052, 39, datetime.datetime(2012, 7, 2, 0, 0), 'F', '04L', 55, '', datetime.date(1, 1, 1), datetime.datetime(2013, 8, 30, 1, 1, 8, 80000)), (41609204, 'THE BOWERY DINER', 1, '241', 'BOWERY', 10002, 2123880052, 39, datetime.datetime(2012, 12, 6, 0, 0), 'P', '02G', 27, '', datetime.date(1, 1, 1), datetime.datetime(2013, 8, 30, 1, 1, 8, 80000)), (41609204, 'THE BOWERY DINER', 1, '241', 'BOWERY', 10002, 2123880052, 39, datetime.datetime(2013, 7, 22, 0, 0), 'F', '02G', 53, '', datetime.date(1, 1, 1), datetime.datetime(2013, 8, 30, 1, 1, 8, 80000)), (41609204, 'THE BOWERY DINER', 1, '241', 'BOWERY', 10002, 2123880052, 39, datetime.datetime(2013, 7, 22, 0, 0), 'F', '06D', 53, '', datetime.date(1, 1, 1), datetime.datetime(2013, 8, 30, 1, 1, 8, 80000)), (41609204, 'THE BOWERY DINER', 1, '241', 'BOWERY', 10002, 2123880052, 39, datetime.datetime(2013, 7, 22, 0, 0), 'F', '08A', 53, '', datetime.date(1, 1, 1), datetime.datetime(2013, 8, 30, 1, 1, 8, 80000)), (41636189, 'BAREBURGER', 1, '85', '2 AVENUE', 10003, 2125108610, 39, datetime.datetime(2012, 2, 10, 0, 0), 'D', '06F', 13, 'A', datetime.date(2012, 2, 10), datetime.datetime(2013, 8, 30, 1, 1, 8, 80000)), (41636189, 'BAREBURGER', 1, '85', '2 AVENUE', 10003, 2125108610, 39, datetime.datetime(2012, 2, 10, 0, 0), 'D', '10H', 13, 'A', datetime.date(2012, 2, 10), datetime.datetime(2013, 8, 30, 1, 1, 8, 80000)), (41576915, \"LUCKY'S FAMOUS BURGERS\", 1, '147', 'EAST HOUSTON STREET', 10002, 2122544900, 39, datetime.datetime(2012, 5, 1, 0, 0), 'D', '10H', 13, 'A', datetime.date(2012, 5, 1), datetime.datetime(2013, 8, 30, 1, 1, 8, 80000)), (41576915, \"LUCKY'S FAMOUS BURGERS\", 1, '147', 'EAST HOUSTON STREET', 10002, 2122544900, 39, datetime.datetime(2012, 9, 18, 0, 0), 'P', '10C', 16, '', datetime.date(1, 1, 1), datetime.datetime(2013, 8, 30, 1, 1, 8, 80000)), (41576915, \"LUCKY'S FAMOUS BURGERS\", 1, '147', 'EAST HOUSTON STREET', 10002, 2122544900, 39, datetime.datetime(2011, 5, 16, 0, 0), 'U', '02G', 9, 'B', datetime.date(2011, 5, 16), datetime.datetime(2013, 8, 30, 1, 1, 8, 80000)), (41576915, \"LUCKY'S FAMOUS BURGERS\", 1, '147', 'EAST HOUSTON STREET', 10002, 2122544900, 39, datetime.datetime(2012, 5, 1, 0, 0), 'D', '10B', 13, 'A', datetime.date(2012, 5, 1), datetime.datetime(2013, 8, 30, 1, 1, 8, 80000)), (41576915, \"LUCKY'S FAMOUS BURGERS\", 1, '147', 'EAST HOUSTON STREET', 10002, 2122544900, 39, datetime.datetime(2013, 3, 20, 0, 0), 'P', '04L', 25, '', datetime.date(1, 1, 1), datetime.datetime(2013, 8, 30, 1, 1, 8, 80000)), (41681181, \"CLARKE'S STANDARD\", 1, '870', 'BROADWAY', 10003, 2125299100, 39, datetime.datetime(2013, 2, 12, 0, 0), 'P', '05D', 20, '', datetime.date(1, 1, 1), datetime.datetime(2013, 8, 30, 1, 1, 8, 80000)), (41681181, \"CLARKE'S STANDARD\", 1, '870', 'BROADWAY', 10003, 2125299100, 39, datetime.datetime(2013, 2, 12, 0, 0), 'P', '06D', 20, '', datetime.date(1, 1, 1), datetime.datetime(2013, 8, 30, 1, 1, 8, 80000)), (41681181, \"CLARKE'S STANDARD\", 1, '870', 'BROADWAY', 10003, 2125299100, 39, datetime.datetime(2012, 9, 4, 0, 0), 'D', '10B', 10, 'A', datetime.date(2012, 9, 4), datetime.datetime(2013, 8, 30, 1, 1, 8, 80000)), (41681181, \"CLARKE'S STANDARD\", 1, '870', 'BROADWAY', 10003, 2125299100, 39, datetime.datetime(2013, 8, 26, 0, 0), 'P', '02G', 23, '', datetime.date(1, 1, 1), datetime.datetime(2013, 8, 30, 1, 1, 8, 80000)), (41681181, \"CLARKE'S STANDARD\", 1, '870', 'BROADWAY', 10003, 2125299100, 39, datetime.datetime(2012, 9, 4, 0, 0), 'D', '06C', 10, 'A', datetime.date(2012, 9, 4), datetime.datetime(2013, 8, 30, 1, 1, 8, 80000)), (41681181, \"CLARKE'S STANDARD\", 1, '870', 'BROADWAY', 10003, 2125299100, 39, datetime.datetime(2013, 8, 26, 0, 0), 'P', '06D', 23, '', datetime.date(1, 1, 1), datetime.datetime(2013, 8, 30, 1, 1, 8, 80000)), (41681181, \"CLARKE'S STANDARD\", 1, '870', 'BROADWAY', 10003, 2125299100, 39, datetime.datetime(2013, 8, 26, 0, 0), 'P', '06E', 23, '', datetime.date(1, 1, 1), datetime.datetime(2013, 8, 30, 1, 1, 8, 80000)), (41681181, \"CLARKE'S STANDARD\", 1, '870', 'BROADWAY', 10003, 2125299100, 39, datetime.datetime(2013, 8, 26, 0, 0), 'P', '10F', 23, '', datetime.date(1, 1, 1), datetime.datetime(2013, 8, 30, 1, 1, 8, 80000)), (41606211, 'POPS', 1, '42', 'EAST    8 STREET', 10003, 2124663650, 39, datetime.datetime(2012, 5, 23, 0, 0), 'D', '06D', 7, 'A', datetime.date(2012, 5, 23), datetime.datetime(2013, 8, 30, 1, 1, 8, 80000)), (41606211, 'POPS', 1, '42', 'EAST    8 STREET', 10003, 2124663650, 39, datetime.datetime(2012, 11, 29, 0, 0), 'F', '02G', 21, 'C', datetime.date(2012, 11, 29), datetime.datetime(2013, 8, 30, 1, 1, 8, 80000)), (41681181, \"CLARKE'S STANDARD\", 1, '870', 'BROADWAY', 10003, 2125299100, 39, datetime.datetime(2012, 8, 22, 0, 0), 'F', '16B', -1, '', datetime.date(1, 1, 1), datetime.datetime(2013, 8, 30, 1, 1, 8, 80000)), (41609204, 'THE BOWERY DINER', 1, '241', 'BOWERY', 10002, 2123880052, 39, datetime.datetime(2012, 2, 13, 0, 0), 'D', '02G', 13, 'A', datetime.date(2012, 2, 13), datetime.datetime(2013, 8, 30, 1, 1, 8, 80000)), (41609204, 'THE BOWERY DINER', 1, '241', 'BOWERY', 10002, 2123880052, 39, datetime.datetime(2012, 7, 2, 0, 0), 'F', '02G', 55, '', datetime.date(1, 1, 1), datetime.datetime(2013, 8, 30, 1, 1, 8, 80000)), (41609204, 'THE BOWERY DINER', 1, '241', 'BOWERY', 10002, 2123880052, 39, datetime.datetime(2013, 1, 11, 0, 0), 'U', '04H', 11, 'B', datetime.date(2013, 1, 11), datetime.datetime(2013, 8, 30, 1, 1, 8, 80000)), (41609204, 'THE BOWERY DINER', 1, '241', 'BOWERY', 10002, 2123880052, 39, datetime.datetime(2013, 1, 11, 0, 0), 'U', '10B', 11, 'B', datetime.date(2013, 1, 11), datetime.datetime(2013, 8, 30, 1, 1, 8, 80000)), (50000045, 'BURGER JOINT', 1, '33', 'WEST    8 STREET', 10011, 2124321400, 39, datetime.datetime(2013, 5, 13, 0, 0), 'P', '06E', 17, '', datetime.date(1, 1, 1), datetime.datetime(2013, 8, 30, 1, 1, 8, 80000)), (41606211, 'POPS', 1, '42', 'EAST    8 STREET', 10003, 2124663650, 39, datetime.datetime(2011, 12, 22, 0, 0), 'F', '10F', 26, 'C', datetime.date(2011, 12, 22), datetime.datetime(2013, 8, 30, 1, 1, 8, 80000)), (41606211, 'POPS', 1, '42', 'EAST    8 STREET', 10003, 2124663650, 39, datetime.datetime(2012, 5, 23, 0, 0), 'D', '10B', 7, 'A', datetime.date(2012, 5, 23), datetime.datetime(2013, 8, 30, 1, 1, 8, 80000)), (41609204, 'THE BOWERY DINER', 1, '241', 'BOWERY', 10002, 2123880052, 39, datetime.datetime(2012, 1, 17, 0, 0), 'P', '02G', 26, '', datetime.date(1, 1, 1), datetime.datetime(2013, 8, 30, 1, 1, 8, 80000)), (41609204, 'THE BOWERY DINER', 1, '241', 'BOWERY', 10002, 2123880052, 39, datetime.datetime(2012, 1, 17, 0, 0), 'P', '06D', 26, '', datetime.date(1, 1, 1), datetime.datetime(2013, 8, 30, 1, 1, 8, 80000)), (41609204, 'THE BOWERY DINER', 1, '241', 'BOWERY', 10002, 2123880052, 39, datetime.datetime(2012, 7, 2, 0, 0), 'F', '06C', 55, '', datetime.date(1, 1, 1), datetime.datetime(2013, 8, 30, 1, 1, 8, 80000)), (41609204, 'THE BOWERY DINER', 1, '241', 'BOWERY', 10002, 2123880052, 39, datetime.datetime(2012, 12, 6, 0, 0), 'P', '10F', 27, '', datetime.date(1, 1, 1), datetime.datetime(2013, 8, 30, 1, 1, 8, 80000)), (41609204, 'THE BOWERY DINER', 1, '241', 'BOWERY', 10002, 2123880052, 39, datetime.datetime(2013, 1, 11, 0, 0), 'U', '09B', 11, 'B', datetime.date(2013, 1, 11), datetime.datetime(2013, 8, 30, 1, 1, 8, 80000)), (41609204, 'THE BOWERY DINER', 1, '241', 'BOWERY', 10002, 2123880052, 39, datetime.datetime(2013, 7, 22, 0, 0), 'F', '04N', 53, '', datetime.date(1, 1, 1), datetime.datetime(2013, 8, 30, 1, 1, 8, 80000)), (41636189, 'BAREBURGER', 1, '85', '2 AVENUE', 10003, 2125108610, 39, datetime.datetime(2012, 2, 10, 0, 0), 'D', '10F', 13, 'A', datetime.date(2012, 2, 10), datetime.datetime(2013, 8, 30, 1, 1, 8, 80000)), (41681181, \"CLARKE'S STANDARD\", 1, '870', 'BROADWAY', 10003, 2125299100, 39, datetime.datetime(2012, 9, 4, 0, 0), 'D', '10F', 10, 'A', datetime.date(2012, 9, 4), datetime.datetime(2013, 8, 30, 1, 1, 8, 80000)), (41681181, \"CLARKE'S STANDARD\", 1, '870', 'BROADWAY', 10003, 2125299100, 39, datetime.datetime(2013, 2, 12, 0, 0), 'P', '06A', 20, '', datetime.date(1, 1, 1), datetime.datetime(2013, 8, 30, 1, 1, 8, 80000)), (41681181, \"CLARKE'S STANDARD\", 1, '870', 'BROADWAY', 10003, 2125299100, 39, datetime.datetime(2013, 8, 26, 0, 0), 'P', '10B', 23, '', datetime.date(1, 1, 1), datetime.datetime(2013, 8, 30, 1, 1, 8, 80000)), (41681181, \"CLARKE'S STANDARD\", 1, '870', 'BROADWAY', 10003, 2125299100, 39, datetime.datetime(2012, 8, 22, 0, 0), 'P', '06D', 5, '', datetime.date(1, 1, 1), datetime.datetime(2013, 8, 30, 1, 1, 8, 80000)), (50000045, 'BURGER JOINT', 1, '33', 'WEST    8 STREET', 10011, 2124321400, 39, datetime.datetime(2013, 5, 13, 0, 0), 'P', '08A', 17, '', datetime.date(1, 1, 1), datetime.datetime(2013, 8, 30, 1, 1, 8, 80000)), (40545109, \"WENDY'S\", 1, '650', 'BROADWAY', 10012, 2126745404, 39, datetime.datetime(2010, 10, 1, 0, 0), 'P', '04N', 23, '', datetime.date(1, 1, 1), datetime.datetime(2013, 8, 30, 1, 1, 8, 80000)), (40545109, \"WENDY'S\", 1, '650', 'BROADWAY', 10012, 2126745404, 39, datetime.datetime(2010, 10, 1, 0, 0), 'P', '08A', 23, '', datetime.date(1, 1, 1), datetime.datetime(2013, 8, 30, 1, 1, 8, 80000)), (40545109, \"WENDY'S\", 1, '650', 'BROADWAY', 10012, 2126745404, 39, datetime.datetime(2013, 4, 11, 0, 0), 'P', '02G', 23, '', datetime.date(1, 1, 1), datetime.datetime(2013, 8, 30, 1, 1, 8, 80000)), (40603925, \"MCDONALD'S\", 1, '27', '3 AVENUE', 10003, 2125336693, 39, datetime.datetime(2011, 6, 6, 0, 0), 'F', '10B', 37, '', datetime.date(1, 1, 1), datetime.datetime(2013, 8, 30, 1, 1, 8, 80000)), (40603925, \"MCDONALD'S\", 1, '27', '3 AVENUE', 10003, 2125336693, 39, datetime.datetime(2012, 2, 7, 0, 0), 'D', '10I', 13, 'A', datetime.date(2012, 2, 7), datetime.datetime(2013, 8, 30, 1, 1, 8, 80000)), (40724008, \"WENDY'S\", 1, '20', 'EAST   14 STREET', 10003, 2122430438, 39, datetime.datetime(2009, 12, 31, 9, 0), 'D', '10B', 2, '', datetime.date(1, 1, 1), datetime.datetime(2013, 8, 30, 1, 1, 8, 80000)), (40724008, \"WENDY'S\", 1, '20', 'EAST   14 STREET', 10003, 2122430438, 39, datetime.datetime(2011, 12, 29, 0, 0), 'F', '04L', 28, '', datetime.date(1, 1, 1), datetime.datetime(2013, 8, 30, 1, 1, 8, 80000)), (40733411, \"MCDONALD'S\", 1, '102', '1 AVENUE', 10009, 2124779171, 39, datetime.datetime(2012, 11, 15, 0, 0), 'D', '10F', 3, '', datetime.date(1, 1, 1), datetime.datetime(2013, 8, 30, 1, 1, 8, 80000)), (40733411, \"MCDONALD'S\", 1, '102', '1 AVENUE', 10009, 2124779171, 39, datetime.datetime(2013, 5, 31, 0, 0), 'F', '06D', 35, '', datetime.date(1, 1, 1), datetime.datetime(2013, 8, 30, 1, 1, 8, 80000)), (40733412, \"MCDONALD'S\", 1, '724', 'BROADWAY', 10003, 2125299660, 39, datetime.datetime(2010, 10, 26, 0, 0), 'D', '10A', 13, 'A', datetime.date(2010, 10, 26), datetime.datetime(2013, 8, 30, 1, 1, 8, 80000)), (40733412, \"MCDONALD'S\", 1, '724', 'BROADWAY', 10003, 2125299660, 39, datetime.datetime(2012, 2, 16, 0, 0), 'P', '10F', 19, '', datetime.date(1, 1, 1), datetime.datetime(2013, 8, 30, 1, 1, 8, 80000)), (40997397, 'POP BURGER', 1, '58-60', '9 AVENUE', 10011, 2124148686, 39, datetime.datetime(2012, 2, 23, 0, 0), 'P', '10F', 23, '', datetime.date(1, 1, 1), datetime.datetime(2013, 8, 30, 1, 1, 8, 80000)), (40997397, 'POP BURGER', 1, '58-60', '9 AVENUE', 10011, 2124148686, 39, datetime.datetime(2013, 2, 19, 0, 0), 'F', '10F', 28, '', datetime.date(1, 1, 1), datetime.datetime(2013, 8, 30, 1, 1, 8, 80000)), (41138498, 'NEW YORK BURGER CO', 1, '678', '6 AVENUE', 10010, 2122291404, 39, datetime.datetime(2011, 9, 12, 0, 0), 'F', '10B', 63, '', datetime.date(1, 1, 1), datetime.datetime(2013, 8, 30, 1, 1, 8, 80000)), (41138498, 'NEW YORK BURGER CO', 1, '678', '6 AVENUE', 10010, 2122291404, 39, datetime.datetime(2012, 1, 11, 0, 0), 'D', '10F', 12, 'A', datetime.date(2012, 1, 11), datetime.datetime(2013, 8, 30, 1, 1, 8, 80000)), (41191377, \"MCDONALD'S\", 1, '136', 'WEST    3 STREET', 10012, 2126742566, 39, datetime.datetime(2010, 8, 6, 0, 0), 'C', '04H', 9, 'A', datetime.date(2010, 8, 6), datetime.datetime(2013, 8, 30, 1, 1, 8, 80000)), (41191377, \"MCDONALD'S\", 1, '136', 'WEST    3 STREET', 10012, 2126742566, 39, datetime.datetime(2011, 7, 22, 0, 0), 'D', '05D', 13, 'A', datetime.date(2011, 7, 22), datetime.datetime(2013, 8, 30, 1, 1, 8, 80000)), (41191377, \"MCDONALD'S\", 1, '136', 'WEST    3 STREET', 10012, 2126742566, 39, datetime.datetime(2012, 7, 2, 0, 0), 'D', '06C', 10, 'A', datetime.date(2012, 7, 2), datetime.datetime(2013, 8, 30, 1, 1, 8, 80000)), (41248825, 'BLUE 9 BURGER', 1, '92', '3 AVENUE', 10003, 2129790053, 39, datetime.datetime(2011, 8, 23, 0, 0), 'U', '04K', 13, 'B', datetime.date(2011, 8, 23), datetime.datetime(2013, 8, 30, 1, 1, 8, 80000)), (41248825, 'BLUE 9 BURGER', 1, '92', '3 AVENUE', 10003, 2129790053, 39, datetime.datetime(2011, 8, 23, 0, 0), 'U', '08A', 13, 'B', datetime.date(2011, 8, 23), datetime.datetime(2013, 8, 30, 1, 1, 8, 80000)), (41248825, 'BLUE 9 BURGER', 1, '92', '3 AVENUE', 10003, 2129790053, 39, datetime.datetime(2011, 12, 14, 0, 0), 'U', '02G', 16, 'B', datetime.date(2011, 12, 14), datetime.datetime(2013, 8, 30, 1, 1, 8, 80000)), (41248825, 'BLUE 9 BURGER', 1, '92', '3 AVENUE', 10003, 2129790053, 39, datetime.datetime(2012, 6, 11, 0, 0), 'U', '04K', 10, 'B', datetime.date(2012, 6, 11), datetime.datetime(2013, 8, 30, 1, 1, 8, 80000)), (41262328, \"MCDONALD'S\", 1, '39', 'UNION SQUARE WEST', 10003, 2126459079, 39, datetime.datetime(2011, 3, 31, 0, 0), 'U', '10F', 4, 'B', datetime.date(2011, 3, 31), datetime.datetime(2013, 8, 30, 1, 1, 8, 80000)), (41262328, \"MCDONALD'S\", 1, '39', 'UNION SQUARE WEST', 10003, 2126459079, 39, datetime.datetime(2011, 9, 14, 0, 0), 'D', '08C', 4, 'A', datetime.date(2011, 9, 14), datetime.datetime(2013, 8, 30, 1, 1, 8, 80000)), (41262328, \"MCDONALD'S\", 1, '39', 'UNION SQUARE WEST', 10003, 2126459079, 39, datetime.datetime(2012, 8, 31, 0, 0), 'F', '10F', 31, '', datetime.date(1, 1, 1), datetime.datetime(2013, 8, 30, 1, 1, 8, 80000)), (41262328, \"MCDONALD'S\", 1, '39', 'UNION SQUARE WEST', 10003, 2126459079, 39, datetime.datetime(2012, 9, 27, 0, 0), 'U', '02G', 14, '', datetime.date(1, 1, 1), datetime.datetime(2013, 8, 30, 1, 1, 8, 80000)), (41300864, 'PAULS DA BURGER JOINT', 1, '131', '2 AVENUE', 10003, 2125293033, 39, datetime.datetime(2011, 8, 25, 0, 0), 'G', '04L', 61, '', datetime.date(1, 1, 1), datetime.datetime(2013, 8, 30, 1, 1, 8, 80000)), (41300864, 'PAULS DA BURGER JOINT', 1, '131', '2 AVENUE', 10003, 2125293033, 39, datetime.datetime(2012, 8, 30, 0, 0), 'F', '04L', 22, '', datetime.date(1, 1, 1), datetime.datetime(2013, 8, 30, 1, 1, 8, 80000)), (41300864, 'PAULS DA BURGER JOINT', 1, '131', '2 AVENUE', 10003, 2125293033, 39, datetime.datetime(2013, 4, 18, 0, 0), 'F', '08A', 23, '', datetime.date(1, 1, 1), datetime.datetime(2013, 8, 30, 1, 1, 8, 80000)), (41305427, \"MCDONALD'S\", 1, '154', 'WEST   14 STREET', 10011, 2126913720, 39, datetime.datetime(2013, 2, 15, 0, 0), 'B', '', -1, '', datetime.date(1, 1, 1), datetime.datetime(2013, 8, 30, 1, 1, 8, 80000)), (41305431, \"MCDONALD'S\", 1, '541', '6 AVENUE', 10011, 2124638860, 39, datetime.datetime(2013, 2, 7, 0, 0), 'P', '04N', 21, '', datetime.date(1, 1, 1), datetime.datetime(2013, 8, 30, 1, 1, 8, 80000)), (41305431, \"MCDONALD'S\", 1, '541', '6 AVENUE', 10011, 2124638860, 39, datetime.datetime(2013, 2, 7, 0, 0), 'P', '08A', 21, '', datetime.date(1, 1, 1), datetime.datetime(2013, 8, 30, 1, 1, 8, 80000)), (41321176, 'FIVE GUYS BURGERS AND FRIES', 1, '496       ', 'LAGUARDIA PLACE                                   ', 10012, 2122286008, 39, datetime.datetime(2011, 5, 3, 0, 0), 'D', '10F', 3, 'A', datetime.date(2011, 5, 3), datetime.datetime(2013, 8, 30, 1, 1, 8, 80000)), (41361978, 'BLACK IRON BURGER', 1, '540', 'EAST    5 STREET', 10009, 2126776067, 39, datetime.datetime(2010, 11, 10, 0, 0), 'F', '08A', 32, '', datetime.date(1, 1, 1), datetime.datetime(2013, 8, 30, 1, 1, 8, 80000)), (41366683, 'BURGER CREATIONS', 1, '52', 'EAST 8 STREET', 10003, 2125391909, 39, datetime.datetime(2011, 3, 21, 0, 0), 'F', '02G', 44, '', datetime.date(1, 1, 1), datetime.datetime(2013, 8, 30, 1, 1, 8, 80000)), (41366683, 'BURGER CREATIONS', 1, '52', 'EAST 8 STREET', 10003, 2125391909, 39, datetime.datetime(2011, 3, 21, 0, 0), 'F', '04H', 44, '', datetime.date(1, 1, 1), datetime.datetime(2013, 8, 30, 1, 1, 8, 80000)), (41366683, 'BURGER CREATIONS', 1, '52', 'EAST 8 STREET', 10003, 2125391909, 39, datetime.datetime(2011, 4, 14, 0, 0), 'D', '06F', 8, 'A', datetime.date(2011, 4, 14), datetime.datetime(2013, 8, 30, 1, 1, 8, 80000)), (41366683, 'BURGER CREATIONS', 1, '52', 'EAST 8 STREET', 10003, 2125391909, 39, datetime.datetime(2011, 8, 16, 0, 0), 'P', '02G', 20, '', datetime.date(1, 1, 1), datetime.datetime(2013, 8, 30, 1, 1, 8, 80000)), (41366683, 'BURGER CREATIONS', 1, '52', 'EAST 8 STREET', 10003, 2125391909, 39, datetime.datetime(2011, 8, 16, 0, 0), 'P', '99B', 20, '', datetime.date(1, 1, 1), datetime.datetime(2013, 8, 30, 1, 1, 8, 80000)), (41366683, 'BURGER CREATIONS', 1, '52', 'EAST 8 STREET', 10003, 2125391909, 39, datetime.datetime(2012, 1, 19, 0, 0), 'D', '06D', 8, 'A', datetime.date(2012, 1, 19), datetime.datetime(2013, 8, 30, 1, 1, 8, 80000)), (41366683, 'BURGER CREATIONS', 1, '52', 'EAST 8 STREET', 10003, 2125391909, 39, datetime.datetime(2013, 3, 11, 0, 0), 'F', '04J', 33, '', datetime.date(1, 1, 1), datetime.datetime(2013, 8, 30, 1, 1, 8, 80000)), (41366683, 'BURGER CREATIONS', 1, '52', 'EAST 8 STREET', 10003, 2125391909, 39, datetime.datetime(2013, 8, 28, 0, 0), 'F', '06D', 30, '', datetime.date(1, 1, 1), datetime.datetime(2013, 8, 30, 1, 1, 8, 80000)), (41443633, 'LUCKYS FAMOUS BURGERS', 1, '264', 'WEST   23 STREET', 10011, 2122424900, 39, datetime.datetime(2011, 4, 18, 0, 0), 'P', '06F', 25, '', datetime.date(1, 1, 1), datetime.datetime(2013, 8, 30, 1, 1, 8, 80000)), (41443633, 'LUCKYS FAMOUS BURGERS', 1, '264', 'WEST   23 STREET', 10011, 2122424900, 39, datetime.datetime(2012, 2, 23, 0, 0), 'P', '02G', 21, '', datetime.date(1, 1, 1), datetime.datetime(2013, 8, 30, 1, 1, 8, 80000)), (41443633, 'LUCKYS FAMOUS BURGERS', 1, '264', 'WEST   23 STREET', 10011, 2122424900, 39, datetime.datetime(2012, 8, 23, 0, 0), 'D', '02G', 12, 'A', datetime.date(2012, 8, 23), datetime.datetime(2013, 8, 30, 1, 1, 8, 80000)), (41443633, 'LUCKYS FAMOUS BURGERS', 1, '264', 'WEST   23 STREET', 10011, 2122424900, 39, datetime.datetime(2013, 7, 30, 0, 0), 'P', '02G', 20, '', datetime.date(1, 1, 1), datetime.datetime(2013, 8, 30, 1, 1, 8, 80000)), (41452207, 'MARK', 1, '33', 'ST MARKS PLACE', 10003, 2126773132, 39, datetime.datetime(2013, 4, 9, 0, 0), 'F', '06D', 29, '', datetime.date(1, 1, 1), datetime.datetime(2013, 8, 30, 1, 1, 8, 80000)), (41452207, 'MARK', 1, '33', 'ST MARKS PLACE', 10003, 2126773132, 39, datetime.datetime(2013, 4, 9, 0, 0), 'F', '06E', 29, '', datetime.date(1, 1, 1), datetime.datetime(2013, 8, 30, 1, 1, 8, 80000)), (41463516, \"MCDONALD'S\", 1, '404', 'EAST 14 STREET', 10009, 2125980045, 39, datetime.datetime(2010, 11, 3, 0, 0), 'F', '05D', 31, 'C', datetime.date(2010, 11, 3), datetime.datetime(2013, 8, 30, 1, 1, 8, 80000)), (41463516, \"MCDONALD'S\", 1, '404', 'EAST 14 STREET', 10009, 2125980045, 39, datetime.datetime(2011, 4, 1, 0, 0), 'D', '10F', 3, 'A', datetime.date(2011, 4, 1), datetime.datetime(2013, 8, 30, 1, 1, 8, 80000)), (41463516, \"MCDONALD'S\", 1, '404', 'EAST 14 STREET', 10009, 2125980045, 39, datetime.datetime(2011, 7, 29, 0, 0), 'P', '08A', 14, '', datetime.date(1, 1, 1), datetime.datetime(2013, 8, 30, 1, 1, 8, 80000)), (41463516, \"MCDONALD'S\", 1, '404', 'EAST 14 STREET', 10009, 2125980045, 39, datetime.datetime(2011, 8, 12, 0, 0), 'F', '10I', 29, 'C', datetime.date(2011, 8, 12), datetime.datetime(2013, 8, 30, 1, 1, 8, 80000)), (41463516, \"MCDONALD'S\", 1, '404', 'EAST 14 STREET', 10009, 2125980045, 39, datetime.datetime(2011, 12, 8, 0, 0), 'D', '10F', 7, 'A', datetime.date(2011, 12, 8), datetime.datetime(2013, 8, 30, 1, 1, 8, 80000)), (41471148, 'TALLGRASS BURGER', 1, '214B', '1 AVENUE', 10009, 2122532990, 39, datetime.datetime(2010, 5, 18, 7, 56), 'D', '10A', 4, '', datetime.date(1, 1, 1), datetime.datetime(2013, 8, 30, 1, 1, 8, 80000)), (41471148, 'TALLGRASS BURGER', 1, '214B', '1 AVENUE', 10009, 2122532990, 39, datetime.datetime(2012, 5, 7, 0, 0), 'U', '04M', 12, 'B', datetime.date(2012, 5, 7), datetime.datetime(2013, 8, 30, 1, 1, 8, 80000)), (41504363, 'KORZO HAUS', 1, '178', 'EAST 7 STREET', 10009, 2127800181, 39, datetime.datetime(2011, 7, 11, 0, 0), 'U', '08A', 17, 'B', datetime.date(2011, 7, 11), datetime.datetime(2013, 8, 30, 1, 1, 8, 80000)), (41504363, 'KORZO HAUS', 1, '178', 'EAST 7 STREET', 10009, 2127800181, 39, datetime.datetime(2012, 1, 24, 0, 0), 'F', '05D', 34, 'C', datetime.date(2012, 1, 24), datetime.datetime(2013, 8, 30, 1, 1, 8, 80000)), (41504363, 'KORZO HAUS', 1, '178', 'EAST 7 STREET', 10009, 2127800181, 39, datetime.datetime(2012, 7, 11, 0, 0), 'F', '05F', 82, '', datetime.date(1, 1, 1), datetime.datetime(2013, 8, 30, 1, 1, 8, 80000)), (41504363, 'KORZO HAUS', 1, '178', 'EAST 7 STREET', 10009, 2127800181, 39, datetime.datetime(2012, 7, 20, 0, 0), 'F', '06C', 42, 'C', datetime.date(2012, 7, 20), datetime.datetime(2013, 8, 30, 1, 1, 8, 80000)), (41504363, 'KORZO HAUS', 1, '178', 'EAST 7 STREET', 10009, 2127800181, 39, datetime.datetime(2013, 1, 29, 0, 0), 'F', '06D', 55, '', datetime.date(1, 1, 1), datetime.datetime(2013, 8, 30, 1, 1, 8, 80000)), (41504363, 'KORZO HAUS', 1, '178', 'EAST 7 STREET', 10009, 2127800181, 39, datetime.datetime(2013, 1, 29, 0, 0), 'F', '08A', 55, '', datetime.date(1, 1, 1), datetime.datetime(2013, 8, 30, 1, 1, 8, 80000)), (41576915, \"LUCKY'S FAMOUS BURGERS\", 1, '147', 'EAST HOUSTON STREET', 10002, 2122544900, 39, datetime.datetime(2011, 10, 4, 0, 0), 'P', '02G', 27, '', datetime.date(1, 1, 1), datetime.datetime(2013, 8, 30, 1, 1, 8, 80000)), (41576915, \"LUCKY'S FAMOUS BURGERS\", 1, '147', 'EAST HOUSTON STREET', 10002, 2122544900, 39, datetime.datetime(2012, 4, 24, 0, 0), 'P', '10F', 18, '', datetime.date(1, 1, 1), datetime.datetime(2013, 8, 30, 1, 1, 8, 80000)), (41576915, \"LUCKY'S FAMOUS BURGERS\", 1, '147', 'EAST HOUSTON STREET', 10002, 2122544900, 39, datetime.datetime(2012, 5, 1, 0, 0), 'D', '02C', 13, 'A', datetime.date(2012, 5, 1), datetime.datetime(2013, 8, 30, 1, 1, 8, 80000)), (41576915, \"LUCKY'S FAMOUS BURGERS\", 1, '147', 'EAST HOUSTON STREET', 10002, 2122544900, 39, datetime.datetime(2012, 9, 18, 0, 0), 'P', '10F', 16, '', datetime.date(1, 1, 1), datetime.datetime(2013, 8, 30, 1, 1, 8, 80000)), (41606211, 'POPS', 1, '42', 'EAST    8 STREET', 10003, 2124663650, 39, datetime.datetime(2012, 5, 9, 0, 0), 'F', '06F', 17, '', datetime.date(1, 1, 1), datetime.datetime(2013, 8, 30, 1, 1, 8, 80000)), (41606211, 'POPS', 1, '42', 'EAST    8 STREET', 10003, 2124663650, 39, datetime.datetime(2013, 5, 9, 0, 0), 'F', '09A', 27, '', datetime.date(1, 1, 1), datetime.datetime(2013, 8, 30, 1, 1, 8, 80000)), (41609204, 'THE BOWERY DINER', 1, '241', 'BOWERY', 10002, 2123880052, 39, datetime.datetime(2012, 12, 6, 0, 0), 'P', '09A', 27, '', datetime.date(1, 1, 1), datetime.datetime(2013, 8, 30, 1, 1, 8, 80000)), (41636189, 'BAREBURGER', 1, '85', '2 AVENUE', 10003, 2125108610, 39, datetime.datetime(2012, 2, 10, 0, 0), 'D', '10D', 13, 'A', datetime.date(2012, 2, 10), datetime.datetime(2013, 8, 30, 1, 1, 8, 80000)), (50000045, 'BURGER JOINT', 1, '33', 'WEST    8 STREET', 10011, 2124321400, 39, datetime.datetime(2013, 5, 13, 0, 0), 'P', '04L', 17, '', datetime.date(1, 1, 1), datetime.datetime(2013, 8, 30, 1, 1, 8, 80000))]\n"
       ]
      }
     ],
     "prompt_number": 109
    },
    {
     "cell_type": "code",
     "collapsed": false,
     "input": [
      "#ok, now that we have all the restaurants near NYU, let's get their scores\n",
      "nyu_scores = []\n",
      "for restaurant in nyu_restaurants:\n",
      "    nyu_scores.append(restaurant[11])"
     ],
     "language": "python",
     "metadata": {},
     "outputs": [],
     "prompt_number": 110
    },
    {
     "cell_type": "code",
     "collapsed": false,
     "input": [
      "min(nyu_scores)"
     ],
     "language": "python",
     "metadata": {},
     "outputs": [
      {
       "metadata": {},
       "output_type": "pyout",
       "prompt_number": 111,
       "text": [
        "-1"
       ]
      }
     ],
     "prompt_number": 111
    },
    {
     "cell_type": "code",
     "collapsed": false,
     "input": [
      "max(nyu_scores)"
     ],
     "language": "python",
     "metadata": {},
     "outputs": [
      {
       "metadata": {},
       "output_type": "pyout",
       "prompt_number": 112,
       "text": [
        "82"
       ]
      }
     ],
     "prompt_number": 112
    },
    {
     "cell_type": "code",
     "collapsed": false,
     "input": [
      "#ouch, let's see which one is the 82 aka worst burger place near NYU\n",
      "for record in nyu_restaurants:\n",
      "    if record[11] == 82:\n",
      "        print record\n",
      "        break"
     ],
     "language": "python",
     "metadata": {},
     "outputs": [
      {
       "output_type": "stream",
       "stream": "stdout",
       "text": [
        "(41504363, 'KORZO HAUS', 1, '178', 'EAST 7 STREET', 10009, 2127800181, 39, datetime.datetime(2012, 7, 11, 0, 0), 'F', '02A', 82, '', datetime.date(1, 1, 1), datetime.datetime(2013, 8, 30, 1, 1, 8, 80000))\n"
       ]
      }
     ],
     "prompt_number": 113
    },
    {
     "cell_type": "markdown",
     "metadata": {},
     "source": [
      "It appears to be KORZO HAUS, which actually has a pretty good Yelp rating: http://www.yelp.com/biz/korzo-haus-new-york"
     ]
    },
    {
     "cell_type": "code",
     "collapsed": false,
     "input": [
      "#now, let's see the median of the scores\n",
      "numpy.median(nyu_scores)"
     ],
     "language": "python",
     "metadata": {},
     "outputs": [
      {
       "metadata": {},
       "output_type": "pyout",
       "prompt_number": 114,
       "text": [
        "19.0"
       ]
      }
     ],
     "prompt_number": 114
    },
    {
     "cell_type": "code",
     "collapsed": false,
     "input": [
      "numpy.mean(nyu_scores)"
     ],
     "language": "python",
     "metadata": {},
     "outputs": [
      {
       "metadata": {},
       "output_type": "pyout",
       "prompt_number": 115,
       "text": [
        "21.625172890733058"
       ]
      }
     ],
     "prompt_number": 115
    },
    {
     "cell_type": "code",
     "collapsed": false,
     "input": [
      "#interesting, the NYU area tends to do worst than the broader New York area... good to know :/\n",
      "#let's plot the nyu_scores in a histogram, and then compare that to the broader New York scores\n",
      "\n",
      "n, bins, patches = pyplot.hist(nyu_scores)"
     ],
     "language": "python",
     "metadata": {},
     "outputs": [
      {
       "metadata": {},
       "output_type": "display_data",
       "png": "[encoded data removed]",
       "text": [
        "<matplotlib.figure.Figure at 0x10fcaa610>"
       ]
      }
     ],
     "prompt_number": 116
    },
    {
     "cell_type": "code",
     "collapsed": false,
     "input": [
      "#now to compare it to the overall scores\n",
      "\n",
      "n, bins, patches = pyplot.hist(scores)"
     ],
     "language": "python",
     "metadata": {},
     "outputs": [
      {
       "metadata": {},
       "output_type": "display_data",
       "png": "[encoded data removed]",
       "text": [
        "<matplotlib.figure.Figure at 0x107506390>"
       ]
      }
     ],
     "prompt_number": 117
    },
    {
     "cell_type": "markdown",
     "metadata": {},
     "source": [
      "now I want to find how different food groups as categories and compare them to eachother\n",
      "to do this, I will make an array for each category\n",
      "\n",
      "here is the key:\n",
      "\n",
      "\"CUISINECODE\",\"CODEDESC\"\n",
      "\"02\",\"African\"\n",
      "\"03\",\"American \"\n",
      "\"05\",\"Asian\"\n",
      "\"15\",\"Cajun\"\n",
      "\"17\",\"Caribbean\"\n",
      "\"20\",\"Chinese\"\n",
      "\"30\",\"Eastern European\"\n",
      "\"31\",\"Egyptian\"\n",
      "\"35\",\"French\"\n",
      "\"37\",\"German\"\n",
      "\"38\",\"Greek\"\n",
      "\"44\",\"Indian\"\n",
      "\"45\",\"Indonesian\"\n",
      "\"48\",\"Italian\"\n",
      "\"49\",\"Japanese\"\n",
      "\"50\",\"Jewish/Kosher\"\n",
      "\"52\",\"Korean\"\n",
      "\"53\",\"Latin (Cuban, Dominican, Puerto Rican, South & Central American)\"\n",
      "\"54\",\"Mediterranean\"\n",
      "\"55\",\"Mexican\"\n",
      "\"56\",\"Middle Eastern\"\n",
      "\"67\",\"Russian\"\n",
      "\"76\",\"Southwestern\"\n",
      "\"82\",\"Thai\"\n",
      "\"99\",\"Other\"\n",
      "\"01\",\"Afghan\"\n",
      "\"04\",\"Armenian\"\n",
      "\"06\",\"Australian\"\n",
      "\"07\",\"Bagels/Pretzels\"\n",
      "\"08\",\"Bakery\"\n",
      "\"09\",\"Bangladeshi\"\n",
      "\"10\",\"Barbecue\"\n",
      "\"11\",\"Basque\"\n",
      "\"12\",\"Bottled beverages, including water, sodas, juices, etc.\"\n",
      "\"13\",\"Brazilian\"\n",
      "\"14\",\"Caf\u00e9/Coffee/Tea\"\n",
      "\"16\",\"Californian\"\n",
      "\"18\",\"Chicken\"\n",
      "\"19\",\"Chilean\"\n",
      "\"21\",\"Chinese/Cuban\"\n",
      "\"22\",\"Chinese/Japanese\"\n",
      "\"23\",\"Continental\"\n",
      "\"24\",\"Creole\"\n",
      "\"25\",\"Creole/Cajun\"\n",
      "\"26\",\"Czech\"\n",
      "\"27\",\"Delicatessen\"\n",
      "\"28\",\"Vietnamese/Cambodian/Malaysia\"\n",
      "\"29\",\"Donuts\"\n",
      "\"32\",\"English\"\n",
      "\"33\",\"Ethiopian\"\n",
      "\"34\",\"Filipino\"\n",
      "\"36\",\"Fruits/Vegetables\"\n",
      "\"39\",\"Hamburgers\"\n",
      "\"40\",\"Hawaiian\"\n",
      "\"41\",\"Hotdogs\"\n",
      "\"42\",\"Hotdogs/Pretzels\"\n",
      "\"43\",\"Ice Cream, Gelato, Yogurt, Ices\"\n",
      "\"46\",\"Iranian\"\n",
      "\"47\",\"Irish\"\n",
      "\"51\",\"Juice, Smoothies, Fruit Salads\"\n",
      "\"57\",\"Moroccan\"\n",
      "\"58\",\"Nuts/Confectionary\"\n",
      "\"59\",\"Pakistani\"\n",
      "\"60\",\"Pancakes/Waffles\"\n",
      "\"61\",\"Peruvian\"\n",
      "\"62\",\"Pizza\"\n",
      "\"63\",\"Pizza/Italian\"\n",
      "\"64\",\"Polish\"\n",
      "\"65\",\"Polynesian\"\n",
      "\"66\",\"Portuguese\"\n",
      "\"68\",\"Salads\"\n",
      "\"69\",\"Sandwiches\"\n",
      "\"70\",\"Sandwiches/Salads/Mixed Buffet\"\n",
      "\"71\",\"Scandinavian\"\n",
      "\"72\",\"Seafood\"\n",
      "\"73\",\"Soul Food\"\n",
      "\"74\",\"Soups\"\n",
      "\"75\",\"Soups & Sandwiches\"\n",
      "\"77\",\"Spanish\"\n",
      "\"78\",\"Steak\"\n",
      "\"80\",\"Tapas\"\n",
      "\"81\",\"Tex-Mex\"\n",
      "\"83\",\"Turkish\"\n",
      "\"84\",\"Vegetarian\"\n",
      "\"00\",\"Not Listed/Not Applicable\"\n"
     ]
    },
    {
     "cell_type": "code",
     "collapsed": false,
     "input": [
      "#first, need to load in the entire dataset (not just hamburgers)\n",
      "all_restaurant_data = mlab.csv2rec(\"data/WebExtract.txt\")"
     ],
     "language": "python",
     "metadata": {},
     "outputs": [],
     "prompt_number": 118
    },
    {
     "cell_type": "code",
     "collapsed": false,
     "input": [
      "#going to create an array for each food, so that I can start seeing which ones are the best and which ones are the worst\n",
      "\n",
      "african = []\n",
      "american = []\n",
      "asian = []\n",
      "cajun = []\n",
      "caribbean = []\n",
      "chinese = []\n",
      "easternEuropean = []\n",
      "egyptian = []\n",
      "french = []\n",
      "german = []\n",
      "greek = []\n",
      "indian = []\n",
      "indonesian = []\n",
      "italian = []\n",
      "japanese = []\n",
      "jewish = []\n",
      "korean = []\n",
      "latin = []\n",
      "mediterranean = []\n",
      "mexican = []\n",
      "middleEastern = []\n",
      "russian = []\n",
      "southwestern = []\n",
      "thai = []\n",
      "other = []\n",
      "afghan = []\n",
      "armenian = []\n",
      "australian = []\n",
      "bakery = []\n",
      "bangladeshi = []\n",
      "barbecue = []\n",
      "basque = []\n",
      "bottledBeverages = []\n",
      "brazilian = []\n",
      "coffee = []\n",
      "californian = []\n",
      "chicken = []\n",
      "chilean = []\n",
      "chineseCuban = []\n",
      "chineseJapanese = []\n",
      "continental = []\n",
      "creole = []\n",
      "creoleCajun = []\n",
      "czech = []\n",
      "delicatessen = []\n",
      "vietCamMal = []\n",
      "donuts = []\n",
      "english = []\n",
      "ethiopian = []\n",
      "filipino = []\n",
      "fruitsVeg = []\n",
      "hamburgers = []\n",
      "hawaiian = []\n",
      "hotdogs = []\n",
      "hotdogsPretzels = []\n",
      "iceCream = []\n",
      "iranian = []\n",
      "irish = []\n",
      "juice = []\n",
      "moroccan = []\n",
      "nutsConfectionary = []\n",
      "pakistani = []\n",
      "pancakesWaffles = []\n",
      "peruvian = []\n",
      "pizza = []\n",
      "pizzaItalian = []\n",
      "polish = []\n",
      "polynesian = []\n",
      "portuguese = []\n",
      "salads = []\n",
      "sandwiches = []\n",
      "sandwichesSalads = []\n",
      "scandinavian = []\n",
      "seafood = []\n",
      "soulFood = []\n",
      "soups = []\n",
      "soupsSandwiches = []\n",
      "spanish = []\n",
      "steak = []\n",
      "tapas = []\n",
      "texMex = []\n",
      "turkish = []\n",
      "vegetarian = []\n",
      "notListed = []\n",
      "\n",
      "for restaurant in all_restaurant_data:    \n",
      "    if restaurant[7] == 02:\n",
      "        african.append(restaurant)\n",
      "    elif restaurant[7] == 03:\n",
      "        american.append(restaurant)\n",
      "    elif restaurant[7] == 05:\n",
      "        asian.append(restaurant)\n",
      "    elif restaurant[7] == 15:\n",
      "        cajun.append(restaurant)\n",
      "    elif restaurant[7] == 17:\n",
      "        caribbean.append(restaurant)\n",
      "    elif restaurant[7] == 20:\n",
      "        chinese.append(restaurant)\n",
      "    elif restaurant[7] == 30:\n",
      "        easternEuropean.append(restaurant)\n",
      "    elif restaurant[7] == 31:\n",
      "        egyptian.append(restaurant)\n",
      "    elif restaurant[7] == 35:\n",
      "        french.append(restaurant)\n",
      "    elif restaurant[7] == 37:\n",
      "        german.append(restaurant)\n",
      "    elif restaurant[7] == 38:\n",
      "        greek.append(restaurant)\n",
      "    elif restaurant[7] == 44:\n",
      "        indian.append(restaurant)\n",
      "    elif restaurant[7] == 45:\n",
      "        indonesian.append(restaurant)\n",
      "    elif restaurant[7] == 48:\n",
      "        italian.append(restaurant)\n",
      "    elif restaurant[7] == 49:\n",
      "        japanese.append(restaurant)\n",
      "    elif restaurant[7] == 50:\n",
      "        jewish.append(restaurant)\n",
      "    elif restaurant[7] == 52:\n",
      "        korean.append(restaurant)\n",
      "    elif restaurant[7] == 53:\n",
      "        latin.append(restaurant)\n",
      "    elif restaurant[7] == 54:\n",
      "        mediterranean.append(restaurant)\n",
      "    elif restaurant[7] == 55:\n",
      "        mexican.append(restaurant)\n",
      "    elif restaurant[7] == 56:\n",
      "        middleEastern.append(restaurant)\n",
      "    elif restaurant[7] == 67:\n",
      "        russian.append(restaurant)\n",
      "    elif restaurant[7] == 76:\n",
      "        southwestern.append(restaurant)\n",
      "    elif restaurant[7] == 82:\n",
      "        thai.append(restaurant)\n",
      "    elif restaurant[7] == 99:\n",
      "        other.append(restaurant)\n",
      "    elif restaurant[7] == 01:\n",
      "        afghan.append(restaurant)\n",
      "    elif restaurant[7] == 04:\n",
      "        armenian.append(restaurant)\n",
      "    elif restaurant[7] == 06:\n",
      "        australian.append(restaurant)\n",
      "    elif restaurant[7] == 08:\n",
      "        bakery.append(restaurant)\n",
      "    elif restaurant[7] == 09:\n",
      "        bangladeshi.append(restaurant)\n",
      "    elif restaurant[7] == 10:\n",
      "        barbecue.append(restaurant)\n",
      "    elif restaurant[7] == 11:\n",
      "        basque.append(restaurant)\n",
      "    elif restaurant[7] == 12:\n",
      "        bottledBeverages.append(restaurant)\n",
      "    elif restaurant[7] == 13:\n",
      "        brazilian.append(restaurant)\n",
      "    elif restaurant[7] == 14:\n",
      "        coffee.append(restaurant)\n",
      "    elif restaurant[7] == 16:\n",
      "        californian.append(restaurant)\n",
      "    elif restaurant[7] == 18:\n",
      "        chicken.append(restaurant)\n",
      "    elif restaurant[7] == 19:\n",
      "        chilean.append(restaurant)\n",
      "    elif restaurant[7] == 21:\n",
      "        chineseCuban.append(restaurant)\n",
      "    elif restaurant[7] == 22:\n",
      "        chineseJapanese.append(restaurant)\n",
      "    elif restaurant[7] == 23:\n",
      "        continental.append(restaurant)\n",
      "    elif restaurant[7] == 24:\n",
      "        creole.append(restaurant)\n",
      "    elif restaurant[7] == 25:\n",
      "        creoleCajun.append(restaurant)\n",
      "    elif restaurant[7] == 26:\n",
      "        czech.append(restaurant)\n",
      "    elif restaurant[7] == 27:\n",
      "        delicatessen.append(restaurant)\n",
      "    elif restaurant[7] == 28:\n",
      "        vietCamMal.append(restaurant)\n",
      "    elif restaurant[7] == 29:\n",
      "        donuts.append(restaurant)\n",
      "    elif restaurant[7] == 32:\n",
      "        english.append(restaurant)\n",
      "    elif restaurant[7] == 33:\n",
      "        ethiopian.append(restaurant)\n",
      "    elif restaurant[7] == 34:\n",
      "        filipino.append(restaurant)\n",
      "    elif restaurant[7] == 36:\n",
      "        fruitsVeg.append(restaurant)\n",
      "    elif restaurant[7] == 39:\n",
      "        hamburgers.append(restaurant)\n",
      "    elif restaurant[7] == 40:\n",
      "        hawaiian.append(restaurant)\n",
      "    elif restaurant[7] == 41:\n",
      "        hotdogs.append(restaurant)\n",
      "    elif restaurant[7] == 42:\n",
      "        hotdogsPretzels.append(restaurant)\n",
      "    elif restaurant[7] == 43:\n",
      "        iceCream.append(restaurant)\n",
      "    elif restaurant[7] == 46:\n",
      "        iranian.append(restaurant)\n",
      "    elif restaurant[7] == 46:\n",
      "        irish.append(restaurant)\n",
      "    elif restaurant[7] == 51:\n",
      "        juice.append(restaurant)\n",
      "    elif restaurant[7] == 57:\n",
      "        moroccan.append(restaurant)\n",
      "    elif restaurant[7] == 58:\n",
      "        nutsConfectionary.append(restaurant)\n",
      "    elif restaurant[7] == 59:\n",
      "        pakistani.append(restaurant)\n",
      "    elif restaurant[7] == 60:\n",
      "        pancakesWaffles.append(restaurant)\n",
      "    elif restaurant[7] == 61:\n",
      "        peruvian.append(restaurant)\n",
      "    elif restaurant[7] == 62:\n",
      "        pizza.append(restaurant)\n",
      "    elif restaurant[7] == 63:\n",
      "        pizzaItalian.append(restaurant)\n",
      "    elif restaurant[7] == 64:\n",
      "        polish.append(restaurant)\n",
      "    elif restaurant[7] == 65:\n",
      "        polynesian.append(restaurant)\n",
      "    elif restaurant[7] == 66:\n",
      "        portuguese.append(restaurant)\n",
      "    elif restaurant[7] == 68:\n",
      "        salads.append(restaurant)\n",
      "    elif restaurant[7] == 69:\n",
      "        sandwiches.append(restaurant)\n",
      "    elif restaurant[7] == 70:\n",
      "        sandwichesSalads.append(restaurant)\n",
      "    elif restaurant[7] == 71:\n",
      "        scandinavian.append(restaurant)\n",
      "    elif restaurant[7] == 72:\n",
      "        seafood.append(restaurant)\n",
      "    elif restaurant[7] == 73:\n",
      "        soulFood.append(restaurant)\n",
      "    elif restaurant[7] == 74:\n",
      "        soups.append(restaurant)\n",
      "    elif restaurant[7] == 75:\n",
      "        soupsSandwiches.append(restaurant)\n",
      "    elif restaurant[7] == 77:\n",
      "        spanish.append(restaurant)\n",
      "    elif restaurant[7] == 78:\n",
      "        steak.append(restaurant)\n",
      "    elif restaurant[7] == 80:\n",
      "        tapas.append(restaurant)\n",
      "    elif restaurant[7] == 81:\n",
      "        texMex.append(restaurant)\n",
      "    elif restaurant[7] == 83:\n",
      "        turkish.append(restaurant)\n",
      "    elif restaurant[7] == 84:\n",
      "        vegetarian.append(restaurant)\n",
      "    elif restaurant[7] == 00:\n",
      "        notListed.append(restaurant)\n",
      "\n"
     ],
     "language": "python",
     "metadata": {},
     "outputs": [
      {
       "ename": "SyntaxError",
       "evalue": "invalid token (<ipython-input-167-4d7af16a6984>, line 145)",
       "output_type": "pyerr",
       "traceback": [
        "\u001b[0;36m  File \u001b[0;32m\"<ipython-input-167-4d7af16a6984>\"\u001b[0;36m, line \u001b[0;32m145\u001b[0m\n\u001b[0;31m    elif restaurant[7] == 08:\u001b[0m\n\u001b[0m                           ^\u001b[0m\n\u001b[0;31mSyntaxError\u001b[0m\u001b[0;31m:\u001b[0m invalid token\n"
       ]
      }
     ],
     "prompt_number": 167
    },
    {
     "cell_type": "code",
     "collapsed": false,
     "input": [
      "####################################\n",
      "# now let's pull out scores for each category, so we can actually compare\n",
      "\n",
      "african_scores = []\n",
      "for restaurant in african:\n",
      "    african_scores.append(restaurant[11])\n",
      "    break\n",
      "\n",
      "american_scores = []\n",
      "for restaurant in american:\n",
      "    american_scores.append(restaurant[11])\n",
      "    break   \n",
      "\n",
      "asian_scores = []\n",
      "for restaurant in asian:\n",
      "    asian_scores.append(restaurant[11])\n",
      "\n",
      "cajun_scores = []\n",
      "for restaurant in cajun:\n",
      "    cajun_scores.append(restaurant[11])\n",
      "\n",
      "caribbean_scores = []\n",
      "for restaurant in caribbean:\n",
      "    caribbean_scores.append(restaurant[11])\n",
      "\n",
      "chinese_scores = []\n",
      "for restaurant in chinese:\n",
      "    chinese_scores.append(restaurant[11])\n",
      "\n",
      "easternEuropean_scores = []\n",
      "for restaurant in easternEuropean:\n",
      "    easternEuropean_scores.append(restaurant[11])\n",
      "\n",
      "egyptian_scores = []\n",
      "for restaurant in egyptian:\n",
      "    egyptian_scores.append(restaurant[11])\n",
      "\n",
      "french_scores = []\n",
      "for restaurant in french:\n",
      "    french_scores.append(restaurant[11])\n",
      "\n",
      "german_scores = []\n",
      "for restaurant in german:\n",
      "    german_scores.append(restaurant[11])\n",
      "\n",
      "greek_scores = []\n",
      "for restaurant in greek:\n",
      "    greek_scores.append(restaurant[11])\n",
      "\n",
      "indian_scores = []\n",
      "for restaurant in indian:\n",
      "    indian_scores.append(restaurant[11])\n",
      "\n",
      "indonesian_scores = []\n",
      "for restaurant in indonesian:\n",
      "    indonesian_scores.append(restaurant[11])\n",
      "\n",
      "italian_scores = []\n",
      "for restaurant in italian:\n",
      "    italian_scores.append(restaurant[11])\n",
      "\n",
      "japanese_scores = []\n",
      "for restaurant in japanese:\n",
      "    japanese_scores.append(restaurant[11])\n",
      "\n",
      "jewish_scores = []\n",
      "for restaurant in jewish:\n",
      "    jewish_scores.append(restaurant[11])\n",
      "\n",
      "korean_scores = []\n",
      "for restaurant in korean:\n",
      "    korean_scores.append(restaurant[11])\n",
      "\n",
      "latin_scores = []\n",
      "for restaurant in latin:\n",
      "    latin_scores.append(restaurant[11])\n",
      "\n",
      "mediterranean_scores = []\n",
      "for restaurant in mediterranean:\n",
      "    mediterranean_scores.append(restaurant[11])\n",
      "\n",
      "mexican_scores = []\n",
      "for restaurant in mexican:\n",
      "    mexican_scores.append(restaurant[11])\n",
      "\n",
      "middleEastern_scores = []\n",
      "for restaurant in middleEastern:\n",
      "    middleEastern_scores.append(restaurant[11])\n",
      "\n",
      "russian_scores = []\n",
      "for restaurant in russian:\n",
      "    russian_scores.append(restaurant[11])\n",
      "\n",
      "southwestern_scores = []\n",
      "for restaurant in southwestern:\n",
      "    southwestern_scores.append(restaurant[11])\n",
      "\n",
      "thai_scores = []\n",
      "for restaurant in thai:\n",
      "    thai_scores.append(restaurant[11])\n",
      "\n",
      "other_scores = []\n",
      "for restaurant in other:\n",
      "    other_scores.append(restaurant[11])\n",
      "\n",
      "afghan_scores = []\n",
      "for restaurant in afghan:\n",
      "    afghan_scores.append(restaurant[11])\n",
      "\n",
      "armenian_scores = []\n",
      "for restaurant in armenian:\n",
      "    armenian_scores.append(restaurant[11])\n",
      "\n",
      "australian_scores = []\n",
      "for restaurant in australian:\n",
      "    australian_scores.append(restaurant[11])\n",
      "\n",
      "bakery_scores = []\n",
      "for restaurant in bakery:\n",
      "    bakery_scores.append(restaurant[11])\n",
      "\n",
      "bangladeshi_scores = []\n",
      "for restaurant in bangladeshi:\n",
      "    bangladeshi_scores.append(restaurant[11])\n",
      "\n",
      "barbecue_scores = []\n",
      "for restaurant in barbecue:\n",
      "    barbecue_scores.append(restaurant[11])\n",
      "\n",
      "basque_scores = []\n",
      "for restaurant in basque:\n",
      "    basque_scores.append(restaurant[11])\n",
      "\n",
      "bottledBeverages_scores = []\n",
      "for restaurant in bottledBeverages:\n",
      "    bottledBeverages_scores.append(restaurant[11])\n",
      "\n",
      "brazilian_scores = []\n",
      "for restaurant in brazilian:\n",
      "    brazilian_scores.append(restaurant[11])\n",
      "\n",
      "coffee_scores = []\n",
      "for restaurant in coffee:\n",
      "    coffee_scores.append(restaurant[11])\n",
      "\n",
      "californian_scores = []\n",
      "for restaurant in californian:\n",
      "    californian_scores.append(restaurant[11])\n",
      "\n",
      "chicken_scores = []\n",
      "for restaurant in chicken:\n",
      "    chicken_scores.append(restaurant[11])\n",
      "\n",
      "chilean_scores = []\n",
      "for restaurant in chilean:\n",
      "    chilean_scores.append(restaurant[11])\n",
      "\n",
      "chineseCuban_scores = []\n",
      "for restaurant in chineseCuban:\n",
      "    chineseCuban_scores.append(restaurant[11])\n",
      "\n",
      "chineseJapanese_scores = []\n",
      "for restaurant in chineseJapanese:\n",
      "    chineseJapanese_scores.append(restaurant[11])\n",
      "\n",
      "continental_scores = []\n",
      "for restaurant in continental:\n",
      "    continental_scores.append(restaurant[11])\n",
      "\n",
      "creole_scores = []\n",
      "for restaurant in creole:\n",
      "    creole_scores.append(restaurant[11])\n",
      "\n",
      "creoleCajun_scores = []\n",
      "for restaurant in creoleCajun:\n",
      "    creoleCajun_scores.append(restaurant[11])\n",
      "\n",
      "czech_scores = []\n",
      "for restaurant in czech:\n",
      "    czech_scores.append(restaurant[11])\n",
      "\n",
      "delicatessen_scores = []\n",
      "for restaurant in delicatessen:\n",
      "    delicatessen_scores.append(restaurant[11])\n",
      "\n",
      "vietCamMal_scores = []\n",
      "for restaurant in vietCamMal:\n",
      "    vietCamMal_scores.append(restaurant[11])\n",
      "\n",
      "donuts_scores = []\n",
      "for restaurant in donuts:\n",
      "    donuts_scores.append(restaurant[11])\n",
      "\n",
      "english_scores = []\n",
      "for restaurant in english:\n",
      "    english_scores.append(restaurant[11])\n",
      "\n",
      "ethiopian_scores = []\n",
      "for restaurant in ethiopian:\n",
      "    ethiopian_scores.append(restaurant[11])\n",
      "\n",
      "filipino_scores = []\n",
      "for restaurant in filipino:\n",
      "    filipino_scores.append(restaurant[11])\n",
      "\n",
      "fruitsVeg_scores = []\n",
      "for restaurant in fruitsVeg:\n",
      "    fruitsVeg_scores.append(restaurant[11])\n",
      "\n",
      "hamburgers_scores = []\n",
      "for restaurant in hamburgers:\n",
      "    hamburgers_scores.append(restaurant[11])\n",
      "\n",
      "hawaiian_scores = []\n",
      "for restaurant in hawaiian:\n",
      "    hawaiian_scores.append(restaurant[11])\n",
      "\n",
      "hotdogs_scores = []\n",
      "for restaurant in hotdogs:\n",
      "    hotdogs_scores.append(restaurant[11])\n",
      "\n",
      "hotdogsPretzels_scores = []\n",
      "for restaurant in hotdogsPretzels:\n",
      "    hotdogsPretzels_scores.append(restaurant[11])\n",
      "\n",
      "iceCream_scores = []\n",
      "for restaurant in iceCream:\n",
      "    iceCream_scores.append(restaurant[11])\n",
      "\n",
      "iranian_scores = []\n",
      "for restaurant in iranian:\n",
      "    iranian_scores.append(restaurant[11])\n",
      "\n",
      "irish_scores = []\n",
      "for restaurant in irish:\n",
      "    irish_scores.append(restaurant[11])\n",
      "\n",
      "juice_scores = []\n",
      "for restaurant in juice:\n",
      "    juice_scores.append(restaurant[11])\n",
      "\n",
      "moroccan_scores = []\n",
      "for restaurant in moroccan:\n",
      "    moroccan_scores.append(restaurant[11])\n",
      "\n",
      "nutsConfectionary_scores = []\n",
      "for restaurant in nutsConfectionary:\n",
      "    nutsConfectionary_scores.append(restaurant[11])\n",
      "\n",
      "pakistani_scores = []\n",
      "for restaurant in pakistani:\n",
      "    pakistani_scores.append(restaurant[11])\n",
      "\n",
      "pancakesWaffles_scores = []\n",
      "for restaurant in pancakesWaffles:\n",
      "    pancakesWaffles_scores.append(restaurant[11])\n",
      "\n",
      "peruvian_scores = []\n",
      "for restaurant in peruvian:\n",
      "    peruvian_scores.append(restaurant[11])\n",
      "\n",
      "pizza_scores = []\n",
      "for restaurant in pizza:\n",
      "    pizza_scores.append(restaurant[11])\n",
      "\n",
      "pizzaItalian_scores = []\n",
      "for restaurant in pizzaItalian:\n",
      "    pizzaItalian_scores.append(restaurant[11])\n",
      "\n",
      "polish_scores = []\n",
      "for restaurant in polish:\n",
      "    polish_scores.append(restaurant[11])\n",
      "\n",
      "polynesian_scores = []\n",
      "for restaurant in polynesian:\n",
      "    polynesian_scores.append(restaurant[11])\n",
      "\n",
      "portuguese_scores = []\n",
      "for restaurant in portuguese:\n",
      "    portuguese_scores.append(restaurant[11])\n",
      "\n",
      "salads_scores = []\n",
      "for restaurant in salads:\n",
      "    salads_scores.append(restaurant[11])\n",
      "\n",
      "sandwiches_scores = []\n",
      "for restaurant in sandwiches:\n",
      "    sandwiches_scores.append(restaurant[11])\n",
      "\n",
      "sandwichesSalads_scores = []\n",
      "for restaurant in sandwichesSalads:\n",
      "    sandwichesSalads_scores.append(restaurant[11])\n",
      "\n",
      "scandinavian_scores = []\n",
      "for restaurant in scandinavian:\n",
      "    scandinavian_scores.append(restaurant[11])\n",
      "\n",
      "seafood_scores = []\n",
      "for restaurant in seafood:\n",
      "    seafood_scores.append(restaurant[11])\n",
      "\n",
      "soulFood_scores = []\n",
      "for restaurant in soulFood:\n",
      "    soulFood_scores.append(restaurant[11])\n",
      "\n",
      "soups_scores = []\n",
      "for restaurant in soups:\n",
      "    soups_scores.append(restaurant[11])\n",
      "\n",
      "soupsSandwiches_scores = []\n",
      "for restaurant in soupsSandwiches:\n",
      "    soupsSandwiches_scores.append(restaurant[11])\n",
      "\n",
      "spanish_scores = []\n",
      "for restaurant in spanish:\n",
      "    spanish_scores.append(restaurant[11])\n",
      "\n",
      "steak_scores = []\n",
      "for restaurant in steak:\n",
      "    steak_scores.append(restaurant[11])\n",
      "\n",
      "tapas_scores = []\n",
      "for restaurant in tapas:\n",
      "    tapas_scores.append(restaurant[11])\n",
      "\n",
      "texMex_scores = []\n",
      "for restaurant in texMex:\n",
      "    texMex_scores.append(restaurant[11])\n",
      "\n",
      "turkish_scores = []\n",
      "for restaurant in turkish:\n",
      "    turkish_scores.append(restaurant[11])\n",
      "\n",
      "vegetarian_scores = []\n",
      "for restaurant in vegetarian:\n",
      "    vegetarian_scores.append(restaurant[11])\n",
      "\n",
      "notListed_scores = []\n",
      "for restaurant in notListed:\n",
      "    notListed_scores.append(restaurant[11])\n"
     ],
     "language": "python",
     "metadata": {},
     "outputs": [],
     "prompt_number": 127
    },
    {
     "cell_type": "code",
     "collapsed": false,
     "input": [
      "#test to see how the vegetarian_scores array looks\n",
      "print vegetarian_scores"
     ],
     "language": "python",
     "metadata": {},
     "outputs": [
      {
       "output_type": "stream",
       "stream": "stdout",
       "text": [
        "[13, 9, 9, 35, 35, 35, 4, 14, 10, 11, 27, 27, 22, 8, 8, 11, 11, 22, 11, 19, 19, 19, 12, 12, 7, 11, 11, 11, 7, 7, 11, 12, 11, 10, 10, 13, 7, 13, 13, 13, 13, 12, 12, 13, 4, 13, 2, 23, 23, 23, 23, 13, 9, 13, 13, 9, 10, 23, 10, 9, 13, 9, 34, 34, 9, 34, 9, 6, 6, 12, 34, 34, 12, 12, 10, 10, 10, 7, 6, 19, 11, 13, 10, 4, 9, 7, 25, 25, 12, 13, 25, 2, 12, 19, 19, 19, 6, 11, 9, 13, 13, 4, 9, 9, 6, 13, 25, 13, 24, 24, 35, 35, 35, 6, 6, 10, 11, 4, 7, 7, 8, 8, 2, 2, 7, 24, 24, 24, 11, 14, 14, 14, 35, 12, 12, 35, 35, 12, 10, 11, 15, 8, 10, 11, 11, 11, 5, 2, 12, 12, 8, 12, 12, 12, 27, 8, 15, 22, 22, 9, 15, 15, 9, 9, 22, 12, 10, 10, 13, 21, 21, 13, 8, 8, 12, 13, 25, 11, 15, 15, 12, 11, 11, 25, 22, 11, 11, 11, 12, 12, 22, 12, 12, 27, 12, 12, 15, 12, 12, 10, 21, 8, 13, 21, 15, 25, 11, 11, 9, 9, 22, 12, 11, 12, 12, 11, 11, 12, 12, 13, 13, 7, 13, 13, 9, 12, 11, 13, 35, 17, 9, 7, 7, 20, 30, 32, 11, 24, 10, 20, 20, 18, 24, 25, 21, 15, 26, 22, 16, 7, 9, 19, 42, 6, 25, 21, 21, 20, 20, 55, 41, 22, -1, 71, 71, 8, 9, 36, 36, 26, 26, 43, 43, 12, 45, 28, 28, 12, 19, 41, 35, 18, 20, 17, 17, 4, 7, 22, 23, 24, 24, 24, 19, 14, 46, 36, 12, 38, 38, 38, 12, 24, 12, 76, 35, 35, 7, 40, 12, 14, 2, 26, 3, 12, 5, 17, 15, -1, 6, 2, 26, 17, 36, 9, 2, 4, 31, 18, 19, 20, 20, 20, 16, 27, 17, 25, 0, -1, 32, -1, -1, 10, 12, 12, 16, 10, 12, 12, 16, 16, 17, 16, 17, 17, 17, 17, 13, 13, 12, 21, 21, 13, 12, 21, 24, 37, 11, 23, 11, 24, 37, 23, 24, 37, 18, 16, 16, 23, 18, 12, 31, 31, 30, 30, 11, 6, 37, 22, 22, 16, 23, 31, 37, 22, 23, 11, 18, 13, 13, 24, 16, 11, 13, 6, 6, 30, 30, 30, 30, 11, 12, 31, 30, 3, 18, 28, 18, 10, 28, 18, 18, 10, 18, 28, 15, 15, 18, 22, 18, 18, 23, 23, 23, 9, 18, 22, 18, 13, 23, 23, 9, 22, 22, 15, 42, 13, 28, 18, 10, 12, 10, 44, 13, 44, 7, 13, 44, 13, 18, 22, 15, 15, 13, 18, 28, 18, 44, 44, 23, 23, 13, 42, 12, 12, 44, 7, 23, 9, 15, 18, 26, 22, 42, 10, 25, 22, 22, 10, 33, 18, 8, 22, 22, 13, -1, 13, 17, 17, 48, 48, 18, 9, 20, 38, 48, 9, 5, 48, 21, 18, 12, 38, 18, 12, 8, 22, 22, 7, 22, 17, 33, 42, 13, 33, 18, 18, 42, 9, 18, 54, 54, 8, 21, 18, 20, 37, 21, 21, 18, 54, 15, -1, 37, 18, 54, 15, 38, 48, 8, 18, 20, 9, 38, 48, 2, 9, 37, 37, 37, 21, 54, -1, 9, 6, 30, 30, 22, 40, 40, 19, 22, 30, 9, 40, 40, 12, 22, 11, 40, 24, 24, 24, 45, 35, 19, 24, 24, 45, 45, 45, 23, 23, 29, 13, 23, 11, 13, 45, 45, 19, 14, 50, 58, 10, 50, 58, 15, 10, 81, 27, 21, 28, 22, 24, 22, 22, 19, 81, 81, 18, 18, 56, 21, 71, 50, 50, 19, 19, 81, 28, 22, 24, 19, 9, 40, 19, 30, 12, -1, 19, 11, 30, 30, 3, 14, 14, 10, 58, 58, 2, 9, 9, 81, 56, 56, 56, 19, 19, 71, 45, 4, 35, 19, 37, 35, 35, 11, 29, 29, 24, 4, 35, 35, 19, 11, 23, 23, 10, 19, 25, 10, 23, 23, 23, 24, 19, 19, 25, 19, 58, 58, 58, 41, 43, 43, 32, 22, 22, 58, 29, 41, 41, 25, 43, 43, 43, 32, 58, 58, 29, 41, 3, 43, 22, 10, 10, 7, 44, 14, 44, 14, 29, 25, 43, 32, 44, 44, 13, 12, 13, 22, 27, 13, 13, 22, 22, 50, 81, 81, 56, 21, 28, 19, 71, 71, 58, 22, 19, 18, 21, 22, 22, 24, 71, 5, 50, 50, 58, 15, 22, 22, 81, 81, 81, 81, 81, 18, 56, 56, 56, 27, 27, 21, 21, 28, 28, 19, 22, 71, 71, 12, 27, 19, 13, 18, -1, 18, 19, 0, 33, 33, 8, 63, 63, 33, 33, -1, 17, 6, 4, 13, 10, 10, 24, 25, 19, 15, 41, 41, 23, 23, 11, 11, 12, 12, 40, 40, 8, 30, 10, 15, 41, 40, 41, 23, 40, 9, 30, 23, 23, 24, 24, 25, 19, 58, 41, 41, 41, 11, 43, 32, 23, 19, 25, 19, 44, 8, 6, 14, -1, 25, 25, 32, 15, 41, 41, 41, 23, 58, 58, 29, 29, 25, 22, 4, 35, 35, 6, 14, 44, 27, 13, 22, 12, 27, 22, 13, 19, 6, 13, 18, 18, 63, 63, 0, 13, 13, 9, 6, 13, 30, 30, 28, 26, 26, 33, 12, 26, 34, 34, 9, 28, 13, 35, 63, 0, 13, 13, 13, 33, 33, 33, 33, 34, 9, 21, 21, 28, 13, 35, 35, 63, 13, 8, 33, 33, 30, 30, 34, 21, 21, 26, 26, 35, 23, 23, 11, 40, 40, 8, 10, 8, 30, 30, 10, 15, 41, 41, 9, 30, 22, -1, 26, 26, 26, 23, 26, 22, 8, 9, 26, 22, 13, 23, 23, 19, 19, 11, 26, 16, 16, 4, 24, 10, 15, 15, 61, 61, 20, 15, 61, 16, 9, 9, 10, 23, 4, 24, 13, 61, 23, 23, 12, 9, 28, 35, 28, 35, 26, 26, 28, 13, 5, 13, 5, 84, 84, 84, 27, 15, 44, 44, 31, 27, 27, 44, 46, 84, 84, 27, 27, 44, 17, 20, 23, 19, 26, 26, 84, 15, 44, 31, 46, 46, 17, -1, 22, 13, 11, 20, 13, 25, 25, 20, 10, 4, 21, 44, 13, 21, 13, 9, 13, 21, 44, 13, 25, -1, 23, 16, 10, 44, 15, 49, 5, 20, 18, 22, 26, 22, 13, 13, 25, 59, 59, 13, 12, 12, 59, 59, 59, 15, 10, 10, 14, 8, 34, 10, 11, 26, 25, 59, 59, 15, 7, 13, 15, 14, 34, 34, 13, 12, 84, 44, 44, 46, 46, 7, 12, 84, -1, 15, 15, -1, 44, 31, 20, 12, 84, 27, 15, 31, 46, 7, 35, 18, 11, 17, 17, 30, 30, 35, 35, 23, 23, 23, 10, 11, 24, 17, 7, 35, 20, 2, 35, 10, 24, 30, 30, 7, 35, 25, 8, 23, 23, 35, 24, 30, 15, 4, 13, 8, -1, 20, 13, 10, 20, 31, 25, 27, 32, 16, 16, 24, 20, 18, 13, 24, 17, 11, 24, 12, 18, 21, 44, 15, 49, 11, 27, 32, 16, 20, 18, 24, 17, 17, 17, 49, 49, 11, 27, 9, 30, 16, 16, 16, -1, 24, 10, 20, 13, 24, 10, 18, 18, 22, 11, 26, 26, 26, 25, 10, 22, 20, 11, 26, 33, 14, 10, 25, 21, 15, 21, 26, 33, 15, 34, 34, 7, 14, 8, 21, 33, 12, 4, 7, 14, 23, 18, 11, 24, 30, 35, 35, 20, 35, 9, 8, 35, 20, 35, 23, 18, 35, 6, 9, 24, 12, 12, 24, 19, 12, 22, 22, 22, 12, 19, 11, 31, 31, 25, 25, 30, 32, 16, 11, 11, 24, 20, 20, 24, 17, 17, 16, 31, 27, 27, 9, 30, 23, 23, 19, 42, 25, 21, 12, 20, 13, 17, 20, 12, 42, 20, 25, 31, 31, 25, 30, 32, 32, 16, 11, -1, 6, 20, 25, 21, 26, 26, 20, 9, 42, 20, 7, 20, 35, 35, 35, 55, 41, 41, 24, 55, 55, 55, 55, 41, 41, 33, 24, 55, -1, 8, 8, 26, 22, 22, 22, 22, 24, -1, 12, 12, 26, 7, 33, 14, 4, 0, -1, 40, 40, 40, 71, 19, 10, 13, 13, 19, 71, 47, 47, 35, 9, 9, 71, 9, 47, 8, 19, 21, 23, 12, 71, 12, 47, 47, 35, 35, 35, 26, 23, 23, 21, 26, 43, 7, 24, 13, 13, 13, 12, 43, 4, 12, 4, 12, 7, 21, 9, 22, 16, 16, 12, 19, 16, 45, 6, 4, 4, 25, 21, 45, 5, 6, 45, 20, 4, 12, 10, 17, 28, 28, 21, 21, 4, 0, 28, 21, 21, 23, 20, 26, 23, 19, 19, 21, 26, 26, 21, 45, 2, 12, 19, 19, 10, 17, 17, 30, 17, 20, 19, 41, 24, 24, 17, 16, 41, 35, 35, 35, 16, 41, 35, 20, 35, 24, 16, 16, 21, 21, 13, 4, 9, 2, 41, 35, 35, 18, 18, 20, 35, 24, 21, 17, 20, -1, 12, 35, 55, 22, 22, 8, 6, 25, 7, 23, 22, 22, 8, 25, 12, 24, 55, 55, 41, 41, 24, 35, 35, 55, 41, 46, 26, 25, 11, 3, 19, 19, 14, 25, 25, 25, 31, 31, 46, 46, 7, 23, 10, 25, 25, 26, 31, 31, 19, 25, 11, 22, 40, 40, 9, 40, 40, 40, 10, 71, 2, 35, 19, 19, 19, 19, -1, 71, 35, 36, 71, 71, 71, 9, 12, 35, 36, 36, 11, 11, 9, -1, 10, 24, 10, 10, 10, 11, 10, 21, -1, 13, 23, 12, 21, 26, 11, 4, 12, 21, 21, 12, 12, 24, 24, 24, 43, 12, 24, -1, 24, 20, 17, 30, 30, 17, 16, 45, 45, 5, 20, 30, 17, 18, 12, 12, 12, 6, 35, 24, 24, 16, 2, 20, 20, 41, 41, 35, 20, 24, 16, 18, 35, 21, 16, 2, 13, 76, 35, 28, 2, 9, 76, 76, 30, 31, 31, 39, 39, 76, 30, 10, 31, 31, 28, 22, 6, 22, 23, 23, 23, 23, 24, 10, 25, 12, 7, 76, 7, 35, 31, 39, 39, 28, 30, 30, 26, 25, 31, 19, 14, 46, -1, 25, 14, 46, 36, 26, 26, 12, 14, 12, 40, 12, 26, 3, 40, 40, 40, 20, 6, 6, 26, 26, 12, 30, 30, 10, 12, 30, 12, 8, -1, 30, 38, 24, 38, 10, 13, 11, 38, 9, 13, 10, 23, 6, 23, 30, 30, 30, 40, 40, 17, 40, 17, 13, 30, 30, 7, 15, 6, 6, 12, 40, 17, 17, 13, 11, 15, 17, 12, 17, 11, 45, 17, 36, 26, 26, 36, 23, 24, 12, 4, 31, 26, 45, 45, 17, 17, 4, 31, 26, 12, 18, 9, 26, 18, -1, 24, 24, 18, 31, 26, 18, 26, 26, 31, 31, 12, 36, 12, 28, 12, 10, 10, 20, 31, 18, 18, 12, 12, 8, 8, 11, -1, 17, 17, 8, 28, 28, 19, 19, 76, 76, 7, 30, 35, 7, 76, 76, -1, 10, 31, 39, 39, -1, 27, -1, 27, 17, 7, 8, 16, -1, 17, 27, 27, 25, 16, 12, 10, 2, 20, 20, 25, 26, 26, 12, 30, 10, 10, 23, 12, 23, 23, 40, 40, 30, 2, 13, 13, 30, 11, 12, 31, 31, 12, 4, 26, 26, 45, 45, 17, 36, 9, 23, 23, 23, 4, 31, 12, 36, 23, 10, 33, 9, 26, 31, 33, 9, 26, 26, 26, 26, 26, 31, 26, -1, 28, 28, 20, 4, 4, 17, 16, 11, 16, 16, 11, -1, -1, 27, -1, 16, 27, 17, 25, 25, 16, 16, 12, 21, 24, 37, 37, 22, 11, 13, 11, 12, 31, 15, 25, 25, 22, 26, 26, 26, 13, 42, 13, 44, 44, 33, 33, 18, 42, 38, 38, 38, 48, 21, 21, 18, 9, 9, 18, 12, 37, 21, 12, 40, 29, 37, 11, 5, 58, 58, 81, 56, 56, 27, 27, 24, 71, 24, 58, 58, -1, 29, 29, 41, 11, 4, 2, 44, 35, 6, 13, 12, 13, 13, 13, 9, 11, 12, 40, 30, 30, 26, 26, 35, 22, 26, 23, 8, 19, 11, 26, 13, 13, 61, 9, 13, 5, 10, 10, 20, 12, 27, 31, 17, 20, 25, 8, -1, 10, 13, 44, 15, 49, 49, 18, 20, 20, 25, 12, 59]\n"
       ]
      }
     ],
     "prompt_number": 168
    },
    {
     "cell_type": "code",
     "collapsed": false,
     "input": [
      "34 37\n",
      "# now we are going to create an array of the medians of all these categories, so we can pull out the extremes on both ends\n",
      "\n",
      "category_median_scores_array = [numpy.median(african_scores),\n",
      "numpy.median(american_scores),\n",
      "numpy.median(asian_scores),\n",
      "numpy.median(cajun_scores),\n",
      "numpy.median(caribbean_scores),\n",
      "numpy.median(chinese_scores),\n",
      "numpy.median(easternEuropean_scores),\n",
      "numpy.median(egyptian_scores),\n",
      "numpy.median(french_scores),\n",
      "numpy.median(german_scores),\n",
      "numpy.median(greek_scores),\n",
      "numpy.median(indian_scores),\n",
      "numpy.median(indonesian_scores),\n",
      "numpy.median(italian_scores),\n",
      "numpy.median(japanese_scores),\n",
      "numpy.median(jewish_scores),\n",
      "numpy.median(korean_scores),\n",
      "numpy.median(latin_scores),\n",
      "numpy.median(mediterranean_scores),\n",
      "numpy.median(mexican_scores),\n",
      "numpy.median(middleEastern_scores),\n",
      "numpy.median(russian_scores),\n",
      "numpy.median(southwestern_scores),\n",
      "numpy.median(thai_scores),\n",
      "numpy.median(other_scores),\n",
      "numpy.median(afghan_scores),\n",
      "numpy.median(armenian_scores),\n",
      "numpy.median(australian_scores),\n",
      "numpy.median(barbecue_scores),\n",
      "numpy.median(bottledBeverages_scores),\n",
      "numpy.median(brazilian_scores),\n",
      "numpy.median(coffee_scores),\n",
      "numpy.median(chicken_scores),\n",
      "numpy.median(chilean_scores),\n",
      "numpy.median(chineseCuban_scores),\n",
      "numpy.median(chineseJapanese_scores),\n",
      "numpy.median(continental_scores),\n",
      "numpy.median(creole_scores),\n",
      "numpy.median(creoleCajun_scores),\n",
      "numpy.median(czech_scores),\n",
      "numpy.median(delicatessen_scores),\n",
      "numpy.median(vietCamMal_scores),\n",
      "numpy.median(donuts_scores),\n",
      "numpy.median(english_scores),\n",
      "numpy.median(ethiopian_scores),\n",
      "numpy.median(filipino_scores),\n",
      "numpy.median(fruitsVeg_scores),\n",
      "numpy.median(hamburgers_scores),\n",
      "numpy.median(hawaiian_scores),\n",
      "numpy.median(hotdogs_scores),\n",
      "numpy.median(hotdogsPretzels_scores),\n",
      "numpy.median(iceCream_scores),\n",
      "numpy.median(iranian_scores),\n",
      "numpy.median(juice_scores),\n",
      "numpy.median(moroccan_scores),\n",
      "numpy.median(nutsConfectionary_scores),\n",
      "numpy.median(pakistani_scores),\n",
      "numpy.median(pancakesWaffles_scores),\n",
      "numpy.median(peruvian_scores),\n",
      "numpy.median(pizza_scores),\n",
      "numpy.median(pizzaItalian_scores),\n",
      "numpy.median(polish_scores),\n",
      "numpy.median(polynesian_scores),\n",
      "numpy.median(portuguese_scores),\n",
      "numpy.median(salads_scores),\n",
      "numpy.median(sandwiches_scores),\n",
      "numpy.median(sandwichesSalads_scores),\n",
      "numpy.median(scandinavian_scores),\n",
      "numpy.median(seafood_scores),\n",
      "numpy.median(soulFood_scores),\n",
      "numpy.median(soups_scores),\n",
      "numpy.median(soupsSandwiches_scores),\n",
      "numpy.median(spanish_scores),\n",
      "numpy.median(steak_scores),\n",
      "numpy.median(tapas_scores),\n",
      "numpy.median(texMex_scores),\n",
      "numpy.median(turkish_scores),\n",
      "numpy.median(vegetarian_scores),\n",
      "numpy.median(notListed_scores)]"
     ],
     "language": "python",
     "metadata": {},
     "outputs": [],
     "prompt_number": 181
    },
    {
     "cell_type": "code",
     "collapsed": false,
     "input": [
      "#what does this array of category medians look like\n",
      "\n",
      "print category_median_scores_array "
     ],
     "language": "python",
     "metadata": {},
     "outputs": [
      {
       "output_type": "stream",
       "stream": "stdout",
       "text": [
        "[23.0, 5.0, 23.0, 19.0, 21.0, 22.0, 19.0, 13.0, 19.0, 21.0, 18.0, 23.0, 22.0, 20.0, 22.0, 20.0, 22.0, 22.0, 19.0, 21.0, 17.0, 19.0, 21.0, 22.0, 10.0, 22.0, 15.0, 13.0, 21.0, 16.0, 20.0, 15.0, 17.0, 16.0, 27.0, 24.0, 19.5, 26.5, 31.0, 18.0, 22.0, 22.0, 13.0, 19.0, 14.0, 23.0, 12.0, 15.0, 14.0, 18.0, 13.0, 13.0, 15.0, 13.0, 19.0, 12.0, 23.0, 20.0, 23.0, 19.0, 20.0, 21.0, 26.0, 21.0, 17.5, 13.0, 16.0, 21.0, 20.0, 22.0, 9.0, 12.0, 21.0, 18.0, 17.0, 19.0, 21.0, 20.0, 16.0]\n"
       ]
      }
     ],
     "prompt_number": 182
    },
    {
     "cell_type": "code",
     "collapsed": false,
     "input": [
      "#awesome, what is the median of these median scores?\n",
      "\n",
      "numpy.median(category_median_scores_array)"
     ],
     "language": "python",
     "metadata": {},
     "outputs": [
      {
       "metadata": {},
       "output_type": "pyout",
       "prompt_number": 183,
       "text": [
        "19.0"
       ]
      }
     ],
     "prompt_number": 183
    },
    {
     "cell_type": "code",
     "collapsed": false,
     "input": [
      "#let's run the numbers on this median dataset\n",
      "\n",
      "from scipy import stats\n",
      "\n",
      "n, min_max, mean, var, skew, kurt = stats.describe(category_median_scores_array)\n",
      "print n # num of items in database\n",
      "print min_max # min and max values\n",
      "print mean # average\n",
      "print var #variance\n",
      "print skew # biased to one side or another\n",
      "print kurt"
     ],
     "language": "python",
     "metadata": {},
     "outputs": [
      {
       "output_type": "stream",
       "stream": "stdout",
       "text": [
        "79\n",
        "(5.0, 31.0)\n",
        "18.6898734177\n",
        "19.335280753\n",
        "-0.361614046198\n",
        "0.598821757912\n"
       ]
      }
     ],
     "prompt_number": 184
    },
    {
     "cell_type": "code",
     "collapsed": false,
     "input": [
      "# so 5 is our best category and 31 is our worst\n",
      "# let's figure out the 3-best scoring categories and 3 worst scoring categories\n",
      "\n",
      "#first sort the data\n",
      "\n",
      "sort = cbook.Sorter()\n",
      "sort(category_median_scores_array) # sort the data"
     ],
     "language": "python",
     "metadata": {},
     "outputs": [
      {
       "metadata": {},
       "output_type": "pyout",
       "prompt_number": 185,
       "text": [
        "[5.0,\n",
        " 9.0,\n",
        " 10.0,\n",
        " 12.0,\n",
        " 12.0,\n",
        " 12.0,\n",
        " 13.0,\n",
        " 13.0,\n",
        " 13.0,\n",
        " 13.0,\n",
        " 13.0,\n",
        " 13.0,\n",
        " 13.0,\n",
        " 14.0,\n",
        " 14.0,\n",
        " 15.0,\n",
        " 15.0,\n",
        " 15.0,\n",
        " 15.0,\n",
        " 16.0,\n",
        " 16.0,\n",
        " 16.0,\n",
        " 16.0,\n",
        " 17.0,\n",
        " 17.0,\n",
        " 17.0,\n",
        " 17.5,\n",
        " 18.0,\n",
        " 18.0,\n",
        " 18.0,\n",
        " 18.0,\n",
        " 19.0,\n",
        " 19.0,\n",
        " 19.0,\n",
        " 19.0,\n",
        " 19.0,\n",
        " 19.0,\n",
        " 19.0,\n",
        " 19.0,\n",
        " 19.0,\n",
        " 19.5,\n",
        " 20.0,\n",
        " 20.0,\n",
        " 20.0,\n",
        " 20.0,\n",
        " 20.0,\n",
        " 20.0,\n",
        " 20.0,\n",
        " 21.0,\n",
        " 21.0,\n",
        " 21.0,\n",
        " 21.0,\n",
        " 21.0,\n",
        " 21.0,\n",
        " 21.0,\n",
        " 21.0,\n",
        " 21.0,\n",
        " 21.0,\n",
        " 22.0,\n",
        " 22.0,\n",
        " 22.0,\n",
        " 22.0,\n",
        " 22.0,\n",
        " 22.0,\n",
        " 22.0,\n",
        " 22.0,\n",
        " 22.0,\n",
        " 22.0,\n",
        " 23.0,\n",
        " 23.0,\n",
        " 23.0,\n",
        " 23.0,\n",
        " 23.0,\n",
        " 23.0,\n",
        " 24.0,\n",
        " 26.0,\n",
        " 26.5,\n",
        " 27.0,\n",
        " 31.0]"
       ]
      }
     ],
     "prompt_number": 185
    },
    {
     "cell_type": "code",
     "collapsed": false,
     "input": [
      "numpy.median(other_scores)"
     ],
     "language": "python",
     "metadata": {},
     "outputs": [
      {
       "metadata": {},
       "output_type": "pyout",
       "prompt_number": 199,
       "text": [
        "10.0"
       ]
      }
     ],
     "prompt_number": 199
    },
    {
     "cell_type": "markdown",
     "metadata": {},
     "source": [
      "So, scores of 5, 9 and 10 are best, and 26.5, 27, 31 are the worst\n",
      "\n",
      "5 --> American Restaurants (best)\n",
      "\n",
      "9 --> Soup Restaurants (2nd best)\n",
      "\n",
      "10 --> \"Other\" Restaurants (3rd best)\n",
      "\n",
      "26.5 --> Creole Restaurants (3rd worst)\n",
      "\n",
      "27 --> Chinese Cuban Restaurants (2nd worst)\n",
      "\n",
      "31 --> Creole Cajun Restaurants (worst)"
     ]
    },
    {
     "cell_type": "code",
     "collapsed": false,
     "input": [],
     "language": "python",
     "metadata": {},
     "outputs": []
    }
   ],
   "metadata": {}
  }
 ]
}